{
 "cells": [
  {
   "cell_type": "markdown",
   "metadata": {},
   "source": [
    "## read index from mysql"
   ]
  },
  {
   "cell_type": "code",
   "execution_count": 1,
   "metadata": {},
   "outputs": [],
   "source": [
    "import os\n",
    "os.environ['CUDA_VISIBLE_DEVICES'] = '2'"
   ]
  },
  {
   "cell_type": "code",
   "execution_count": 2,
   "metadata": {},
   "outputs": [],
   "source": [
    "import os\n",
    "\n",
    "import pymysql\n",
    "from warnings import filterwarnings\n",
    "\n",
    "_connection = None\n",
    "\n",
    "def get_connection(db_config):\n",
    "    \"\"\"\n",
    "    get db connection\n",
    "    :return:\n",
    "    \"\"\"\n",
    "    global _connection\n",
    "    if _connection is None:\n",
    "        _connection = pymysql.connect(host=db_config['host'], user=db_config['username'],\n",
    "                                      password=db_config['password'],\n",
    "                                      db=db_config['db'], charset=\"utf8\")\n",
    "        filterwarnings('ignore', category=pymysql.Warning)\n",
    "\n",
    "    return _connection\n",
    "\n",
    "\n",
    "def close():\n",
    "    \"\"\"\n",
    "    close DB connection\n",
    "    :return:\n",
    "    \"\"\"\n",
    "    global _connection\n",
    "    if _connection is not None:\n",
    "        _connection.close()\n",
    "    _connection = None"
   ]
  },
  {
   "cell_type": "code",
   "execution_count": 3,
   "metadata": {},
   "outputs": [],
   "source": [
    "db = {\n",
    "    'host': '172.26.187.242',\n",
    "    'username': 'malware_r',\n",
    "    'password': 'GEg22v2O7jbfWhb3',\n",
    "    'db': 'malware'\n",
    "}"
   ]
  },
  {
   "cell_type": "code",
   "execution_count": 27,
   "metadata": {},
   "outputs": [],
   "source": [
    "import time\n",
    "\n",
    "def get_specific_data(table_suffix, sql=None):\n",
    "    start_time = time.time()\n",
    "    \n",
    "    global _connection\n",
    "    if _connection is None:\n",
    "        raise Exception(\"please init db connect first\")\n",
    "\n",
    "    cursor = _connection.cursor()\n",
    "    cursor.execute(\"SET NAMES utf8mb4\")\n",
    "\n",
    "    ret = []\n",
    "    \n",
    "    sql1 = \"\"\"\n",
    "select\n",
    "  a.mw_file_hash,\n",
    "  a.section_name,\n",
    "  c.mw_file_suffix as mw_file_size,\n",
    "  c.mw_file_prefix as mw_file_directory,\n",
    "  c.mw_num_engines,\n",
    "  a.pointerto_raw_data,\n",
    "  a.virtual_size,\n",
    "  d.mw_em_f\n",
    "from mw_index_2017_section_%s as a\n",
    "  right join mw_index_2017_%s c on a.mw_file_hash = c.mw_file_hash\n",
    "  right join mw_index_2017_feature_%s d on a.mw_file_hash = d.mw_file_hash\n",
    "where a.section_name = '.text' and c.mw_num_engines <> -1 and (c.mw_num_engines > 8 or c.mw_num_engines < 4) and\n",
    "      c.mw_file_prefix in ('201701')\n",
    "group by mw_file_hash\n",
    "    \"\"\" % (table_suffix, table_suffix, table_suffix)\n",
    "        \n",
    "    \n",
    "    sql2 = \"\"\"\n",
    "select\n",
    "  b.mw_file_hash,\n",
    "  b.mw_file_prefix as mw_file_directory,\n",
    "  b.mw_file_suffix as mw_file_size,\n",
    "  b.mw_num_engines,\n",
    "  a.section_name,\n",
    "  a.virtual_size,\n",
    "  a.pointerto_raw_data,\n",
    "  c.mw_em_f\n",
    "from mw_index_2017_section_%s a\n",
    "  inner join mw_index_2017_%s b on a.mw_file_hash = b.mw_file_hash\n",
    "  inner join mw_index_2017_feature_%s c on a.mw_file_hash = c.mw_file_hash\n",
    "where MEM_EXECUTE = 1 and (mw_num_engines >= 8 or mw_num_engines = 0) and mw_num_engines <> -1\n",
    "      and mw_file_prefix in ('201701')\n",
    "group by b.mw_file_hash;\n",
    "    \"\"\" % (table_suffix, table_suffix, table_suffix)\n",
    "    \n",
    "    \n",
    "    sql3 = \"\"\"\n",
    "select\n",
    "  mw_file_hash,\n",
    "  mw_file_prefix as mw_file_directory,\n",
    "  mw_file_suffix as mw_file_size,\n",
    "  mw_num_engines\n",
    "from mw_index_2017_%s\n",
    "where (mw_num_engines > 8 or mw_num_engines < 4) and mw_num_engines <> -1\n",
    "      and mw_file_prefix in ('201705');\n",
    "    \"\"\" % table_suffix\n",
    "        \n",
    "        \n",
    "    sql4 = \"\"\"\n",
    "select\n",
    "  b.mw_file_hash,\n",
    "  mw_file_prefix as mw_file_directory,\n",
    "  mw_file_suffix as mw_file_size,\n",
    "  mw_num_engines,\n",
    "  a.virtual_size,\n",
    "  a.pointerto_raw_data\n",
    "from mw_index_2017_section_%s a\n",
    "  inner join mw_index_2017_%s b on a.mw_file_hash = b.mw_file_hash\n",
    "where (mw_num_engines >= 8 or mw_num_engines = 0) and mw_num_engines <> -1\n",
    "      and mw_file_prefix in ('201701')\n",
    "group by b.mw_file_hash;\n",
    "    \"\"\" % (table_suffix, table_suffix)\n",
    "        \n",
    "    sql5 = \"\"\"\n",
    "select\n",
    "  a.mw_file_hash,\n",
    "  c.mw_file_prefix as mw_file_directory,\n",
    "  c.mw_file_suffix as mw_file_size,\n",
    "  c.mw_num_engines,\n",
    "  b.section_name,\n",
    "  b.virtual_size,\n",
    "  b.pointerto_raw_data,\n",
    "  d.mw_em_f\n",
    "from (select\n",
    "        mw_file_hash,\n",
    "        section_name,\n",
    "        count(1) as cnt\n",
    "      from mw_index_2017_section_%s\n",
    "      where section_name = '.text' and pointerto_raw_data <> 0\n",
    "      group by mw_file_hash, section_name) a inner join mw_index_2017_section_%s b\n",
    "    on a.mw_file_hash = b.mw_file_hash and a.cnt = 1 and b.section_name = '.text'\n",
    "  inner join mw_index_2017_%s c on a.mw_file_hash = c.mw_file_hash and (c.mw_num_engines > 8 or c.mw_num_engines = 0) and c.mw_num_engines<> -1 and c.mw_file_prefix = '201701'\n",
    "  inner join mw_index_2017_feature_%s d on a.mw_file_hash = d.mw_file_hash\n",
    "    \"\"\" % (table_suffix, table_suffix, table_suffix, table_suffix)\n",
    "    \n",
    "    if sql is None:\n",
    "        sql = sql5\n",
    "    cursor.execute(sql)\n",
    "\n",
    "    field_names = [i[0] for i in cursor.description]\n",
    "\n",
    "    for row in cursor:\n",
    "        temp = {}\n",
    "        for key in range(len(row)):\n",
    "            temp[field_names[key]] = row[key]\n",
    "        ret.append(temp)\n",
    "     \n",
    "    cursor.close()\n",
    "    # _connection.close()\n",
    "    print(\"--- %s seconds ---\" % (time.time() - start_time))\n",
    "    \n",
    "    return ret"
   ]
  },
  {
   "cell_type": "code",
   "execution_count": 28,
   "metadata": {},
   "outputs": [
    {
     "name": "stdout",
     "output_type": "stream",
     "text": [
      "--- 7.133002519607544 seconds ---\n",
      "--- 10.563770055770874 seconds ---\n",
      "--- 8.619175434112549 seconds ---\n",
      "--- 8.970360040664673 seconds ---\n",
      "--- 9.234475135803223 seconds ---\n",
      "--- 9.533116340637207 seconds ---\n",
      "--- 9.597068548202515 seconds ---\n",
      "--- 9.243732213973999 seconds ---\n",
      "--- 8.13450002670288 seconds ---\n",
      "--- 9.975507736206055 seconds ---\n",
      "--- 9.54612398147583 seconds ---\n",
      "--- 9.939478397369385 seconds ---\n",
      "--- 9.381024360656738 seconds ---\n",
      "--- 9.055209159851074 seconds ---\n",
      "--- 8.604273319244385 seconds ---\n",
      "--- 8.617358684539795 seconds ---\n",
      "114436\n"
     ]
    }
   ],
   "source": [
    "close()\n",
    "res = []\n",
    "get_connection(db)\n",
    "table_suffix = [\"0\",\"1\",\"2\",\"3\",\"4\",\"5\",\"6\",\"7\",\"8\",\"9\",\"A\",\"B\",\"C\",\"D\",\"E\",\"F\"]\n",
    "for suffix in table_suffix:\n",
    "    res.extend(get_specific_data(suffix))\n",
    "close()\n",
    "print(len(res))"
   ]
  },
  {
   "cell_type": "markdown",
   "metadata": {},
   "source": [
    "## check and split data"
   ]
  },
  {
   "cell_type": "code",
   "execution_count": 29,
   "metadata": {},
   "outputs": [],
   "source": [
    "import pandas as pd\n",
    "data = pd.DataFrame(res)"
   ]
  },
  {
   "cell_type": "code",
   "execution_count": 30,
   "metadata": {},
   "outputs": [
    {
     "data": {
      "text/html": [
       "<div>\n",
       "<style scoped>\n",
       "    .dataframe tbody tr th:only-of-type {\n",
       "        vertical-align: middle;\n",
       "    }\n",
       "\n",
       "    .dataframe tbody tr th {\n",
       "        vertical-align: top;\n",
       "    }\n",
       "\n",
       "    .dataframe thead th {\n",
       "        text-align: right;\n",
       "    }\n",
       "</style>\n",
       "<table border=\"1\" class=\"dataframe\">\n",
       "  <thead>\n",
       "    <tr style=\"text-align: right;\">\n",
       "      <th></th>\n",
       "      <th>mw_em_f</th>\n",
       "      <th>mw_file_directory</th>\n",
       "      <th>mw_file_hash</th>\n",
       "      <th>mw_file_size</th>\n",
       "      <th>mw_num_engines</th>\n",
       "      <th>pointerto_raw_data</th>\n",
       "      <th>section_name</th>\n",
       "      <th>virtual_size</th>\n",
       "    </tr>\n",
       "  </thead>\n",
       "  <tbody>\n",
       "    <tr>\n",
       "      <th>0</th>\n",
       "      <td>0.30814531445503235;0.004307170398533343;0.003...</td>\n",
       "      <td>201701</td>\n",
       "      <td>0000A3EAB7F06DB29113F7BDE61328D56BC874B16DD895...</td>\n",
       "      <td>_339434</td>\n",
       "      <td>11</td>\n",
       "      <td>1024</td>\n",
       "      <td>.text</td>\n",
       "      <td>13352</td>\n",
       "    </tr>\n",
       "    <tr>\n",
       "      <th>1</th>\n",
       "      <td>0.013131157495081423;0.004108430817723274;0.00...</td>\n",
       "      <td>201701</td>\n",
       "      <td>00015BCA398B78199C5442DB5B28D14405549FB135FA69...</td>\n",
       "      <td>_2098368</td>\n",
       "      <td>0</td>\n",
       "      <td>1024</td>\n",
       "      <td>.text</td>\n",
       "      <td>25467</td>\n",
       "    </tr>\n",
       "    <tr>\n",
       "      <th>2</th>\n",
       "      <td>0.04739173501729965;0.006257581990212202;0.004...</td>\n",
       "      <td>201701</td>\n",
       "      <td>0001A015A6A97803F557AA84E9606DA2FA7E56E1207FAA...</td>\n",
       "      <td>_177225</td>\n",
       "      <td>10</td>\n",
       "      <td>1024</td>\n",
       "      <td>.text</td>\n",
       "      <td>13352</td>\n",
       "    </tr>\n",
       "    <tr>\n",
       "      <th>3</th>\n",
       "      <td>0.3064397275447845;0.0044606528244912624;0.003...</td>\n",
       "      <td>201701</td>\n",
       "      <td>000224C4A60B9A3489D16B5F67DEF609EBA09087D12645...</td>\n",
       "      <td>_336722</td>\n",
       "      <td>10</td>\n",
       "      <td>1024</td>\n",
       "      <td>.text</td>\n",
       "      <td>13352</td>\n",
       "    </tr>\n",
       "    <tr>\n",
       "      <th>4</th>\n",
       "      <td>0.1969459056854248;0.003335272427648306;0.0034...</td>\n",
       "      <td>201701</td>\n",
       "      <td>00024A23DC68300349FB342CD1066D195CCA4045744958...</td>\n",
       "      <td>_103140</td>\n",
       "      <td>12</td>\n",
       "      <td>512</td>\n",
       "      <td>.text</td>\n",
       "      <td>77824</td>\n",
       "    </tr>\n",
       "  </tbody>\n",
       "</table>\n",
       "</div>"
      ],
      "text/plain": [
       "                                             mw_em_f mw_file_directory  \\\n",
       "0  0.30814531445503235;0.004307170398533343;0.003...            201701   \n",
       "1  0.013131157495081423;0.004108430817723274;0.00...            201701   \n",
       "2  0.04739173501729965;0.006257581990212202;0.004...            201701   \n",
       "3  0.3064397275447845;0.0044606528244912624;0.003...            201701   \n",
       "4  0.1969459056854248;0.003335272427648306;0.0034...            201701   \n",
       "\n",
       "                                        mw_file_hash mw_file_size  \\\n",
       "0  0000A3EAB7F06DB29113F7BDE61328D56BC874B16DD895...      _339434   \n",
       "1  00015BCA398B78199C5442DB5B28D14405549FB135FA69...     _2098368   \n",
       "2  0001A015A6A97803F557AA84E9606DA2FA7E56E1207FAA...      _177225   \n",
       "3  000224C4A60B9A3489D16B5F67DEF609EBA09087D12645...      _336722   \n",
       "4  00024A23DC68300349FB342CD1066D195CCA4045744958...      _103140   \n",
       "\n",
       "   mw_num_engines  pointerto_raw_data section_name  virtual_size  \n",
       "0              11                1024        .text         13352  \n",
       "1               0                1024        .text         25467  \n",
       "2              10                1024        .text         13352  \n",
       "3              10                1024        .text         13352  \n",
       "4              12                 512        .text         77824  "
      ]
     },
     "execution_count": 30,
     "metadata": {},
     "output_type": "execute_result"
    }
   ],
   "source": [
    "data.head()"
   ]
  },
  {
   "cell_type": "code",
   "execution_count": 31,
   "metadata": {},
   "outputs": [
    {
     "name": "stdout",
     "output_type": "stream",
     "text": [
      "(92888, 8)\n"
     ]
    },
    {
     "name": "stderr",
     "output_type": "stream",
     "text": [
      "/home/zhaoqi/anaconda3/envs/tf/lib/python3.5/site-packages/matplotlib/axes/_axes.py:6462: UserWarning: The 'normed' kwarg is deprecated, and has been replaced by the 'density' kwarg.\n",
      "  warnings.warn(\"The 'normed' kwarg is deprecated, and has been \"\n"
     ]
    },
    {
     "data": {
      "image/png": "[encoded data removed]",
      "text/plain": [
       "<Figure size 432x288 with 1 Axes>"
      ]
     },
     "metadata": {},
     "output_type": "display_data"
    }
   ],
   "source": [
    "import numpy as np\n",
    "import scipy.stats as stats\n",
    "import pylab as pl\n",
    "\n",
    "clean_data = data.loc[data.virtual_size <= 300000]\n",
    "clean_data = clean_data.reset_index(drop=True)\n",
    "\n",
    "print(clean_data.shape)\n",
    "\n",
    "h = sorted(clean_data.virtual_size.ravel())  #sorted\n",
    "\n",
    "fit = stats.norm.pdf(h, np.mean(h), np.std(h))  #this is a fitting indeed\n",
    "\n",
    "pl.plot(h,fit,'-o')\n",
    "\n",
    "pl.hist(h,normed=True)      #use this to draw histogram of your data\n",
    "\n",
    "pl.show()                   #use may also need add this "
   ]
  },
  {
   "cell_type": "code",
   "execution_count": 32,
   "metadata": {},
   "outputs": [
    {
     "name": "stderr",
     "output_type": "stream",
     "text": [
      "/home/zhaoqi/anaconda3/envs/tf/lib/python3.5/site-packages/ipykernel_launcher.py:1: SettingWithCopyWarning: \n",
      "A value is trying to be set on a copy of a slice from a DataFrame\n",
      "\n",
      "See the caveats in the documentation: http://pandas.pydata.org/pandas-docs/stable/indexing.html#indexing-view-versus-copy\n",
      "  \"\"\"Entry point for launching an IPython kernel.\n",
      "/home/zhaoqi/anaconda3/envs/tf/lib/python3.5/site-packages/ipykernel_launcher.py:2: SettingWithCopyWarning: \n",
      "A value is trying to be set on a copy of a slice from a DataFrame\n",
      "\n",
      "See the caveats in the documentation: http://pandas.pydata.org/pandas-docs/stable/indexing.html#indexing-view-versus-copy\n",
      "  \n"
     ]
    },
    {
     "data": {
      "text/plain": [
       "array([1, 0, 1, ..., 0, 0, 0])"
      ]
     },
     "execution_count": 32,
     "metadata": {},
     "output_type": "execute_result"
    }
   ],
   "source": [
    "clean_data.mw_num_engines[clean_data.mw_num_engines < 4 ] = 0\n",
    "clean_data.mw_num_engines[clean_data.mw_num_engines > 4 ] = 1\n",
    "label = clean_data.mw_num_engines.ravel()\n",
    "label"
   ]
  },
  {
   "cell_type": "markdown",
   "metadata": {},
   "source": [
    "from sklearn.model_selection import train_test_split\n",
    "\n",
    "x_train, x_test, y_train, y_test = train_test_split(clean_data, label, test_size=0.1, random_state=1234)"
   ]
  },
  {
   "cell_type": "markdown",
   "metadata": {},
   "source": [
    "max_length = max(x_train.virtual_size.ravel())\n"
   ]
  },
  {
   "cell_type": "code",
   "execution_count": 33,
   "metadata": {},
   "outputs": [],
   "source": [
    "max_length = 300000"
   ]
  },
  {
   "cell_type": "markdown",
   "metadata": {},
   "source": [
    "x_train = x_train.reset_index(drop=True)\n",
    "x_test = x_test.reset_index(drop=True)"
   ]
  },
  {
   "cell_type": "markdown",
   "metadata": {},
   "source": [
    "# Mal Conv"
   ]
  },
  {
   "cell_type": "code",
   "execution_count": 34,
   "metadata": {},
   "outputs": [],
   "source": [
    "import keras\n",
    "import numpy as np\n",
    "\n",
    "class DataGenerator(keras.utils.Sequence):\n",
    "    'Generates data for Keras'\n",
    "\n",
    "    def __init__(self, list_IDs, datasets, labels, batch_size=32, dim=8192, shuffle=True):\n",
    "        'Initialization'\n",
    "        self.dim = dim\n",
    "        self.batch_size = batch_size\n",
    "        self.labels = labels\n",
    "        self.list_IDs = list_IDs\n",
    "        self.datasets = datasets\n",
    "        self.shuffle = shuffle\n",
    "        self.on_epoch_end()\n",
    "\n",
    "    def __len__(self):\n",
    "        'Denotes the number of batches per epoch'\n",
    "        return int(np.floor(len(self.list_IDs) / self.batch_size))\n",
    "\n",
    "    def __getitem__(self, index):\n",
    "        'Generate one batch of data'\n",
    "        # Generate indexes of the batch\n",
    "        indexes = self.indexes[index * self.batch_size:(index + 1) * self.batch_size]\n",
    "\n",
    "        # Find list of IDs\n",
    "        list_IDs_temp = [self.list_IDs[k] for k in indexes]\n",
    "        # Generate data\n",
    "        X, y = self.__data_generation(list_IDs_temp)\n",
    "\n",
    "        return X, y\n",
    "\n",
    "    def on_epoch_end(self):\n",
    "        'Updates indexes after each epoch'\n",
    "        self.indexes = np.arange(len(self.list_IDs))\n",
    "        if self.shuffle == True:\n",
    "            np.random.shuffle(self.indexes)\n",
    "\n",
    "    def __data_generation(self, list_IDs_temp):\n",
    "        'Generates data containing batch_size samples'  # X : (n_samples, *dim, n_channels)\n",
    "        # Initialization\n",
    "        X = np.zeros((self.batch_size, self.dim), dtype=float)\n",
    "        y = np.zeros(self.batch_size, dtype=float)\n",
    "\n",
    "        # Generate data\n",
    "        for i, ID in enumerate(list_IDs_temp):\n",
    "            base_path = \"/ssd/2017/{0}/{1}{2}\"\n",
    "            item = self.datasets.loc[ID]\n",
    "            file_path = base_path.format(item[\"mw_file_directory\"], item[\"mw_file_hash\"], item[\"mw_file_size\"])\n",
    "            in_file = open(file_path, 'rb')\n",
    "            in_file.seek(item['pointerto_raw_data'])\n",
    "            bytes_data = [int(single_byte) for single_byte in in_file.read(item['virtual_size'])]\n",
    "            X[i, 0:len(bytes_data)] = bytes_data\n",
    "            y[i] = self.labels[ID]\n",
    "\n",
    "        return X, y"
   ]
  },
  {
   "cell_type": "code",
   "execution_count": 35,
   "metadata": {},
   "outputs": [],
   "source": [
    "import hashlib\n",
    "import json\n",
    "import time\n",
    "\n",
    "import keras\n",
    "from keras import Input\n",
    "from keras.callbacks import EarlyStopping, TensorBoard, ModelCheckpoint\n",
    "from keras.layers import Dense, Embedding, Conv1D, Multiply, GlobalMaxPooling1D\n",
    "from keras.models import load_model\n",
    "from sklearn.model_selection import train_test_split\n",
    "\n",
    "class TMalConv(object):\n",
    "    \"\"\"\n",
    "    train of mal conv\n",
    "    \"\"\"\n",
    "\n",
    "    def __init__(self):\n",
    "        self.train_df = clean_data\n",
    "        self.label_df = label\n",
    "        self.v_x = None\n",
    "        self.v_y = None\n",
    "        self.max_len = max_length\n",
    "        self.history = None\n",
    "        self.model = None\n",
    "        self.p_md5 = None\n",
    "        self.summary = {\n",
    "            'time':time.time(),\n",
    "            'batch_size': 32,\n",
    "            'epochs': 16,\n",
    "            's_test_size': 0.05,\n",
    "            's_random_state': 5242,\n",
    "            'g_c_filter': 128,\n",
    "            'g_c_kernel_size': 500,\n",
    "            'g_c_stride': 500,\n",
    "        }\n",
    "\n",
    "    def run(self):\n",
    "        \"\"\"\n",
    "        :return:\n",
    "        \"\"\"\n",
    "        self.train()\n",
    "        \n",
    "    def get_p(self, key):\n",
    "        \"\"\"\n",
    "        get the parameter from the summary\n",
    "        :param key:\n",
    "        :return:\n",
    "        \"\"\"\n",
    "        return self.summary[key]\n",
    "\n",
    "    def gate_cnn(self, gate_cnn_input):\n",
    "        \"\"\"\n",
    "        construct a gated cnn by the specific kernel size\n",
    "        :param gate_cnn_input:\n",
    "        :param kernel_size:\n",
    "        :return:\n",
    "        \"\"\"\n",
    "        conv1_out = Conv1D(self.get_p(\"g_c_filter\"), self.get_p(\"g_c_kernel_size\"), strides=self.get_p(\"g_c_stride\"))(\n",
    "            gate_cnn_input)\n",
    "        conv2_out = Conv1D(self.get_p(\"g_c_filter\"), self.get_p(\"g_c_kernel_size\"), strides=self.get_p(\"g_c_stride\"),\n",
    "                           activation=\"sigmoid\")(gate_cnn_input)\n",
    "        merged = Multiply()([conv1_out, conv2_out])\n",
    "        gate_cnn_output = GlobalMaxPooling1D()(merged)\n",
    "        return gate_cnn_output\n",
    "\n",
    "    def get_model(self):\n",
    "        \"\"\"\n",
    "        get a model\n",
    "        :param max_len:\n",
    "        :param kernel_sizes:\n",
    "        :return:\n",
    "        \"\"\"\n",
    "        net_input = Input(shape=(self.max_len,))\n",
    "\n",
    "        embedding_out = Embedding(256, 8, input_length=self.max_len)(net_input)\n",
    "        merged = self.gate_cnn(embedding_out)\n",
    "\n",
    "        dense_out = Dense(128)(merged)\n",
    "        net_output = Dense(1, activation='sigmoid')(dense_out)\n",
    "\n",
    "        model = keras.models.Model(inputs=net_input, outputs=net_output)\n",
    "\n",
    "        return model\n",
    "\n",
    "    def train(self):\n",
    "        batch_size = self.get_p(\"batch_size\")\n",
    "        epochs = self.get_p(\"epochs\")\n",
    "\n",
    "        self.model = self.get_model()\n",
    "\n",
    "        partition_train, partition_validation = train_test_split(range(len(self.train_df)), test_size=0.05, random_state=1234)\n",
    "        print('Length of the train: ', len(partition_train))\n",
    "        print('Length of the validation: ', len(partition_validation))\n",
    "        \n",
    "#         tensor_board = TensorBoard(log_dir='./logs/', batch_size=batch_size)\n",
    "        file_path = \"/home/zhaoqi/BaseTrain/models/{epoch:04d}-{val_loss:.5f}-{val_acc:.5f}.h5\"\n",
    "#         early_stopping = EarlyStopping(\"val_loss\", patience=2, verbose=0, mode='auto')\n",
    "        check_point = ModelCheckpoint(file_path, monitor='val_loss', verbose=1, save_best_only=False, mode='auto')\n",
    "        callbacks_list = [check_point]\n",
    "\n",
    "        # Generators\n",
    "        training_generator = DataGenerator(partition_train, self.train_df, self.label_df, batch_size, self.max_len)\n",
    "        validation_generator = DataGenerator(partition_validation, self.train_df, self.label_df, batch_size, self.max_len)\n",
    "\n",
    "        self.model.compile(loss='binary_crossentropy',\n",
    "                           optimizer='adam',\n",
    "                           metrics=['accuracy'])\n",
    "\n",
    "        self.model.fit_generator(generator=training_generator,\n",
    "                                 validation_data=validation_generator,\n",
    "                                 use_multiprocessing=True,\n",
    "                                 epochs=epochs,\n",
    "                                 workers=6,\n",
    "                                 callbacks=callbacks_list)"
   ]
  },
  {
   "cell_type": "code",
   "execution_count": 70,
   "metadata": {},
   "outputs": [],
   "source": [
    "from keras.backend.tensorflow_backend import set_session\n",
    "import tensorflow as tf\n",
    "\n",
    "config = tf.ConfigProto()\n",
    "config.gpu_options.allow_growth = False\n",
    "set_session(tf.Session(config=config))\n",
    " "
   ]
  },
  {
   "cell_type": "code",
   "execution_count": 71,
   "metadata": {},
   "outputs": [
    {
     "name": "stdout",
     "output_type": "stream",
     "text": [
      "Length of the train:  88243\n",
      "Length of the validation:  4645\n",
      "Epoch 1/16\n"
     ]
    },
    {
     "name": "stderr",
     "output_type": "stream",
     "text": [
      "Process ForkPoolWorker-290:\n",
      "Process ForkPoolWorker-292:\n",
      "Process ForkPoolWorker-293:\n",
      "Traceback (most recent call last):\n",
      "Traceback (most recent call last):\n",
      "  File \"/home/zhaoqi/anaconda3/envs/tf/lib/python3.5/multiprocessing/process.py\", line 252, in _bootstrap\n",
      "    self.run()\n",
      "  File \"/home/zhaoqi/anaconda3/envs/tf/lib/python3.5/multiprocessing/process.py\", line 252, in _bootstrap\n",
      "    self.run()\n",
      "Traceback (most recent call last):\n",
      "  File \"/home/zhaoqi/anaconda3/envs/tf/lib/python3.5/multiprocessing/process.py\", line 93, in run\n",
      "    self._target(*self._args, **self._kwargs)\n",
      "  File \"/home/zhaoqi/anaconda3/envs/tf/lib/python3.5/multiprocessing/process.py\", line 93, in run\n",
      "    self._target(*self._args, **self._kwargs)\n",
      "  File \"/home/zhaoqi/anaconda3/envs/tf/lib/python3.5/multiprocessing/process.py\", line 252, in _bootstrap\n",
      "    self.run()\n",
      "  File \"/home/zhaoqi/anaconda3/envs/tf/lib/python3.5/multiprocessing/pool.py\", line 119, in worker\n",
      "    result = (True, func(*args, **kwds))\n",
      "  File \"/home/zhaoqi/anaconda3/envs/tf/lib/python3.5/multiprocessing/process.py\", line 93, in run\n",
      "    self._target(*self._args, **self._kwargs)\n",
      "  File \"/home/zhaoqi/anaconda3/envs/tf/lib/python3.5/multiprocessing/pool.py\", line 119, in worker\n",
      "    result = (True, func(*args, **kwds))\n",
      "  File \"/home/zhaoqi/anaconda3/envs/tf/lib/python3.5/multiprocessing/pool.py\", line 119, in worker\n",
      "    result = (True, func(*args, **kwds))\n",
      "  File \"/home/zhaoqi/anaconda3/envs/tf/lib/python3.5/site-packages/keras/utils/data_utils.py\", line 401, in get_index\n",
      "    return _SHARED_SEQUENCES[uid][i]\n",
      "  File \"/home/zhaoqi/anaconda3/envs/tf/lib/python3.5/site-packages/keras/utils/data_utils.py\", line 401, in get_index\n",
      "    return _SHARED_SEQUENCES[uid][i]\n",
      "  File \"<ipython-input-34-04091f45d477>\", line 29, in __getitem__\n",
      "    X, y = self.__data_generation(list_IDs_temp)\n",
      "  File \"<ipython-input-34-04091f45d477>\", line 29, in __getitem__\n",
      "    X, y = self.__data_generation(list_IDs_temp)\n",
      "  File \"/home/zhaoqi/anaconda3/envs/tf/lib/python3.5/site-packages/keras/utils/data_utils.py\", line 401, in get_index\n",
      "    return _SHARED_SEQUENCES[uid][i]\n",
      "  File \"<ipython-input-34-04091f45d477>\", line 50, in __data_generation\n",
      "    in_file = open(file_path, 'rb')\n",
      "  File \"<ipython-input-34-04091f45d477>\", line 53, in __data_generation\n",
      "    X[i, 0:len(bytes_data)] = bytes_data\n",
      "KeyboardInterrupt\n",
      "  File \"<ipython-input-34-04091f45d477>\", line 29, in __getitem__\n",
      "    X, y = self.__data_generation(list_IDs_temp)\n",
      "KeyboardInterrupt\n",
      "  File \"<ipython-input-34-04091f45d477>\", line 53, in __data_generation\n",
      "    X[i, 0:len(bytes_data)] = bytes_data\n",
      "KeyboardInterrupt\n"
     ]
    },
    {
     "ename": "KeyboardInterrupt",
     "evalue": "",
     "output_type": "error",
     "traceback": [
      "\u001b[0;31m---------------------------------------------------------------------------\u001b[0m",
      "\u001b[0;31mKeyboardInterrupt\u001b[0m                         Traceback (most recent call last)",
      "\u001b[0;32m<ipython-input-71-42acf2777b3e>\u001b[0m in \u001b[0;36m<module>\u001b[0;34m()\u001b[0m\n\u001b[1;32m      1\u001b[0m \u001b[0mt_instance\u001b[0m \u001b[0;34m=\u001b[0m \u001b[0mTMalConv\u001b[0m\u001b[0;34m(\u001b[0m\u001b[0;34m)\u001b[0m\u001b[0;34m\u001b[0m\u001b[0m\n\u001b[0;32m----> 2\u001b[0;31m \u001b[0mt_instance\u001b[0m\u001b[0;34m.\u001b[0m\u001b[0mrun\u001b[0m\u001b[0;34m(\u001b[0m\u001b[0;34m)\u001b[0m\u001b[0;34m\u001b[0m\u001b[0m\n\u001b[0m",
      "\u001b[0;32m<ipython-input-35-cdedf721e96d>\u001b[0m in \u001b[0;36mrun\u001b[0;34m(self)\u001b[0m\n\u001b[1;32m     39\u001b[0m         \u001b[0;34m:\u001b[0m\u001b[0;32mreturn\u001b[0m\u001b[0;34m:\u001b[0m\u001b[0;34m\u001b[0m\u001b[0m\n\u001b[1;32m     40\u001b[0m         \"\"\"\n\u001b[0;32m---> 41\u001b[0;31m         \u001b[0mself\u001b[0m\u001b[0;34m.\u001b[0m\u001b[0mtrain\u001b[0m\u001b[0;34m(\u001b[0m\u001b[0;34m)\u001b[0m\u001b[0;34m\u001b[0m\u001b[0m\n\u001b[0m\u001b[1;32m     42\u001b[0m \u001b[0;34m\u001b[0m\u001b[0m\n\u001b[1;32m     43\u001b[0m     \u001b[0;32mdef\u001b[0m \u001b[0mget_p\u001b[0m\u001b[0;34m(\u001b[0m\u001b[0mself\u001b[0m\u001b[0;34m,\u001b[0m \u001b[0mkey\u001b[0m\u001b[0;34m)\u001b[0m\u001b[0;34m:\u001b[0m\u001b[0;34m\u001b[0m\u001b[0m\n",
      "\u001b[0;32m<ipython-input-35-cdedf721e96d>\u001b[0m in \u001b[0;36mtrain\u001b[0;34m(self)\u001b[0m\n\u001b[1;32m    112\u001b[0m                                  \u001b[0mepochs\u001b[0m\u001b[0;34m=\u001b[0m\u001b[0mepochs\u001b[0m\u001b[0;34m,\u001b[0m\u001b[0;34m\u001b[0m\u001b[0m\n\u001b[1;32m    113\u001b[0m                                  \u001b[0mworkers\u001b[0m\u001b[0;34m=\u001b[0m\u001b[0;36m6\u001b[0m\u001b[0;34m,\u001b[0m\u001b[0;34m\u001b[0m\u001b[0m\n\u001b[0;32m--> 114\u001b[0;31m                                  callbacks=callbacks_list)\n\u001b[0m",
      "\u001b[0;32m~/anaconda3/envs/tf/lib/python3.5/site-packages/keras/legacy/interfaces.py\u001b[0m in \u001b[0;36mwrapper\u001b[0;34m(*args, **kwargs)\u001b[0m\n\u001b[1;32m     89\u001b[0m                 warnings.warn('Update your `' + object_name +\n\u001b[1;32m     90\u001b[0m                               '` call to the Keras 2 API: ' + signature, stacklevel=2)\n\u001b[0;32m---> 91\u001b[0;31m             \u001b[0;32mreturn\u001b[0m \u001b[0mfunc\u001b[0m\u001b[0;34m(\u001b[0m\u001b[0;34m*\u001b[0m\u001b[0margs\u001b[0m\u001b[0;34m,\u001b[0m \u001b[0;34m**\u001b[0m\u001b[0mkwargs\u001b[0m\u001b[0;34m)\u001b[0m\u001b[0;34m\u001b[0m\u001b[0m\n\u001b[0m\u001b[1;32m     92\u001b[0m         \u001b[0mwrapper\u001b[0m\u001b[0;34m.\u001b[0m\u001b[0m_original_function\u001b[0m \u001b[0;34m=\u001b[0m \u001b[0mfunc\u001b[0m\u001b[0;34m\u001b[0m\u001b[0m\n\u001b[1;32m     93\u001b[0m         \u001b[0;32mreturn\u001b[0m \u001b[0mwrapper\u001b[0m\u001b[0;34m\u001b[0m\u001b[0m\n",
      "\u001b[0;32m~/anaconda3/envs/tf/lib/python3.5/site-packages/keras/engine/training.py\u001b[0m in \u001b[0;36mfit_generator\u001b[0;34m(self, generator, steps_per_epoch, epochs, verbose, callbacks, validation_data, validation_steps, class_weight, max_queue_size, workers, use_multiprocessing, shuffle, initial_epoch)\u001b[0m\n\u001b[1;32m   1424\u001b[0m             \u001b[0muse_multiprocessing\u001b[0m\u001b[0;34m=\u001b[0m\u001b[0muse_multiprocessing\u001b[0m\u001b[0;34m,\u001b[0m\u001b[0;34m\u001b[0m\u001b[0m\n\u001b[1;32m   1425\u001b[0m             \u001b[0mshuffle\u001b[0m\u001b[0;34m=\u001b[0m\u001b[0mshuffle\u001b[0m\u001b[0;34m,\u001b[0m\u001b[0;34m\u001b[0m\u001b[0m\n\u001b[0;32m-> 1426\u001b[0;31m             initial_epoch=initial_epoch)\n\u001b[0m\u001b[1;32m   1427\u001b[0m \u001b[0;34m\u001b[0m\u001b[0m\n\u001b[1;32m   1428\u001b[0m     \u001b[0;34m@\u001b[0m\u001b[0minterfaces\u001b[0m\u001b[0;34m.\u001b[0m\u001b[0mlegacy_generator_methods_support\u001b[0m\u001b[0;34m\u001b[0m\u001b[0m\n",
      "\u001b[0;32m~/anaconda3/envs/tf/lib/python3.5/site-packages/keras/engine/training_generator.py\u001b[0m in \u001b[0;36mfit_generator\u001b[0;34m(model, generator, steps_per_epoch, epochs, verbose, callbacks, validation_data, validation_steps, class_weight, max_queue_size, workers, use_multiprocessing, shuffle, initial_epoch)\u001b[0m\n\u001b[1;32m    153\u001b[0m             \u001b[0mbatch_index\u001b[0m \u001b[0;34m=\u001b[0m \u001b[0;36m0\u001b[0m\u001b[0;34m\u001b[0m\u001b[0m\n\u001b[1;32m    154\u001b[0m             \u001b[0;32mwhile\u001b[0m \u001b[0msteps_done\u001b[0m \u001b[0;34m<\u001b[0m \u001b[0msteps_per_epoch\u001b[0m\u001b[0;34m:\u001b[0m\u001b[0;34m\u001b[0m\u001b[0m\n\u001b[0;32m--> 155\u001b[0;31m                 \u001b[0mgenerator_output\u001b[0m \u001b[0;34m=\u001b[0m \u001b[0mnext\u001b[0m\u001b[0;34m(\u001b[0m\u001b[0moutput_generator\u001b[0m\u001b[0;34m)\u001b[0m\u001b[0;34m\u001b[0m\u001b[0m\n\u001b[0m\u001b[1;32m    156\u001b[0m \u001b[0;34m\u001b[0m\u001b[0m\n\u001b[1;32m    157\u001b[0m                 \u001b[0;32mif\u001b[0m \u001b[0;32mnot\u001b[0m \u001b[0mhasattr\u001b[0m\u001b[0;34m(\u001b[0m\u001b[0mgenerator_output\u001b[0m\u001b[0;34m,\u001b[0m \u001b[0;34m'__len__'\u001b[0m\u001b[0;34m)\u001b[0m\u001b[0;34m:\u001b[0m\u001b[0;34m\u001b[0m\u001b[0m\n",
      "\u001b[0;32m~/anaconda3/envs/tf/lib/python3.5/site-packages/keras/utils/data_utils.py\u001b[0m in \u001b[0;36mget\u001b[0;34m(self)\u001b[0m\n\u001b[1;32m    576\u001b[0m         \u001b[0;32mtry\u001b[0m\u001b[0;34m:\u001b[0m\u001b[0;34m\u001b[0m\u001b[0m\n\u001b[1;32m    577\u001b[0m             \u001b[0;32mwhile\u001b[0m \u001b[0mself\u001b[0m\u001b[0;34m.\u001b[0m\u001b[0mis_running\u001b[0m\u001b[0;34m(\u001b[0m\u001b[0;34m)\u001b[0m\u001b[0;34m:\u001b[0m\u001b[0;34m\u001b[0m\u001b[0m\n\u001b[0;32m--> 578\u001b[0;31m                 \u001b[0minputs\u001b[0m \u001b[0;34m=\u001b[0m \u001b[0mself\u001b[0m\u001b[0;34m.\u001b[0m\u001b[0mqueue\u001b[0m\u001b[0;34m.\u001b[0m\u001b[0mget\u001b[0m\u001b[0;34m(\u001b[0m\u001b[0mblock\u001b[0m\u001b[0;34m=\u001b[0m\u001b[0;32mTrue\u001b[0m\u001b[0;34m)\u001b[0m\u001b[0;34m.\u001b[0m\u001b[0mget\u001b[0m\u001b[0;34m(\u001b[0m\u001b[0;34m)\u001b[0m\u001b[0;34m\u001b[0m\u001b[0m\n\u001b[0m\u001b[1;32m    579\u001b[0m                 \u001b[0mself\u001b[0m\u001b[0;34m.\u001b[0m\u001b[0mqueue\u001b[0m\u001b[0;34m.\u001b[0m\u001b[0mtask_done\u001b[0m\u001b[0;34m(\u001b[0m\u001b[0;34m)\u001b[0m\u001b[0;34m\u001b[0m\u001b[0m\n\u001b[1;32m    580\u001b[0m                 \u001b[0;32mif\u001b[0m \u001b[0minputs\u001b[0m \u001b[0;32mis\u001b[0m \u001b[0;32mnot\u001b[0m \u001b[0;32mNone\u001b[0m\u001b[0;34m:\u001b[0m\u001b[0;34m\u001b[0m\u001b[0m\n",
      "\u001b[0;32m~/anaconda3/envs/tf/lib/python3.5/multiprocessing/pool.py\u001b[0m in \u001b[0;36mget\u001b[0;34m(self, timeout)\u001b[0m\n\u001b[1;32m    636\u001b[0m \u001b[0;34m\u001b[0m\u001b[0m\n\u001b[1;32m    637\u001b[0m     \u001b[0;32mdef\u001b[0m \u001b[0mget\u001b[0m\u001b[0;34m(\u001b[0m\u001b[0mself\u001b[0m\u001b[0;34m,\u001b[0m \u001b[0mtimeout\u001b[0m\u001b[0;34m=\u001b[0m\u001b[0;32mNone\u001b[0m\u001b[0;34m)\u001b[0m\u001b[0;34m:\u001b[0m\u001b[0;34m\u001b[0m\u001b[0m\n\u001b[0;32m--> 638\u001b[0;31m         \u001b[0mself\u001b[0m\u001b[0;34m.\u001b[0m\u001b[0mwait\u001b[0m\u001b[0;34m(\u001b[0m\u001b[0mtimeout\u001b[0m\u001b[0;34m)\u001b[0m\u001b[0;34m\u001b[0m\u001b[0m\n\u001b[0m\u001b[1;32m    639\u001b[0m         \u001b[0;32mif\u001b[0m \u001b[0;32mnot\u001b[0m \u001b[0mself\u001b[0m\u001b[0;34m.\u001b[0m\u001b[0mready\u001b[0m\u001b[0;34m(\u001b[0m\u001b[0;34m)\u001b[0m\u001b[0;34m:\u001b[0m\u001b[0;34m\u001b[0m\u001b[0m\n\u001b[1;32m    640\u001b[0m             \u001b[0;32mraise\u001b[0m \u001b[0mTimeoutError\u001b[0m\u001b[0;34m\u001b[0m\u001b[0m\n",
      "\u001b[0;32m~/anaconda3/envs/tf/lib/python3.5/multiprocessing/pool.py\u001b[0m in \u001b[0;36mwait\u001b[0;34m(self, timeout)\u001b[0m\n\u001b[1;32m    633\u001b[0m \u001b[0;34m\u001b[0m\u001b[0m\n\u001b[1;32m    634\u001b[0m     \u001b[0;32mdef\u001b[0m \u001b[0mwait\u001b[0m\u001b[0;34m(\u001b[0m\u001b[0mself\u001b[0m\u001b[0;34m,\u001b[0m \u001b[0mtimeout\u001b[0m\u001b[0;34m=\u001b[0m\u001b[0;32mNone\u001b[0m\u001b[0;34m)\u001b[0m\u001b[0;34m:\u001b[0m\u001b[0;34m\u001b[0m\u001b[0m\n\u001b[0;32m--> 635\u001b[0;31m         \u001b[0mself\u001b[0m\u001b[0;34m.\u001b[0m\u001b[0m_event\u001b[0m\u001b[0;34m.\u001b[0m\u001b[0mwait\u001b[0m\u001b[0;34m(\u001b[0m\u001b[0mtimeout\u001b[0m\u001b[0;34m)\u001b[0m\u001b[0;34m\u001b[0m\u001b[0m\n\u001b[0m\u001b[1;32m    636\u001b[0m \u001b[0;34m\u001b[0m\u001b[0m\n\u001b[1;32m    637\u001b[0m     \u001b[0;32mdef\u001b[0m \u001b[0mget\u001b[0m\u001b[0;34m(\u001b[0m\u001b[0mself\u001b[0m\u001b[0;34m,\u001b[0m \u001b[0mtimeout\u001b[0m\u001b[0;34m=\u001b[0m\u001b[0;32mNone\u001b[0m\u001b[0;34m)\u001b[0m\u001b[0;34m:\u001b[0m\u001b[0;34m\u001b[0m\u001b[0m\n",
      "\u001b[0;32m~/anaconda3/envs/tf/lib/python3.5/threading.py\u001b[0m in \u001b[0;36mwait\u001b[0;34m(self, timeout)\u001b[0m\n\u001b[1;32m    547\u001b[0m             \u001b[0msignaled\u001b[0m \u001b[0;34m=\u001b[0m \u001b[0mself\u001b[0m\u001b[0;34m.\u001b[0m\u001b[0m_flag\u001b[0m\u001b[0;34m\u001b[0m\u001b[0m\n\u001b[1;32m    548\u001b[0m             \u001b[0;32mif\u001b[0m \u001b[0;32mnot\u001b[0m \u001b[0msignaled\u001b[0m\u001b[0;34m:\u001b[0m\u001b[0;34m\u001b[0m\u001b[0m\n\u001b[0;32m--> 549\u001b[0;31m                 \u001b[0msignaled\u001b[0m \u001b[0;34m=\u001b[0m \u001b[0mself\u001b[0m\u001b[0;34m.\u001b[0m\u001b[0m_cond\u001b[0m\u001b[0;34m.\u001b[0m\u001b[0mwait\u001b[0m\u001b[0;34m(\u001b[0m\u001b[0mtimeout\u001b[0m\u001b[0;34m)\u001b[0m\u001b[0;34m\u001b[0m\u001b[0m\n\u001b[0m\u001b[1;32m    550\u001b[0m             \u001b[0;32mreturn\u001b[0m \u001b[0msignaled\u001b[0m\u001b[0;34m\u001b[0m\u001b[0m\n\u001b[1;32m    551\u001b[0m \u001b[0;34m\u001b[0m\u001b[0m\n",
      "\u001b[0;32m~/anaconda3/envs/tf/lib/python3.5/threading.py\u001b[0m in \u001b[0;36mwait\u001b[0;34m(self, timeout)\u001b[0m\n\u001b[1;32m    291\u001b[0m         \u001b[0;32mtry\u001b[0m\u001b[0;34m:\u001b[0m    \u001b[0;31m# restore state no matter what (e.g., KeyboardInterrupt)\u001b[0m\u001b[0;34m\u001b[0m\u001b[0m\n\u001b[1;32m    292\u001b[0m             \u001b[0;32mif\u001b[0m \u001b[0mtimeout\u001b[0m \u001b[0;32mis\u001b[0m \u001b[0;32mNone\u001b[0m\u001b[0;34m:\u001b[0m\u001b[0;34m\u001b[0m\u001b[0m\n\u001b[0;32m--> 293\u001b[0;31m                 \u001b[0mwaiter\u001b[0m\u001b[0;34m.\u001b[0m\u001b[0macquire\u001b[0m\u001b[0;34m(\u001b[0m\u001b[0;34m)\u001b[0m\u001b[0;34m\u001b[0m\u001b[0m\n\u001b[0m\u001b[1;32m    294\u001b[0m                 \u001b[0mgotit\u001b[0m \u001b[0;34m=\u001b[0m \u001b[0;32mTrue\u001b[0m\u001b[0;34m\u001b[0m\u001b[0m\n\u001b[1;32m    295\u001b[0m             \u001b[0;32melse\u001b[0m\u001b[0;34m:\u001b[0m\u001b[0;34m\u001b[0m\u001b[0m\n",
      "\u001b[0;31mKeyboardInterrupt\u001b[0m: "
     ]
    },
    {
     "name": "stderr",
     "output_type": "stream",
     "text": [
      "Process ForkPoolWorker-291:\n",
      "Traceback (most recent call last):\n",
      "  File \"/home/zhaoqi/anaconda3/envs/tf/lib/python3.5/multiprocessing/process.py\", line 252, in _bootstrap\n",
      "    self.run()\n",
      "  File \"/home/zhaoqi/anaconda3/envs/tf/lib/python3.5/multiprocessing/process.py\", line 93, in run\n",
      "    self._target(*self._args, **self._kwargs)\n",
      "  File \"/home/zhaoqi/anaconda3/envs/tf/lib/python3.5/multiprocessing/pool.py\", line 125, in worker\n",
      "    put((job, i, result))\n",
      "  File \"/home/zhaoqi/anaconda3/envs/tf/lib/python3.5/multiprocessing/queues.py\", line 341, in put\n",
      "    obj = ForkingPickler.dumps(obj)\n",
      "  File \"/home/zhaoqi/anaconda3/envs/tf/lib/python3.5/multiprocessing/reduction.py\", line 50, in dumps\n",
      "    cls(buf, protocol).dump(obj)\n",
      "KeyboardInterrupt\n",
      "Process ForkPoolWorker-289:\n",
      "Process ForkPoolWorker-294:\n",
      "Traceback (most recent call last):\n",
      "Traceback (most recent call last):\n",
      "  File \"/home/zhaoqi/anaconda3/envs/tf/lib/python3.5/multiprocessing/process.py\", line 252, in _bootstrap\n",
      "    self.run()\n",
      "  File \"/home/zhaoqi/anaconda3/envs/tf/lib/python3.5/multiprocessing/process.py\", line 252, in _bootstrap\n",
      "    self.run()\n",
      "  File \"/home/zhaoqi/anaconda3/envs/tf/lib/python3.5/multiprocessing/process.py\", line 93, in run\n",
      "    self._target(*self._args, **self._kwargs)\n",
      "  File \"/home/zhaoqi/anaconda3/envs/tf/lib/python3.5/multiprocessing/process.py\", line 93, in run\n",
      "    self._target(*self._args, **self._kwargs)\n",
      "  File \"/home/zhaoqi/anaconda3/envs/tf/lib/python3.5/multiprocessing/pool.py\", line 125, in worker\n",
      "    put((job, i, result))\n",
      "  File \"/home/zhaoqi/anaconda3/envs/tf/lib/python3.5/multiprocessing/pool.py\", line 125, in worker\n",
      "    put((job, i, result))\n",
      "  File \"/home/zhaoqi/anaconda3/envs/tf/lib/python3.5/multiprocessing/queues.py\", line 341, in put\n",
      "    obj = ForkingPickler.dumps(obj)\n",
      "  File \"/home/zhaoqi/anaconda3/envs/tf/lib/python3.5/multiprocessing/queues.py\", line 341, in put\n",
      "    obj = ForkingPickler.dumps(obj)\n",
      "  File \"/home/zhaoqi/anaconda3/envs/tf/lib/python3.5/multiprocessing/reduction.py\", line 50, in dumps\n",
      "    cls(buf, protocol).dump(obj)\n",
      "  File \"/home/zhaoqi/anaconda3/envs/tf/lib/python3.5/multiprocessing/reduction.py\", line 50, in dumps\n",
      "    cls(buf, protocol).dump(obj)\n",
      "KeyboardInterrupt\n",
      "KeyboardInterrupt\n"
     ]
    }
   ],
   "source": [
    "t_instance = TMalConv()\n",
    "t_instance.run()"
   ]
  },
  {
   "cell_type": "code",
   "execution_count": 64,
   "metadata": {
    "scrolled": true
   },
   "outputs": [
    {
     "name": "stdout",
     "output_type": "stream",
     "text": [
      "--- 8.589596509933472 seconds ---\n",
      "--- 5.837661504745483 seconds ---\n",
      "--- 5.919601917266846 seconds ---\n",
      "--- 8.339919567108154 seconds ---\n",
      "--- 8.987675666809082 seconds ---\n",
      "--- 9.96890640258789 seconds ---\n",
      "--- 43.35040330886841 seconds ---\n",
      "--- 9.26111102104187 seconds ---\n",
      "--- 7.6259543895721436 seconds ---\n",
      "--- 9.892730951309204 seconds ---\n",
      "--- 9.268390655517578 seconds ---\n",
      "--- 9.77153205871582 seconds ---\n",
      "--- 9.294157028198242 seconds ---\n",
      "--- 8.936628580093384 seconds ---\n",
      "--- 8.470808744430542 seconds ---\n",
      "--- 9.085030794143677 seconds ---\n",
      "66833\n"
     ]
    },
    {
     "name": "stderr",
     "output_type": "stream",
     "text": [
      "/home/zhaoqi/anaconda3/envs/tf/lib/python3.5/site-packages/ipykernel_launcher.py:33: SettingWithCopyWarning: \n",
      "A value is trying to be set on a copy of a slice from a DataFrame\n",
      "\n",
      "See the caveats in the documentation: http://pandas.pydata.org/pandas-docs/stable/indexing.html#indexing-view-versus-copy\n",
      "/home/zhaoqi/anaconda3/envs/tf/lib/python3.5/site-packages/ipykernel_launcher.py:34: SettingWithCopyWarning: \n",
      "A value is trying to be set on a copy of a slice from a DataFrame\n",
      "\n",
      "See the caveats in the documentation: http://pandas.pydata.org/pandas-docs/stable/indexing.html#indexing-view-versus-copy\n",
      "/home/zhaoqi/anaconda3/envs/tf/lib/python3.5/site-packages/ipykernel_launcher.py:35: SettingWithCopyWarning: \n",
      "A value is trying to be set on a copy of a slice from a DataFrame\n",
      "\n",
      "See the caveats in the documentation: http://pandas.pydata.org/pandas-docs/stable/indexing.html#indexing-view-versus-copy\n"
     ]
    }
   ],
   "source": [
    "close()\n",
    "res = []\n",
    "get_connection(db)\n",
    "table_suffix = [\"0\",\"1\",\"2\",\"3\",\"4\",\"5\",\"6\",\"7\",\"8\",\"9\",\"A\",\"B\",\"C\",\"D\",\"E\",\"F\"]\n",
    "for suffix in table_suffix:\n",
    "    sql = \"\"\"\n",
    "select\n",
    "  a.mw_file_hash,\n",
    "  c.mw_file_prefix as mw_file_directory,\n",
    "  c.mw_file_suffix as mw_file_size,\n",
    "  c.mw_num_engines,\n",
    "  b.section_name,\n",
    "  b.virtual_size,\n",
    "  b.pointerto_raw_data,\n",
    "  d.mw_em_f\n",
    "from (select\n",
    "        mw_file_hash,\n",
    "        section_name,\n",
    "        count(1) as cnt\n",
    "      from mw_index_2017_section_%s\n",
    "      where section_name = '.text' and pointerto_raw_data <> 0\n",
    "      group by mw_file_hash, section_name) a inner join mw_index_2017_section_%s b\n",
    "    on a.mw_file_hash = b.mw_file_hash and a.cnt = 1 and b.section_name = '.text'\n",
    "  inner join mw_index_2017_%s c on a.mw_file_hash = c.mw_file_hash and (c.mw_num_engines > 8 or c.mw_num_engines = 0) and c.mw_num_engines<> -1 and c.mw_file_prefix = '201705'\n",
    "  inner join mw_index_2017_feature_%s d on a.mw_file_hash = d.mw_file_hash\n",
    "    \"\"\" % (suffix, suffix, suffix, suffix)\n",
    "    res.extend(get_specific_data(suffix, sql))\n",
    "close()\n",
    "\n",
    "print(len(res))\n",
    "import pandas as pd\n",
    "test_data = pd.DataFrame(res)\n",
    "test_data.mw_num_engines[test_data.mw_num_engines < 4 ] = 0\n",
    "test_data.mw_num_engines[test_data.mw_num_engines > 8 ] = 1\n",
    "test_data.virtual_size[test_data.virtual_size > 300000 ] = 300000\n",
    "test_label = test_data.mw_num_engines.ravel()"
   ]
  },
  {
   "cell_type": "code",
   "execution_count": 65,
   "metadata": {},
   "outputs": [
    {
     "data": {
      "text/plain": [
       "0"
      ]
     },
     "execution_count": 65,
     "metadata": {},
     "output_type": "execute_result"
    }
   ],
   "source": [
    "sum(test_data.mw_num_engines)"
   ]
  },
  {
   "cell_type": "code",
   "execution_count": 66,
   "metadata": {},
   "outputs": [
    {
     "name": "stdout",
     "output_type": "stream",
     "text": [
      "4177/4177 [==============================] - 929s 222ms/step\n"
     ]
    }
   ],
   "source": [
    "model_dir = '/home/zhaoqi/BaseTrain/models/'\n",
    "f_name = '0001-0.09768-0.96832.h5'\n",
    "c_model = load_model(model_dir + f_name)\n",
    "test_generator = DataGenerator(range(len(test_data)), test_data, test_label, 16, max_length, False)\n",
    "y_pred = c_model.predict_generator(generator=test_generator, max_queue_size=10, workers=6, use_multiprocessing=True, verbose=1)"
   ]
  },
  {
   "cell_type": "code",
   "execution_count": 46,
   "metadata": {},
   "outputs": [
    {
     "data": {
      "text/plain": [
       "80976"
      ]
     },
     "execution_count": 46,
     "metadata": {},
     "output_type": "execute_result"
    }
   ],
   "source": [
    "len(y_pred)"
   ]
  },
  {
   "cell_type": "markdown",
   "metadata": {},
   "source": [
    "# Estimate"
   ]
  },
  {
   "cell_type": "code",
   "execution_count": 67,
   "metadata": {},
   "outputs": [],
   "source": [
    "from sklearn.metrics import roc_auc_score, accuracy_score, log_loss, confusion_matrix\n",
    "\n",
    "def estimate_model(y_pred, test_y):\n",
    "    \n",
    "    loss = log_loss(test_y, y_pred)\n",
    "    auc = roc_auc_score(test_y, y_pred)\n",
    "    acc = accuracy_score(test_y, (y_pred > 0.5).astype(int))\n",
    "    print(\"loss : %.5f\" % loss)\n",
    "    print(\"auc score : %.5f\" % auc)\n",
    "    print(\"accuracy score : %.5f\" % acc)\n",
    "\n",
    "    fp_np_index = np.where(test_y == 0)\n",
    "    fp_np = y_pred[fp_np_index].shape[0]\n",
    "    thre_index = int(np.ceil(fp_np - fp_np * 0.001))\n",
    "\n",
    "    sorted_pred_prob = np.sort(y_pred[fp_np_index], axis=0)\n",
    "    thre = sorted_pred_prob[thre_index]\n",
    "    if thre == 1:\n",
    "        thre = max(sorted_pred_prob[np.where(sorted_pred_prob != 1)])\n",
    "\n",
    "    y_pred_prob = np.vstack((y_pred.transpose(), (1 - y_pred).transpose())).transpose()\n",
    "    y_pred_prob[:, 1] = thre\n",
    "    y_pred_label = np.argmin(y_pred_prob, axis=-1)\n",
    "\n",
    "    tn, fp, fn, tp = confusion_matrix(test_y, y_pred_label).ravel()\n",
    "    fp_rate = fp / (fp + tn)\n",
    "    recall_rate = tp / (tp + fn)\n",
    "\n",
    "    print(\"thre: %.5f\"%  thre)\n",
    "    print(\"fp:  %.5f\"%  fp_rate)\n",
    "    print(\"recall:  %.5f\"%  recall_rate)\n",
    "    \n",
    "    return auc, loss, recall_rate"
   ]
  },
  {
   "cell_type": "code",
   "execution_count": 48,
   "metadata": {},
   "outputs": [
    {
     "name": "stdout",
     "output_type": "stream",
     "text": [
      "loss : 0.27254\n",
      "auc score : 0.97695\n",
      "accuracy score : 0.92862\n",
      "thre: 0.99990\n",
      "fp:  0.00046\n",
      "recall:  0.02559\n"
     ]
    },
    {
     "data": {
      "text/plain": [
       "(0.9769503832481158, 0.27254251131120455, 0.025588981515041683)"
      ]
     },
     "execution_count": 48,
     "metadata": {},
     "output_type": "execute_result"
    }
   ],
   "source": [
    "estimate_model(y_pred, test_label[0:len(y_pred)])"
   ]
  },
  {
   "cell_type": "markdown",
   "metadata": {},
   "source": [
    "# EMBER"
   ]
  },
  {
   "cell_type": "code",
   "execution_count": 49,
   "metadata": {},
   "outputs": [],
   "source": [
    "import pandas as pd\n",
    "import re\n",
    "import hashlib\n",
    "import numpy as np\n",
    "from sklearn.feature_extraction import FeatureHasher\n",
    "from sklearn.model_selection import train_test_split\n",
    "import lightgbm as lgb"
   ]
  },
  {
   "cell_type": "code",
   "execution_count": 50,
   "metadata": {},
   "outputs": [],
   "source": [
    "def get_ember_feature(data):\n",
    "    ember_f = np.zeros((len(data.mw_em_f), 2351), dtype=float)\n",
    "    for index, item in data.iterrows():\n",
    "        float_arr = item['mw_em_f'].split(';')\n",
    "        ember_f[index, :] = float_arr\n",
    "    return ember_f"
   ]
  },
  {
   "cell_type": "markdown",
   "metadata": {},
   "source": [
    "## ember train data"
   ]
  },
  {
   "cell_type": "code",
   "execution_count": 51,
   "metadata": {},
   "outputs": [],
   "source": [
    "def get_model(data, label):\n",
    "    x_train, x_test, y_train, y_test = train_test_split(data, label, test_size=0.05, random_state=1234)\n",
    "    params = {'application': 'binary'}\n",
    "    lgbm_dataset = lgb.Dataset(x_train, y_train.ravel())\n",
    "    valid_sets = lgb.Dataset(x_test, y_test.ravel())\n",
    "\n",
    "    model = lgb.train(params, lgbm_dataset, 100000, valid_sets=valid_sets, early_stopping_rounds=10)\n",
    "    y_pred = model.predict(x_test)\n",
    "    \n",
    "    loss = log_loss(y_test, y_pred)\n",
    "    auc = roc_auc_score(y_test, y_pred)\n",
    "    acc = accuracy_score(y_test, (y_pred > 0.5).astype(int))\n",
    "#     model.save_model(file_path + \"-%04d-%.5f-%.5f.h5\" % (model.best_iteration, loss, acc),\n",
    "#                      num_iteration=model.best_iteration)\n",
    "    print(\"val loss : %.5f\" % loss)\n",
    "    print(\"auc score : %.5f\" % auc)\n",
    "    print(\"accuracy score : %.5f\" % acc)\n",
    "        \n",
    "    return model"
   ]
  },
  {
   "cell_type": "code",
   "execution_count": 52,
   "metadata": {},
   "outputs": [],
   "source": [
    "X_ember_train = get_ember_feature(clean_data)\n",
    "y_ember_train = label"
   ]
  },
  {
   "cell_type": "code",
   "execution_count": 53,
   "metadata": {},
   "outputs": [
    {
     "data": {
      "text/plain": [
       "(92888, 2351)"
      ]
     },
     "execution_count": 53,
     "metadata": {},
     "output_type": "execute_result"
    }
   ],
   "source": [
    "X_ember_train.shape"
   ]
  },
  {
   "cell_type": "code",
   "execution_count": 54,
   "metadata": {},
   "outputs": [
    {
     "name": "stdout",
     "output_type": "stream",
     "text": [
      "[1]\tvalid_0's binary_logloss: 0.606233\n",
      "Training until validation scores don't improve for 10 rounds.\n",
      "[2]\tvalid_0's binary_logloss: 0.537826\n",
      "[3]\tvalid_0's binary_logloss: 0.480339\n",
      "[4]\tvalid_0's binary_logloss: 0.431923\n",
      "[5]\tvalid_0's binary_logloss: 0.389776\n",
      "[6]\tvalid_0's binary_logloss: 0.353776\n",
      "[7]\tvalid_0's binary_logloss: 0.322141\n",
      "[8]\tvalid_0's binary_logloss: 0.294377\n",
      "[9]\tvalid_0's binary_logloss: 0.269424\n",
      "[10]\tvalid_0's binary_logloss: 0.247498\n",
      "[11]\tvalid_0's binary_logloss: 0.228327\n",
      "[12]\tvalid_0's binary_logloss: 0.211152\n",
      "[13]\tvalid_0's binary_logloss: 0.195619\n",
      "[14]\tvalid_0's binary_logloss: 0.181896\n",
      "[15]\tvalid_0's binary_logloss: 0.16947\n",
      "[16]\tvalid_0's binary_logloss: 0.158507\n",
      "[17]\tvalid_0's binary_logloss: 0.148432\n",
      "[18]\tvalid_0's binary_logloss: 0.138745\n",
      "[19]\tvalid_0's binary_logloss: 0.130418\n",
      "[20]\tvalid_0's binary_logloss: 0.123048\n",
      "[21]\tvalid_0's binary_logloss: 0.116106\n",
      "[22]\tvalid_0's binary_logloss: 0.109956\n",
      "[23]\tvalid_0's binary_logloss: 0.103742\n",
      "[24]\tvalid_0's binary_logloss: 0.0982203\n",
      "[25]\tvalid_0's binary_logloss: 0.0931364\n",
      "[26]\tvalid_0's binary_logloss: 0.0882834\n",
      "[27]\tvalid_0's binary_logloss: 0.0834215\n",
      "[28]\tvalid_0's binary_logloss: 0.0795373\n",
      "[29]\tvalid_0's binary_logloss: 0.0755607\n",
      "[30]\tvalid_0's binary_logloss: 0.072415\n",
      "[31]\tvalid_0's binary_logloss: 0.0693525\n",
      "[32]\tvalid_0's binary_logloss: 0.0663284\n",
      "[33]\tvalid_0's binary_logloss: 0.0633209\n",
      "[34]\tvalid_0's binary_logloss: 0.0606973\n",
      "[35]\tvalid_0's binary_logloss: 0.0583297\n",
      "[36]\tvalid_0's binary_logloss: 0.0561416\n",
      "[37]\tvalid_0's binary_logloss: 0.0541712\n",
      "[38]\tvalid_0's binary_logloss: 0.052193\n",
      "[39]\tvalid_0's binary_logloss: 0.0505515\n",
      "[40]\tvalid_0's binary_logloss: 0.0491532\n",
      "[41]\tvalid_0's binary_logloss: 0.0473988\n",
      "[42]\tvalid_0's binary_logloss: 0.0461879\n",
      "[43]\tvalid_0's binary_logloss: 0.0448296\n",
      "[44]\tvalid_0's binary_logloss: 0.0435184\n",
      "[45]\tvalid_0's binary_logloss: 0.0426012\n",
      "[46]\tvalid_0's binary_logloss: 0.0414771\n",
      "[47]\tvalid_0's binary_logloss: 0.0406337\n",
      "[48]\tvalid_0's binary_logloss: 0.0398954\n",
      "[49]\tvalid_0's binary_logloss: 0.0390083\n",
      "[50]\tvalid_0's binary_logloss: 0.0383524\n",
      "[51]\tvalid_0's binary_logloss: 0.0374574\n",
      "[52]\tvalid_0's binary_logloss: 0.036716\n",
      "[53]\tvalid_0's binary_logloss: 0.0359502\n",
      "[54]\tvalid_0's binary_logloss: 0.0351828\n",
      "[55]\tvalid_0's binary_logloss: 0.0346635\n",
      "[56]\tvalid_0's binary_logloss: 0.0339374\n",
      "[57]\tvalid_0's binary_logloss: 0.0335354\n",
      "[58]\tvalid_0's binary_logloss: 0.0329082\n",
      "[59]\tvalid_0's binary_logloss: 0.0323432\n",
      "[60]\tvalid_0's binary_logloss: 0.0318632\n",
      "[61]\tvalid_0's binary_logloss: 0.0314712\n",
      "[62]\tvalid_0's binary_logloss: 0.0307432\n",
      "[63]\tvalid_0's binary_logloss: 0.0303824\n",
      "[64]\tvalid_0's binary_logloss: 0.0299031\n",
      "[65]\tvalid_0's binary_logloss: 0.0296051\n",
      "[66]\tvalid_0's binary_logloss: 0.0291865\n",
      "[67]\tvalid_0's binary_logloss: 0.0287702\n",
      "[68]\tvalid_0's binary_logloss: 0.0284759\n",
      "[69]\tvalid_0's binary_logloss: 0.0280924\n",
      "[70]\tvalid_0's binary_logloss: 0.0279279\n",
      "[71]\tvalid_0's binary_logloss: 0.027461\n",
      "[72]\tvalid_0's binary_logloss: 0.0270733\n",
      "[73]\tvalid_0's binary_logloss: 0.0267012\n",
      "[74]\tvalid_0's binary_logloss: 0.0263731\n",
      "[75]\tvalid_0's binary_logloss: 0.0261171\n",
      "[76]\tvalid_0's binary_logloss: 0.0260277\n",
      "[77]\tvalid_0's binary_logloss: 0.0256041\n",
      "[78]\tvalid_0's binary_logloss: 0.0253973\n",
      "[79]\tvalid_0's binary_logloss: 0.0252164\n",
      "[80]\tvalid_0's binary_logloss: 0.0250962\n",
      "[81]\tvalid_0's binary_logloss: 0.0249076\n",
      "[82]\tvalid_0's binary_logloss: 0.0245665\n",
      "[83]\tvalid_0's binary_logloss: 0.0244283\n",
      "[84]\tvalid_0's binary_logloss: 0.0242158\n",
      "[85]\tvalid_0's binary_logloss: 0.0240384\n",
      "[86]\tvalid_0's binary_logloss: 0.0238571\n",
      "[87]\tvalid_0's binary_logloss: 0.0235443\n",
      "[88]\tvalid_0's binary_logloss: 0.0233537\n",
      "[89]\tvalid_0's binary_logloss: 0.0231955\n",
      "[90]\tvalid_0's binary_logloss: 0.0230137\n",
      "[91]\tvalid_0's binary_logloss: 0.0227887\n",
      "[92]\tvalid_0's binary_logloss: 0.0227313\n",
      "[93]\tvalid_0's binary_logloss: 0.0225333\n",
      "[94]\tvalid_0's binary_logloss: 0.0224583\n",
      "[95]\tvalid_0's binary_logloss: 0.0223332\n",
      "[96]\tvalid_0's binary_logloss: 0.0220932\n",
      "[97]\tvalid_0's binary_logloss: 0.0220013\n",
      "[98]\tvalid_0's binary_logloss: 0.0218361\n",
      "[99]\tvalid_0's binary_logloss: 0.0217209\n",
      "[100]\tvalid_0's binary_logloss: 0.0215005\n",
      "[101]\tvalid_0's binary_logloss: 0.0212793\n",
      "[102]\tvalid_0's binary_logloss: 0.0210763\n",
      "[103]\tvalid_0's binary_logloss: 0.0209981\n",
      "[104]\tvalid_0's binary_logloss: 0.0208286\n",
      "[105]\tvalid_0's binary_logloss: 0.0206571\n",
      "[106]\tvalid_0's binary_logloss: 0.0205948\n",
      "[107]\tvalid_0's binary_logloss: 0.0203701\n",
      "[108]\tvalid_0's binary_logloss: 0.020372\n",
      "[109]\tvalid_0's binary_logloss: 0.0202823\n",
      "[110]\tvalid_0's binary_logloss: 0.0201816\n",
      "[111]\tvalid_0's binary_logloss: 0.0200147\n",
      "[112]\tvalid_0's binary_logloss: 0.0198847\n",
      "[113]\tvalid_0's binary_logloss: 0.0197391\n",
      "[114]\tvalid_0's binary_logloss: 0.0196584\n",
      "[115]\tvalid_0's binary_logloss: 0.0195704\n",
      "[116]\tvalid_0's binary_logloss: 0.0195036\n",
      "[117]\tvalid_0's binary_logloss: 0.0193417\n",
      "[118]\tvalid_0's binary_logloss: 0.0192249\n",
      "[119]\tvalid_0's binary_logloss: 0.0190928\n",
      "[120]\tvalid_0's binary_logloss: 0.0189995\n",
      "[121]\tvalid_0's binary_logloss: 0.018869\n",
      "[122]\tvalid_0's binary_logloss: 0.0188196\n",
      "[123]\tvalid_0's binary_logloss: 0.0188604\n",
      "[124]\tvalid_0's binary_logloss: 0.0187754\n",
      "[125]\tvalid_0's binary_logloss: 0.0187121\n",
      "[126]\tvalid_0's binary_logloss: 0.0185554\n",
      "[127]\tvalid_0's binary_logloss: 0.018452\n",
      "[128]\tvalid_0's binary_logloss: 0.0183702\n",
      "[129]\tvalid_0's binary_logloss: 0.0182849\n",
      "[130]\tvalid_0's binary_logloss: 0.0183206\n",
      "[131]\tvalid_0's binary_logloss: 0.018303\n",
      "[132]\tvalid_0's binary_logloss: 0.018172\n",
      "[133]\tvalid_0's binary_logloss: 0.0180994\n",
      "[134]\tvalid_0's binary_logloss: 0.0180418\n",
      "[135]\tvalid_0's binary_logloss: 0.0179944\n",
      "[136]\tvalid_0's binary_logloss: 0.0179862\n",
      "[137]\tvalid_0's binary_logloss: 0.0179204\n",
      "[138]\tvalid_0's binary_logloss: 0.017883\n",
      "[139]\tvalid_0's binary_logloss: 0.017831\n",
      "[140]\tvalid_0's binary_logloss: 0.017741\n",
      "[141]\tvalid_0's binary_logloss: 0.0176212\n",
      "[142]\tvalid_0's binary_logloss: 0.0175799\n",
      "[143]\tvalid_0's binary_logloss: 0.0175126\n",
      "[144]\tvalid_0's binary_logloss: 0.0174625\n",
      "[145]\tvalid_0's binary_logloss: 0.0173918\n",
      "[146]\tvalid_0's binary_logloss: 0.0173348\n",
      "[147]\tvalid_0's binary_logloss: 0.0172163\n",
      "[148]\tvalid_0's binary_logloss: 0.017145\n",
      "[149]\tvalid_0's binary_logloss: 0.0170936\n",
      "[150]\tvalid_0's binary_logloss: 0.0171295\n",
      "[151]\tvalid_0's binary_logloss: 0.0170845\n",
      "[152]\tvalid_0's binary_logloss: 0.0170416\n",
      "[153]\tvalid_0's binary_logloss: 0.0168861\n",
      "[154]\tvalid_0's binary_logloss: 0.016918\n",
      "[155]\tvalid_0's binary_logloss: 0.0168847\n",
      "[156]\tvalid_0's binary_logloss: 0.0168268\n",
      "[157]\tvalid_0's binary_logloss: 0.0167796\n",
      "[158]\tvalid_0's binary_logloss: 0.0167336\n",
      "[159]\tvalid_0's binary_logloss: 0.0167031\n",
      "[160]\tvalid_0's binary_logloss: 0.0166598\n",
      "[161]\tvalid_0's binary_logloss: 0.0165978\n",
      "[162]\tvalid_0's binary_logloss: 0.0166243\n",
      "[163]\tvalid_0's binary_logloss: 0.0165632\n",
      "[164]\tvalid_0's binary_logloss: 0.016502\n",
      "[165]\tvalid_0's binary_logloss: 0.0164931\n",
      "[166]\tvalid_0's binary_logloss: 0.0164444\n",
      "[167]\tvalid_0's binary_logloss: 0.0164084\n",
      "[168]\tvalid_0's binary_logloss: 0.0163804\n",
      "[169]\tvalid_0's binary_logloss: 0.0163775\n",
      "[170]\tvalid_0's binary_logloss: 0.0162905\n",
      "[171]\tvalid_0's binary_logloss: 0.0162752\n",
      "[172]\tvalid_0's binary_logloss: 0.0162393\n",
      "[173]\tvalid_0's binary_logloss: 0.016158\n",
      "[174]\tvalid_0's binary_logloss: 0.0161847\n",
      "[175]\tvalid_0's binary_logloss: 0.0161731\n",
      "[176]\tvalid_0's binary_logloss: 0.0162321\n",
      "[177]\tvalid_0's binary_logloss: 0.0161443\n",
      "[178]\tvalid_0's binary_logloss: 0.0161395\n",
      "[179]\tvalid_0's binary_logloss: 0.0161559\n",
      "[180]\tvalid_0's binary_logloss: 0.0161771\n",
      "[181]\tvalid_0's binary_logloss: 0.0161446\n",
      "[182]\tvalid_0's binary_logloss: 0.0161409\n",
      "[183]\tvalid_0's binary_logloss: 0.0160515\n",
      "[184]\tvalid_0's binary_logloss: 0.0160346\n",
      "[185]\tvalid_0's binary_logloss: 0.015987\n",
      "[186]\tvalid_0's binary_logloss: 0.0159779\n",
      "[187]\tvalid_0's binary_logloss: 0.0159403\n",
      "[188]\tvalid_0's binary_logloss: 0.0159189\n",
      "[189]\tvalid_0's binary_logloss: 0.0159491\n",
      "[190]\tvalid_0's binary_logloss: 0.0159248\n",
      "[191]\tvalid_0's binary_logloss: 0.0158853\n",
      "[192]\tvalid_0's binary_logloss: 0.015867\n",
      "[193]\tvalid_0's binary_logloss: 0.0158321\n",
      "[194]\tvalid_0's binary_logloss: 0.0157357\n",
      "[195]\tvalid_0's binary_logloss: 0.0157053\n",
      "[196]\tvalid_0's binary_logloss: 0.0156848\n",
      "[197]\tvalid_0's binary_logloss: 0.0156763\n",
      "[198]\tvalid_0's binary_logloss: 0.0156805\n"
     ]
    },
    {
     "name": "stdout",
     "output_type": "stream",
     "text": [
      "[199]\tvalid_0's binary_logloss: 0.015578\n",
      "[200]\tvalid_0's binary_logloss: 0.0155223\n",
      "[201]\tvalid_0's binary_logloss: 0.0154496\n",
      "[202]\tvalid_0's binary_logloss: 0.0154418\n",
      "[203]\tvalid_0's binary_logloss: 0.0153582\n",
      "[204]\tvalid_0's binary_logloss: 0.0153573\n",
      "[205]\tvalid_0's binary_logloss: 0.0153465\n",
      "[206]\tvalid_0's binary_logloss: 0.0153817\n",
      "[207]\tvalid_0's binary_logloss: 0.0153812\n",
      "[208]\tvalid_0's binary_logloss: 0.0154231\n",
      "[209]\tvalid_0's binary_logloss: 0.0153892\n",
      "[210]\tvalid_0's binary_logloss: 0.0153721\n",
      "[211]\tvalid_0's binary_logloss: 0.0153591\n",
      "[212]\tvalid_0's binary_logloss: 0.015348\n",
      "[213]\tvalid_0's binary_logloss: 0.0153257\n",
      "[214]\tvalid_0's binary_logloss: 0.0152787\n",
      "[215]\tvalid_0's binary_logloss: 0.0152673\n",
      "[216]\tvalid_0's binary_logloss: 0.0152152\n",
      "[217]\tvalid_0's binary_logloss: 0.0152369\n",
      "[218]\tvalid_0's binary_logloss: 0.015279\n",
      "[219]\tvalid_0's binary_logloss: 0.0152846\n",
      "[220]\tvalid_0's binary_logloss: 0.0152929\n",
      "[221]\tvalid_0's binary_logloss: 0.0152901\n",
      "[222]\tvalid_0's binary_logloss: 0.0153031\n",
      "[223]\tvalid_0's binary_logloss: 0.0152547\n",
      "[224]\tvalid_0's binary_logloss: 0.015257\n",
      "[225]\tvalid_0's binary_logloss: 0.0152326\n",
      "[226]\tvalid_0's binary_logloss: 0.0152829\n",
      "Early stopping, best iteration is:\n",
      "[216]\tvalid_0's binary_logloss: 0.0152152\n",
      "val loss : 0.01522\n",
      "auc score : 0.99980\n",
      "accuracy score : 0.99505\n"
     ]
    }
   ],
   "source": [
    "import matplotlib.pyplot as plt\n",
    "model = get_model(X_ember_train, y_ember_train)"
   ]
  },
  {
   "cell_type": "markdown",
   "metadata": {},
   "source": [
    "## Ember test data"
   ]
  },
  {
   "cell_type": "code",
   "execution_count": 55,
   "metadata": {},
   "outputs": [],
   "source": [
    "X_ember_test = get_ember_feature(test_data)\n",
    "y_ember_test = test_label"
   ]
  },
  {
   "cell_type": "code",
   "execution_count": 68,
   "metadata": {},
   "outputs": [
    {
     "name": "stdout",
     "output_type": "stream",
     "text": [
      "loss : 0.19203\n",
      "auc score : 0.98884\n",
      "accuracy score : 0.96986\n",
      "thre: 1.00000\n",
      "fp:  0.00098\n",
      "recall:  0.14757\n"
     ]
    },
    {
     "data": {
      "text/plain": [
       "(0.9888434603901384, 0.19202686913604602, 0.1475683119518736)"
      ]
     },
     "execution_count": 68,
     "metadata": {},
     "output_type": "execute_result"
    }
   ],
   "source": [
    "y_p = model.predict(X_ember_test)\n",
    "y_pred_e = np.zeros((len(y_p), 1))\n",
    "for i in range(len(y_p)):\n",
    "    y_pred_e[i, 0] = y_p[i]\n",
    "\n",
    "estimate_model(y_pred_e, y_ember_test)"
   ]
  },
  {
   "cell_type": "markdown",
   "metadata": {},
   "source": [
    "# Mal Conv + Ember"
   ]
  },
  {
   "cell_type": "markdown",
   "metadata": {},
   "source": [
    "get 128 features from the last layers of Malconv"
   ]
  },
  {
   "cell_type": "code",
   "execution_count": 58,
   "metadata": {},
   "outputs": [
    {
     "name": "stdout",
     "output_type": "stream",
     "text": [
      "5805/5805 [==============================] - 1279s 220ms/step\n",
      "5061/5061 [==============================] - 1451s 287ms/step\n"
     ]
    }
   ],
   "source": [
    "from keras.models import Model\n",
    "\n",
    "model_f = Model(c_model.input, c_model.layers[-2].output)\n",
    "\n",
    "train_generator = DataGenerator(range(len(clean_data)), clean_data, label, 16, max_length, False)\n",
    "malcon_train_x = model_f.predict_generator(generator=train_generator, max_queue_size=10, workers=6, use_multiprocessing=True, verbose=1)\n",
    "\n",
    "test_generator = DataGenerator(range(len(test_data)), test_data, test_label, 16, max_length, False)\n",
    "malcon_test_x = model_f.predict_generator(generator=test_generator, max_queue_size=10, workers=6, use_multiprocessing=True, verbose=1)"
   ]
  },
  {
   "cell_type": "markdown",
   "metadata": {},
   "source": [
    "## merge mal conv and ember *train* data"
   ]
  },
  {
   "cell_type": "code",
   "execution_count": 59,
   "metadata": {},
   "outputs": [
    {
     "name": "stdout",
     "output_type": "stream",
     "text": [
      "[1]\tvalid_0's binary_logloss: 0.598871\n",
      "Training until validation scores don't improve for 10 rounds.\n",
      "[2]\tvalid_0's binary_logloss: 0.524257\n",
      "[3]\tvalid_0's binary_logloss: 0.461943\n",
      "[4]\tvalid_0's binary_logloss: 0.409495\n",
      "[5]\tvalid_0's binary_logloss: 0.364785\n",
      "[6]\tvalid_0's binary_logloss: 0.326203\n",
      "[7]\tvalid_0's binary_logloss: 0.292764\n",
      "[8]\tvalid_0's binary_logloss: 0.263572\n",
      "[9]\tvalid_0's binary_logloss: 0.237854\n",
      "[10]\tvalid_0's binary_logloss: 0.215196\n",
      "[11]\tvalid_0's binary_logloss: 0.195019\n",
      "[12]\tvalid_0's binary_logloss: 0.17755\n",
      "[13]\tvalid_0's binary_logloss: 0.161864\n",
      "[14]\tvalid_0's binary_logloss: 0.148007\n",
      "[15]\tvalid_0's binary_logloss: 0.135492\n",
      "[16]\tvalid_0's binary_logloss: 0.124528\n",
      "[17]\tvalid_0's binary_logloss: 0.114605\n",
      "[18]\tvalid_0's binary_logloss: 0.105775\n",
      "[19]\tvalid_0's binary_logloss: 0.0978768\n",
      "[20]\tvalid_0's binary_logloss: 0.0907353\n",
      "[21]\tvalid_0's binary_logloss: 0.0842877\n",
      "[22]\tvalid_0's binary_logloss: 0.0786998\n",
      "[23]\tvalid_0's binary_logloss: 0.0736948\n",
      "[24]\tvalid_0's binary_logloss: 0.0690758\n",
      "[25]\tvalid_0's binary_logloss: 0.0650353\n",
      "[26]\tvalid_0's binary_logloss: 0.0611668\n",
      "[27]\tvalid_0's binary_logloss: 0.0577612\n",
      "[28]\tvalid_0's binary_logloss: 0.0544862\n",
      "[29]\tvalid_0's binary_logloss: 0.0517204\n",
      "[30]\tvalid_0's binary_logloss: 0.0492451\n",
      "[31]\tvalid_0's binary_logloss: 0.0468279\n",
      "[32]\tvalid_0's binary_logloss: 0.0446837\n",
      "[33]\tvalid_0's binary_logloss: 0.0427611\n",
      "[34]\tvalid_0's binary_logloss: 0.0410062\n",
      "[35]\tvalid_0's binary_logloss: 0.0395921\n",
      "[36]\tvalid_0's binary_logloss: 0.0381645\n",
      "[37]\tvalid_0's binary_logloss: 0.03699\n",
      "[38]\tvalid_0's binary_logloss: 0.0358496\n",
      "[39]\tvalid_0's binary_logloss: 0.0349075\n",
      "[40]\tvalid_0's binary_logloss: 0.0339551\n",
      "[41]\tvalid_0's binary_logloss: 0.0330935\n",
      "[42]\tvalid_0's binary_logloss: 0.0323325\n",
      "[43]\tvalid_0's binary_logloss: 0.0315309\n",
      "[44]\tvalid_0's binary_logloss: 0.0307834\n",
      "[45]\tvalid_0's binary_logloss: 0.0300593\n",
      "[46]\tvalid_0's binary_logloss: 0.0296371\n",
      "[47]\tvalid_0's binary_logloss: 0.0290147\n",
      "[48]\tvalid_0's binary_logloss: 0.0283926\n",
      "[49]\tvalid_0's binary_logloss: 0.0279374\n",
      "[50]\tvalid_0's binary_logloss: 0.0275215\n",
      "[51]\tvalid_0's binary_logloss: 0.0271029\n",
      "[52]\tvalid_0's binary_logloss: 0.0267968\n",
      "[53]\tvalid_0's binary_logloss: 0.026498\n",
      "[54]\tvalid_0's binary_logloss: 0.0262087\n",
      "[55]\tvalid_0's binary_logloss: 0.0258979\n",
      "[56]\tvalid_0's binary_logloss: 0.0257618\n",
      "[57]\tvalid_0's binary_logloss: 0.0256126\n",
      "[58]\tvalid_0's binary_logloss: 0.0253417\n",
      "[59]\tvalid_0's binary_logloss: 0.0250746\n",
      "[60]\tvalid_0's binary_logloss: 0.0249436\n",
      "[61]\tvalid_0's binary_logloss: 0.0248272\n",
      "[62]\tvalid_0's binary_logloss: 0.0246404\n",
      "[63]\tvalid_0's binary_logloss: 0.0245479\n",
      "[64]\tvalid_0's binary_logloss: 0.0245025\n",
      "[65]\tvalid_0's binary_logloss: 0.0244153\n",
      "[66]\tvalid_0's binary_logloss: 0.0241751\n",
      "[67]\tvalid_0's binary_logloss: 0.0239543\n",
      "[68]\tvalid_0's binary_logloss: 0.0237612\n",
      "[69]\tvalid_0's binary_logloss: 0.0236591\n",
      "[70]\tvalid_0's binary_logloss: 0.0235059\n",
      "[71]\tvalid_0's binary_logloss: 0.0233982\n",
      "[72]\tvalid_0's binary_logloss: 0.0233516\n",
      "[73]\tvalid_0's binary_logloss: 0.0233075\n",
      "[74]\tvalid_0's binary_logloss: 0.0231406\n",
      "[75]\tvalid_0's binary_logloss: 0.0231733\n",
      "[76]\tvalid_0's binary_logloss: 0.0230182\n",
      "[77]\tvalid_0's binary_logloss: 0.0229879\n",
      "[78]\tvalid_0's binary_logloss: 0.0228457\n",
      "[79]\tvalid_0's binary_logloss: 0.0227036\n",
      "[80]\tvalid_0's binary_logloss: 0.0226718\n",
      "[81]\tvalid_0's binary_logloss: 0.0224954\n",
      "[82]\tvalid_0's binary_logloss: 0.0224259\n",
      "[83]\tvalid_0's binary_logloss: 0.0223588\n",
      "[84]\tvalid_0's binary_logloss: 0.0222038\n",
      "[85]\tvalid_0's binary_logloss: 0.0221885\n",
      "[86]\tvalid_0's binary_logloss: 0.0221612\n",
      "[87]\tvalid_0's binary_logloss: 0.0222344\n",
      "[88]\tvalid_0's binary_logloss: 0.0221746\n",
      "[89]\tvalid_0's binary_logloss: 0.0221939\n",
      "[90]\tvalid_0's binary_logloss: 0.0221069\n",
      "[91]\tvalid_0's binary_logloss: 0.0220303\n",
      "[92]\tvalid_0's binary_logloss: 0.0220816\n",
      "[93]\tvalid_0's binary_logloss: 0.0220452\n",
      "[94]\tvalid_0's binary_logloss: 0.0220611\n",
      "[95]\tvalid_0's binary_logloss: 0.0219648\n",
      "[96]\tvalid_0's binary_logloss: 0.0219424\n",
      "[97]\tvalid_0's binary_logloss: 0.0219305\n",
      "[98]\tvalid_0's binary_logloss: 0.0218039\n",
      "[99]\tvalid_0's binary_logloss: 0.0217464\n",
      "[100]\tvalid_0's binary_logloss: 0.0216968\n",
      "[101]\tvalid_0's binary_logloss: 0.0217068\n",
      "[102]\tvalid_0's binary_logloss: 0.0217813\n",
      "[103]\tvalid_0's binary_logloss: 0.0217591\n",
      "[104]\tvalid_0's binary_logloss: 0.0216725\n",
      "[105]\tvalid_0's binary_logloss: 0.0216671\n",
      "[106]\tvalid_0's binary_logloss: 0.0216493\n",
      "[107]\tvalid_0's binary_logloss: 0.0217051\n",
      "[108]\tvalid_0's binary_logloss: 0.0216712\n",
      "[109]\tvalid_0's binary_logloss: 0.0215726\n",
      "[110]\tvalid_0's binary_logloss: 0.0215323\n",
      "[111]\tvalid_0's binary_logloss: 0.0215251\n",
      "[112]\tvalid_0's binary_logloss: 0.0214313\n",
      "[113]\tvalid_0's binary_logloss: 0.0214938\n",
      "[114]\tvalid_0's binary_logloss: 0.0214287\n",
      "[115]\tvalid_0's binary_logloss: 0.0215031\n",
      "[116]\tvalid_0's binary_logloss: 0.0215644\n",
      "[117]\tvalid_0's binary_logloss: 0.0214824\n",
      "[118]\tvalid_0's binary_logloss: 0.0215313\n",
      "[119]\tvalid_0's binary_logloss: 0.0215693\n",
      "[120]\tvalid_0's binary_logloss: 0.0214953\n",
      "[121]\tvalid_0's binary_logloss: 0.0214737\n",
      "[122]\tvalid_0's binary_logloss: 0.0215235\n",
      "[123]\tvalid_0's binary_logloss: 0.0215828\n",
      "[124]\tvalid_0's binary_logloss: 0.0215478\n",
      "Early stopping, best iteration is:\n",
      "[114]\tvalid_0's binary_logloss: 0.0214287\n",
      "val loss : 0.02143\n",
      "auc score : 0.99963\n",
      "accuracy score : 0.99354\n"
     ]
    }
   ],
   "source": [
    "num = len(malcon_train_x)\n",
    "ebm_X = np.zeros((num, 2351+128), dtype=float)\n",
    "ebm_y = np.zeros(num, dtype=float)\n",
    "\n",
    "for index in range(num):\n",
    "    ebm_X[index, 0:2351] = X_ember_train[index]\n",
    "    ebm_X[index, 2351:2351+128] = malcon_train_x[index]\n",
    "    ebm_y[index] = y_ember_train[index]\n",
    "\n",
    "import matplotlib.pyplot as plt\n",
    "model_m = get_model(ebm_X, ebm_y)"
   ]
  },
  {
   "cell_type": "markdown",
   "metadata": {},
   "source": [
    "## merge mal conv and ember *test* data"
   ]
  },
  {
   "cell_type": "code",
   "execution_count": 60,
   "metadata": {},
   "outputs": [],
   "source": [
    "num = len(malcon_test_x)\n",
    "ebm_X_t = np.zeros((num, 2351+128), dtype=float)\n",
    "ebm_y_t = np.zeros(num, dtype=float)\n",
    "\n",
    "for index in range(num):\n",
    "    ebm_X_t[index, 0:2351] = X_ember_test[index]\n",
    "    ebm_X_t[index, 2351:2351+128] = malcon_test_x[index]\n",
    "    ebm_y_t[index] = y_ember_test[index]"
   ]
  },
  {
   "cell_type": "code",
   "execution_count": 69,
   "metadata": {},
   "outputs": [
    {
     "name": "stdout",
     "output_type": "stream",
     "text": [
      "loss : 0.23710\n",
      "auc score : 0.98685\n",
      "accuracy score : 0.95919\n",
      "thre: 0.99999\n",
      "fp:  0.00094\n",
      "recall:  0.14455\n"
     ]
    },
    {
     "data": {
      "text/plain": [
       "(0.9868454588327674, 0.2370990382658855, 0.14454512504530628)"
      ]
     },
     "execution_count": 69,
     "metadata": {},
     "output_type": "execute_result"
    }
   ],
   "source": [
    "y_p = model_m.predict(ebm_X_t)\n",
    "y_pred = np.zeros((len(y_p), 1))\n",
    "for i in range(len(y_p)):\n",
    "    y_pred[i, 0] = y_p[i]\n",
    "\n",
    "estimate_model(y_pred, ebm_y_t)"
   ]
  }
 ],
 "metadata": {
  "kernelspec": {
   "display_name": "Python 3",
   "language": "python",
   "name": "python3"
  },
  "language_info": {
   "codemirror_mode": {
    "name": "ipython",
    "version": 3
   },
   "file_extension": ".py",
   "mimetype": "text/x-python",
   "name": "python",
   "nbconvert_exporter": "python",
   "pygments_lexer": "ipython3",
   "version": "3.5.5"
  }
 },
 "nbformat": 4,
 "nbformat_minor": 2
}
