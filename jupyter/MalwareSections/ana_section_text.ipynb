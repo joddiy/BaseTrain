{
 "cells": [
  {
   "cell_type": "code",
   "execution_count": 1,
   "metadata": {},
   "outputs": [],
   "source": [
    "import os\n",
    "import lief\n",
    "\n",
    "import pymysql\n",
    "from warnings import filterwarnings\n",
    "\n",
    "_connection = None\n",
    "\n",
    "def get_connection(db_config):\n",
    "    \"\"\"\n",
    "    get db connection\n",
    "    :return:\n",
    "    \"\"\"\n",
    "    global _connection\n",
    "    if _connection is None:\n",
    "        _connection = pymysql.connect(host=db_config['host'], user=db_config['username'],\n",
    "                                      password=db_config['password'],\n",
    "                                      db=db_config['db'], charset=\"utf8\")\n",
    "        filterwarnings('ignore', category=pymysql.Warning)\n",
    "\n",
    "    return _connection\n",
    "\n",
    "\n",
    "def close():\n",
    "    \"\"\"\n",
    "    close DB connection\n",
    "    :return:\n",
    "    \"\"\"\n",
    "    global _connection\n",
    "    if _connection is not None:\n",
    "        _connection.close()\n",
    "    _connection = None"
   ]
  },
  {
   "cell_type": "code",
   "execution_count": 2,
   "metadata": {},
   "outputs": [],
   "source": [
    "db = {\n",
    "    'host': '172.26.187.242',\n",
    "    'username': 'malware_r',\n",
    "    'password': 'GEg22v2O7jbfWhb3',\n",
    "    'db': 'malware'\n",
    "}"
   ]
  },
  {
   "cell_type": "code",
   "execution_count": 3,
   "metadata": {},
   "outputs": [],
   "source": [
    "def common_get(table, condition, columns={\"*\"}, limit=None):\n",
    "    \"\"\"\n",
    "    common get data function\n",
    "    :param table:\n",
    "    :param condition:\n",
    "    :param columns:\n",
    "    :param limit:\n",
    "    :return:\n",
    "    \"\"\"\n",
    "    global _connection\n",
    "    if _connection is None:\n",
    "        raise Exception(\"please init db connect first\")\n",
    "\n",
    "    cursor = _connection.cursor()\n",
    "    cursor.execute(\"SET NAMES utf8mb4\")\n",
    "\n",
    "    ret = []\n",
    "\n",
    "    sql = \"SELECT %s FROM {table} WHERE 1\" % \", \".join(columns)\n",
    "    for item in condition:\n",
    "        sql += \" AND \" + item\n",
    "\n",
    "    sql = sql.format(table=table)\n",
    "    if limit is not None:\n",
    "        sql += \" LIMIT \" + str(limit)\n",
    "    cursor.execute(sql)\n",
    "\n",
    "    field_names = [i[0] for i in cursor.description]\n",
    "\n",
    "    for row in cursor:\n",
    "        temp = {}\n",
    "        for key in range(len(row)):\n",
    "            temp[field_names[key]] = row[key]\n",
    "        ret.append(temp)\n",
    "\n",
    "    cursor.close()\n",
    "    # _connection.close()\n",
    "\n",
    "    return ret"
   ]
  },
  {
   "cell_type": "code",
   "execution_count": 7,
   "metadata": {},
   "outputs": [],
   "source": [
    "get_connection(db)\n",
    "table_suffix = [\"0\",\"1\",\"2\",\"3\",\"4\",\"5\",\"6\",\"7\",\"8\",\"9\",\"A\",\"B\",\"C\",\"D\",\"E\",\"F\"]\n",
    "res = []\n",
    "for suffix in table_suffix:\n",
    "    res.extend(common_get(\"mw_index_2017_\" + suffix, [\"mw_file_size > 1024\"], \n",
    "                          {\"mw_file_hash\", \"mw_file_size\", \"mw_file_directory\"}))\n",
    "close()"
   ]
  },
  {
   "cell_type": "code",
   "execution_count": 8,
   "metadata": {},
   "outputs": [
    {
     "data": {
      "text/plain": [
       "1423004"
      ]
     },
     "execution_count": 8,
     "metadata": {},
     "output_type": "execute_result"
    }
   ],
   "source": [
    "len(res)"
   ]
  },
  {
   "cell_type": "code",
   "execution_count": 9,
   "metadata": {},
   "outputs": [
    {
     "name": "stdout",
     "output_type": "stream",
     "text": [
      "/hdd1/raw_pe_data/2017/201701/004A6FEA496A60BF1D12E613C100C91E582517D32B9691F7358B48A00A8736DB_7168\n",
      ".text     eef       1000      1000      400       0         6.34585   CNT_CODE - MEM_EXECUTE - MEM_READ\n",
      ".data     ac        2000      200       1400      0         2.82428   CNT_INITIALIZED_DATA - MEM_READ - MEM_WRITE\n",
      ".rsrc     3e8       3000      400       1600      0         3.31465   CNT_INITIALIZED_DATA - MEM_READ\n",
      ".reloc    14c       4000      200       1a00      0         5.53136   CNT_INITIALIZED_DATA - MEM_DISCARDABLE - MEM_READ\n",
      "/hdd1/raw_pe_data/2017/201701/055ABABEAA7592D6B2F93502B1986130644542E084AA5B1992CB876155A84EFB_32256\n",
      ".text     774       2000      800       200       0         4.87809   CNT_CODE - MEM_EXECUTE - MEM_READ\n",
      ".rsrc     7148      4000      7200      a00       0         5.4705    CNT_INITIALIZED_DATA - MEM_READ\n",
      ".reloc    c         c000      200       7c00      0         1.58496   CNT_INITIALIZED_DATA - MEM_DISCARDABLE - MEM_READ\n",
      "/hdd1/raw_pe_data/2017/201701/0657075017A48B884D79105478553AB68793D5F26349290BD10ADAEAE79750A3_10240\n",
      ".text     1d14      2000      1e00      200       0         5.44346   CNT_CODE - MEM_EXECUTE - MEM_READ\n",
      ".rsrc     5c0       4000      600       2000      0         4.2376    CNT_INITIALIZED_DATA - MEM_READ\n",
      ".reloc    c         6000      200       2600      0         1.58496   CNT_INITIALIZED_DATA - MEM_DISCARDABLE - MEM_READ\n"
     ]
    }
   ],
   "source": [
    "# import lief\n",
    "\n",
    "base_path = \"/hdd1/raw_pe_data/2017/{0}/{1}_{2}\"\n",
    "idx = 0\n",
    "for item in res:\n",
    "    file_path = base_path.format(item[\"mw_file_directory\"], item[\"mw_file_hash\"], item[\"mw_file_size\"])\n",
    "    lief_binary = lief.PE.parse(file_path)\n",
    "    print(file_path)\n",
    "    for section in lief_binary.sections:\n",
    "        print(section)\n",
    "    idx += 1\n",
    "    if idx > 2:\n",
    "        break"
   ]
  }
 ],
 "metadata": {
  "kernelspec": {
   "display_name": "Python [conda root]",
   "language": "python",
   "name": "conda-root-py"
  },
  "language_info": {
   "codemirror_mode": {
    "name": "ipython",
    "version": 3
   },
   "file_extension": ".py",
   "mimetype": "text/x-python",
   "name": "python",
   "nbconvert_exporter": "python",
   "pygments_lexer": "ipython3",
   "version": "3.6.5"
  }
 },
 "nbformat": 4,
 "nbformat_minor": 2
}
