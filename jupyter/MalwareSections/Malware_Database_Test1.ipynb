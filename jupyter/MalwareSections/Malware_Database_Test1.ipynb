{
 "cells": [
  {
   "cell_type": "markdown",
   "metadata": {},
   "source": [
    "## Read data from database"
   ]
  },
  {
   "cell_type": "code",
   "execution_count": 1,
   "metadata": {},
   "outputs": [],
   "source": [
    "import os\n",
    "# specify which GPU will be used\n",
    "os.environ['CUDA_VISIBLE_DEVICES'] = '2'"
   ]
  },
  {
   "cell_type": "code",
   "execution_count": 2,
   "metadata": {},
   "outputs": [],
   "source": [
    "import os\n",
    "\n",
    "import pymysql\n",
    "from warnings import filterwarnings\n",
    "\n",
    "_connection = None\n",
    "\n",
    "def get_connection(db_config):\n",
    "    \"\"\"\n",
    "    get db connection\n",
    "    :return:\n",
    "    \"\"\"\n",
    "    global _connection\n",
    "    if _connection is None:\n",
    "        _connection = pymysql.connect(host=db_config['host'], user=db_config['username'],\n",
    "                                      password=db_config['password'],\n",
    "                                      db=db_config['db'], charset=\"utf8\")\n",
    "        filterwarnings('ignore', category=pymysql.Warning)\n",
    "\n",
    "    return _connection\n",
    "\n",
    "\n",
    "def close():\n",
    "    \"\"\"\n",
    "    close DB connection\n",
    "    :return:\n",
    "    \"\"\"\n",
    "    global _connection\n",
    "    if _connection is not None:\n",
    "        _connection.close()\n",
    "    _connection = None"
   ]
  },
  {
   "cell_type": "code",
   "execution_count": 3,
   "metadata": {},
   "outputs": [],
   "source": [
    "db = {\n",
    "    'host': '172.26.187.242',\n",
    "    'username': 'malware_r',\n",
    "    'password': 'GEg22v2O7jbfWhb3',\n",
    "    'db': 'malware'\n",
    "}"
   ]
  },
  {
   "cell_type": "markdown",
   "metadata": {},
   "source": [
    "### Fields\n",
    "\n",
    "- mw_file_suffix: file name after hash value\n",
    "- mw_file_prefix: directory\n",
    "- mw_em_f: features of ember, splitted by \";\""
   ]
  },
  {
   "cell_type": "code",
   "execution_count": 4,
   "metadata": {},
   "outputs": [],
   "source": [
    "import time\n",
    "\n",
    "# the base function which can query sql and return dict data\n",
    "def get_specific_data(table_suffix, sql=None):\n",
    "    start_time = time.time()\n",
    "    \n",
    "    global _connection\n",
    "    if _connection is None:\n",
    "        raise Exception(\"please init db connect first\")\n",
    "\n",
    "    cursor = _connection.cursor()\n",
    "    cursor.execute(\"SET NAMES utf8mb4\")\n",
    "\n",
    "    ret = []\n",
    "    \n",
    "    sql = \"\"\"\n",
    "select\n",
    "  a.mw_file_hash,\n",
    "  a.section_name,\n",
    "  c.mw_file_suffix as mw_file_size,\n",
    "  c.mw_file_prefix as mw_file_directory,\n",
    "  c.mw_num_engines,\n",
    "  a.pointerto_raw_data,\n",
    "  a.virtual_size,\n",
    "  d.mw_em_f\n",
    "from mw_index_2017_section_%s as a\n",
    "  inner join mw_index_2017_%s c on a.mw_file_hash = c.mw_file_hash\n",
    "  inner join mw_index_2017_feature_%s d on a.mw_file_hash = d.mw_file_hash\n",
    "where a.section_name = '.text' and c.mw_num_engines <> -1 and (c.mw_num_engines > 6 or c.mw_num_engines = 0) and\n",
    "      c.mw_file_prefix in ('201701', '201703')\n",
    "group by mw_file_hash\n",
    "    \"\"\" % (table_suffix, table_suffix, table_suffix)\n",
    "    \n",
    "    if sql is None:\n",
    "        sql = sql\n",
    "    cursor.execute(sql)\n",
    "\n",
    "    field_names = [i[0] for i in cursor.description]\n",
    "\n",
    "    for row in cursor:\n",
    "        temp = {}\n",
    "        for key in range(len(row)):\n",
    "            temp[field_names[key]] = row[key]\n",
    "        ret.append(temp)\n",
    "     \n",
    "    cursor.close()\n",
    "    # _connection.close()\n",
    "    print(\"--- %s seconds ---\" % (time.time() - start_time))\n",
    "    \n",
    "    return ret"
   ]
  },
  {
   "cell_type": "code",
   "execution_count": 5,
   "metadata": {},
   "outputs": [
    {
     "name": "stdout",
     "output_type": "stream",
     "text": [
      "--- 8.362408638000488 seconds ---\n",
      "--- 6.992529630661011 seconds ---\n",
      "--- 6.6882483959198 seconds ---\n",
      "--- 6.539879322052002 seconds ---\n",
      "--- 4.872157335281372 seconds ---\n",
      "--- 6.577094793319702 seconds ---\n",
      "--- 8.06700873374939 seconds ---\n",
      "--- 6.630244255065918 seconds ---\n",
      "--- 6.555645942687988 seconds ---\n",
      "--- 8.353384017944336 seconds ---\n",
      "--- 5.908476829528809 seconds ---\n",
      "--- 5.881518363952637 seconds ---\n",
      "--- 6.985220432281494 seconds ---\n",
      "--- 5.4133665561676025 seconds ---\n",
      "--- 5.166863918304443 seconds ---\n",
      "--- 5.010003089904785 seconds ---\n",
      "239085\n"
     ]
    }
   ],
   "source": [
    "close()\n",
    "res = []\n",
    "get_connection(db)\n",
    "table_suffix = [\"0\",\"1\",\"2\",\"3\",\"4\",\"5\",\"6\",\"7\",\"8\",\"9\",\"A\",\"B\",\"C\",\"D\",\"E\",\"F\"]\n",
    "# Iterate all partitions of databases\n",
    "for suffix in table_suffix:\n",
    "    res.extend(get_specific_data(suffix))\n",
    "close()\n",
    "print(len(res))"
   ]
  },
  {
   "cell_type": "markdown",
   "metadata": {},
   "source": [
    "## Check and split data"
   ]
  },
  {
   "cell_type": "code",
   "execution_count": 6,
   "metadata": {},
   "outputs": [],
   "source": [
    "import pandas as pd\n",
    "data = pd.DataFrame(res)\n",
    "del res"
   ]
  },
  {
   "cell_type": "code",
   "execution_count": 7,
   "metadata": {
    "scrolled": true
   },
   "outputs": [
    {
     "data": {
      "text/html": [
       "<div>\n",
       "<style scoped>\n",
       "    .dataframe tbody tr th:only-of-type {\n",
       "        vertical-align: middle;\n",
       "    }\n",
       "\n",
       "    .dataframe tbody tr th {\n",
       "        vertical-align: top;\n",
       "    }\n",
       "\n",
       "    .dataframe thead th {\n",
       "        text-align: right;\n",
       "    }\n",
       "</style>\n",
       "<table border=\"1\" class=\"dataframe\">\n",
       "  <thead>\n",
       "    <tr style=\"text-align: right;\">\n",
       "      <th></th>\n",
       "      <th>mw_em_f</th>\n",
       "      <th>mw_file_directory</th>\n",
       "      <th>mw_file_hash</th>\n",
       "      <th>mw_file_size</th>\n",
       "      <th>mw_num_engines</th>\n",
       "      <th>pointerto_raw_data</th>\n",
       "      <th>section_name</th>\n",
       "      <th>virtual_size</th>\n",
       "    </tr>\n",
       "  </thead>\n",
       "  <tbody>\n",
       "    <tr>\n",
       "      <th>0</th>\n",
       "      <td>0.21537522971630094;0.02217341773211956;0.0131...</td>\n",
       "      <td>201703</td>\n",
       "      <td>000002D8A582B2083F1F2DEF365A82234766D546EC8021...</td>\n",
       "      <td>_958490</td>\n",
       "      <td>0</td>\n",
       "      <td>1024</td>\n",
       "      <td>.text</td>\n",
       "      <td>440152</td>\n",
       "    </tr>\n",
       "    <tr>\n",
       "      <th>1</th>\n",
       "      <td>0.2265700697898865;0.01793677918612957;0.01251...</td>\n",
       "      <td>201703</td>\n",
       "      <td>000043B9D37086041959E44EB6EED77F05DA44492F3B6A...</td>\n",
       "      <td>_6343168</td>\n",
       "      <td>0</td>\n",
       "      <td>634368</td>\n",
       "      <td>.text</td>\n",
       "      <td>5549270</td>\n",
       "    </tr>\n",
       "    <tr>\n",
       "      <th>2</th>\n",
       "      <td>0.30814531445503235;0.004307170398533343;0.003...</td>\n",
       "      <td>201701</td>\n",
       "      <td>0000A3EAB7F06DB29113F7BDE61328D56BC874B16DD895...</td>\n",
       "      <td>_339434</td>\n",
       "      <td>11</td>\n",
       "      <td>1024</td>\n",
       "      <td>.text</td>\n",
       "      <td>13352</td>\n",
       "    </tr>\n",
       "    <tr>\n",
       "      <th>3</th>\n",
       "      <td>0.7433035969734192;0.004743303637951613;0.0041...</td>\n",
       "      <td>201701</td>\n",
       "      <td>0000D95594F0BC57CA94FD90C9477A7B984A8429B7A45B...</td>\n",
       "      <td>_3584</td>\n",
       "      <td>7</td>\n",
       "      <td>1024</td>\n",
       "      <td>.text</td>\n",
       "      <td>566</td>\n",
       "    </tr>\n",
       "    <tr>\n",
       "      <th>4</th>\n",
       "      <td>0.013131157495081423;0.004108430817723274;0.00...</td>\n",
       "      <td>201701</td>\n",
       "      <td>00015BCA398B78199C5442DB5B28D14405549FB135FA69...</td>\n",
       "      <td>_2098368</td>\n",
       "      <td>0</td>\n",
       "      <td>1024</td>\n",
       "      <td>.text</td>\n",
       "      <td>25467</td>\n",
       "    </tr>\n",
       "  </tbody>\n",
       "</table>\n",
       "</div>"
      ],
      "text/plain": [
       "                                             mw_em_f mw_file_directory  \\\n",
       "0  0.21537522971630094;0.02217341773211956;0.0131...            201703   \n",
       "1  0.2265700697898865;0.01793677918612957;0.01251...            201703   \n",
       "2  0.30814531445503235;0.004307170398533343;0.003...            201701   \n",
       "3  0.7433035969734192;0.004743303637951613;0.0041...            201701   \n",
       "4  0.013131157495081423;0.004108430817723274;0.00...            201701   \n",
       "\n",
       "                                        mw_file_hash mw_file_size  \\\n",
       "0  000002D8A582B2083F1F2DEF365A82234766D546EC8021...      _958490   \n",
       "1  000043B9D37086041959E44EB6EED77F05DA44492F3B6A...     _6343168   \n",
       "2  0000A3EAB7F06DB29113F7BDE61328D56BC874B16DD895...      _339434   \n",
       "3  0000D95594F0BC57CA94FD90C9477A7B984A8429B7A45B...        _3584   \n",
       "4  00015BCA398B78199C5442DB5B28D14405549FB135FA69...     _2098368   \n",
       "\n",
       "   mw_num_engines  pointerto_raw_data section_name  virtual_size  \n",
       "0               0                1024        .text        440152  \n",
       "1               0              634368        .text       5549270  \n",
       "2              11                1024        .text         13352  \n",
       "3               7                1024        .text           566  \n",
       "4               0                1024        .text         25467  "
      ]
     },
     "execution_count": 7,
     "metadata": {},
     "output_type": "execute_result"
    }
   ],
   "source": [
    "data.head()"
   ]
  },
  {
   "cell_type": "code",
   "execution_count": 8,
   "metadata": {},
   "outputs": [
    {
     "name": "stdout",
     "output_type": "stream",
     "text": [
      "(195320, 8)\n"
     ]
    },
    {
     "name": "stderr",
     "output_type": "stream",
     "text": [
      "/home/zhaoqi/anaconda3/envs/tf/lib/python3.5/site-packages/matplotlib/axes/_axes.py:6462: UserWarning: The 'normed' kwarg is deprecated, and has been replaced by the 'density' kwarg.\n",
      "  warnings.warn(\"The 'normed' kwarg is deprecated, and has been \"\n"
     ]
    },
    {
     "data": {
      "text/plain": [
       "<Figure size 640x480 with 1 Axes>"
      ]
     },
     "metadata": {},
     "output_type": "display_data"
    }
   ],
   "source": [
    "import numpy as np\n",
    "import scipy.stats as stats\n",
    "import pylab as pl\n",
    "\n",
    "max_length = 300000\n",
    "\n",
    "# only keep the data whoose length less than max_length\n",
    "clean_data = data.loc[data.virtual_size <= max_length]\n",
    "clean_data = clean_data.reset_index(drop=True)\n",
    "del data\n",
    "\n",
    "print(clean_data.shape)\n",
    "\n",
    "h = sorted(clean_data.virtual_size.ravel())  #sorted\n",
    "\n",
    "fit = stats.norm.pdf(h, np.mean(h), np.std(h))  #this is a fitting indeed\n",
    "\n",
    "pl.plot(h,fit,'-o')\n",
    "\n",
    "pl.hist(h,normed=True)      #use this to draw histogram of your data\n",
    "\n",
    "pl.show()                   #use may also need add this "
   ]
  },
  {
   "cell_type": "code",
   "execution_count": 9,
   "metadata": {},
   "outputs": [
    {
     "name": "stderr",
     "output_type": "stream",
     "text": [
      "/home/zhaoqi/anaconda3/envs/tf/lib/python3.5/site-packages/ipykernel_launcher.py:2: SettingWithCopyWarning: \n",
      "A value is trying to be set on a copy of a slice from a DataFrame\n",
      "\n",
      "See the caveats in the documentation: http://pandas.pydata.org/pandas-docs/stable/indexing.html#indexing-view-versus-copy\n",
      "  \n",
      "/home/zhaoqi/anaconda3/envs/tf/lib/python3.5/site-packages/ipykernel_launcher.py:3: SettingWithCopyWarning: \n",
      "A value is trying to be set on a copy of a slice from a DataFrame\n",
      "\n",
      "See the caveats in the documentation: http://pandas.pydata.org/pandas-docs/stable/indexing.html#indexing-view-versus-copy\n",
      "  This is separate from the ipykernel package so we can avoid doing imports until\n"
     ]
    },
    {
     "data": {
      "text/plain": [
       "array([1, 1, 0, ..., 1, 0, 1])"
      ]
     },
     "execution_count": 9,
     "metadata": {},
     "output_type": "execute_result"
    }
   ],
   "source": [
    "# re-value label\n",
    "clean_data.mw_num_engines[clean_data.mw_num_engines == 0 ] = 0\n",
    "clean_data.mw_num_engines[clean_data.mw_num_engines > 6 ] = 1\n",
    "label = clean_data.mw_num_engines.ravel()\n",
    "label"
   ]
  },
  {
   "cell_type": "code",
   "execution_count": 10,
   "metadata": {},
   "outputs": [],
   "source": [
    "from sklearn.model_selection import train_test_split\n",
    "\n",
    "x_tmp, x_test, y_tmp, y_test = train_test_split(clean_data, label, test_size=0.1, random_state=1234)\n",
    "x_train, x_val, y_train, y_val = train_test_split(x_tmp, y_tmp, test_size=0.1, random_state=1234)\n",
    "del x_tmp, y_tmp"
   ]
  },
  {
   "cell_type": "code",
   "execution_count": 11,
   "metadata": {},
   "outputs": [],
   "source": [
    "if False:\n",
    "    _, x_train, _, y_train = train_test_split(x_train, y_train, test_size=0.1, random_state=1234)\n",
    "    _, x_val, _, y_val = train_test_split(x_val, y_val, test_size=0.1, random_state=1234)\n",
    "    _, x_test, _, y_test = train_test_split(x_test, y_test, test_size=0.1, random_state=1234)\n",
    "    \n",
    "x_train = x_train.reset_index(drop=True)\n",
    "x_val = x_val.reset_index(drop=True)\n",
    "x_test = x_test.reset_index(drop=True)"
   ]
  },
  {
   "cell_type": "markdown",
   "metadata": {},
   "source": [
    "## EMBER"
   ]
  },
  {
   "cell_type": "code",
   "execution_count": 12,
   "metadata": {},
   "outputs": [],
   "source": [
    "import pandas as pd\n",
    "import re\n",
    "import hashlib\n",
    "import numpy as np\n",
    "from sklearn.feature_extraction import FeatureHasher\n",
    "from sklearn.model_selection import train_test_split\n",
    "import lightgbm as lgb\n",
    "from sklearn.metrics import roc_auc_score, accuracy_score, log_loss, confusion_matrix"
   ]
  },
  {
   "cell_type": "code",
   "execution_count": 13,
   "metadata": {},
   "outputs": [],
   "source": [
    "def get_ember_feature(data):\n",
    "    ember_f = np.zeros((len(data.mw_em_f), 2351), dtype=float)\n",
    "    for index, item in data.iterrows():\n",
    "        ember_f[index, :] = item['mw_em_f'].split(';')\n",
    "    return ember_f"
   ]
  },
  {
   "cell_type": "code",
   "execution_count": 14,
   "metadata": {},
   "outputs": [],
   "source": [
    "def get_model(x_train, y_train, x_val, y_val):\n",
    "    params = {'application': 'binary'}\n",
    "    lgbm_dataset = lgb.Dataset(x_train, y_train.ravel())\n",
    "    valid_sets = lgb.Dataset(x_val, y_val.ravel())\n",
    "\n",
    "    model = lgb.train(params, lgbm_dataset, 100000, valid_sets=valid_sets, early_stopping_rounds=10)\n",
    "    y_pred = model.predict(x_val)\n",
    "    \n",
    "    loss = log_loss(y_val, y_pred)\n",
    "    auc = roc_auc_score(y_val, y_pred)\n",
    "    acc = accuracy_score(y_val, (y_pred > 0.5).astype(int))\n",
    "#     model.save_model(file_path + \"-%04d-%.5f-%.5f.h5\" % (model.best_iteration, loss, acc),\n",
    "#                      num_iteration=model.best_iteration)\n",
    "    print(\"val loss : %.5f\" % loss)\n",
    "    print(\"auc score : %.5f\" % auc)\n",
    "    print(\"accuracy score : %.5f\" % acc)\n",
    "        \n",
    "    return model"
   ]
  },
  {
   "cell_type": "code",
   "execution_count": 15,
   "metadata": {},
   "outputs": [],
   "source": [
    "x_etrain = get_ember_feature(x_train)\n",
    "x_eval = get_ember_feature(x_val)\n",
    "x_etest = get_ember_feature(x_test)"
   ]
  },
  {
   "cell_type": "code",
   "execution_count": 16,
   "metadata": {},
   "outputs": [
    {
     "name": "stdout",
     "output_type": "stream",
     "text": [
      "[1]\tvalid_0's binary_logloss: 0.614484\n",
      "Training until validation scores don't improve for 10 rounds.\n",
      "[2]\tvalid_0's binary_logloss: 0.550099\n",
      "[3]\tvalid_0's binary_logloss: 0.494397\n",
      "[4]\tvalid_0's binary_logloss: 0.448523\n",
      "[5]\tvalid_0's binary_logloss: 0.408788\n",
      "[6]\tvalid_0's binary_logloss: 0.374659\n",
      "[7]\tvalid_0's binary_logloss: 0.343673\n",
      "[8]\tvalid_0's binary_logloss: 0.317212\n",
      "[9]\tvalid_0's binary_logloss: 0.293053\n",
      "[10]\tvalid_0's binary_logloss: 0.272161\n",
      "[11]\tvalid_0's binary_logloss: 0.253889\n",
      "[12]\tvalid_0's binary_logloss: 0.237777\n",
      "[13]\tvalid_0's binary_logloss: 0.223329\n",
      "[14]\tvalid_0's binary_logloss: 0.20963\n",
      "[15]\tvalid_0's binary_logloss: 0.197764\n",
      "[16]\tvalid_0's binary_logloss: 0.186851\n",
      "[17]\tvalid_0's binary_logloss: 0.176721\n",
      "[18]\tvalid_0's binary_logloss: 0.167491\n",
      "[19]\tvalid_0's binary_logloss: 0.159512\n",
      "[20]\tvalid_0's binary_logloss: 0.151825\n",
      "[21]\tvalid_0's binary_logloss: 0.144917\n",
      "[22]\tvalid_0's binary_logloss: 0.138606\n",
      "[23]\tvalid_0's binary_logloss: 0.132997\n",
      "[24]\tvalid_0's binary_logloss: 0.126941\n",
      "[25]\tvalid_0's binary_logloss: 0.121499\n",
      "[26]\tvalid_0's binary_logloss: 0.116544\n",
      "[27]\tvalid_0's binary_logloss: 0.111921\n",
      "[28]\tvalid_0's binary_logloss: 0.108049\n",
      "[29]\tvalid_0's binary_logloss: 0.104495\n",
      "[30]\tvalid_0's binary_logloss: 0.101195\n",
      "[31]\tvalid_0's binary_logloss: 0.0982046\n",
      "[32]\tvalid_0's binary_logloss: 0.0952795\n",
      "[33]\tvalid_0's binary_logloss: 0.0926843\n",
      "[34]\tvalid_0's binary_logloss: 0.0902724\n",
      "[35]\tvalid_0's binary_logloss: 0.0879637\n",
      "[36]\tvalid_0's binary_logloss: 0.0857417\n",
      "[37]\tvalid_0's binary_logloss: 0.0837599\n",
      "[38]\tvalid_0's binary_logloss: 0.0818859\n",
      "[39]\tvalid_0's binary_logloss: 0.0800457\n",
      "[40]\tvalid_0's binary_logloss: 0.0785047\n",
      "[41]\tvalid_0's binary_logloss: 0.0768147\n",
      "[42]\tvalid_0's binary_logloss: 0.0754058\n",
      "[43]\tvalid_0's binary_logloss: 0.0740385\n",
      "[44]\tvalid_0's binary_logloss: 0.0728229\n",
      "[45]\tvalid_0's binary_logloss: 0.0714832\n",
      "[46]\tvalid_0's binary_logloss: 0.0703322\n",
      "[47]\tvalid_0's binary_logloss: 0.0690321\n",
      "[48]\tvalid_0's binary_logloss: 0.0680049\n",
      "[49]\tvalid_0's binary_logloss: 0.0670714\n",
      "[50]\tvalid_0's binary_logloss: 0.0659322\n",
      "[51]\tvalid_0's binary_logloss: 0.0651887\n",
      "[52]\tvalid_0's binary_logloss: 0.0641942\n",
      "[53]\tvalid_0's binary_logloss: 0.0633798\n",
      "[54]\tvalid_0's binary_logloss: 0.0626512\n",
      "[55]\tvalid_0's binary_logloss: 0.0620071\n",
      "[56]\tvalid_0's binary_logloss: 0.0612808\n",
      "[57]\tvalid_0's binary_logloss: 0.0605498\n",
      "[58]\tvalid_0's binary_logloss: 0.0597789\n",
      "[59]\tvalid_0's binary_logloss: 0.0592537\n",
      "[60]\tvalid_0's binary_logloss: 0.0583711\n",
      "[61]\tvalid_0's binary_logloss: 0.0576479\n",
      "[62]\tvalid_0's binary_logloss: 0.0571917\n",
      "[63]\tvalid_0's binary_logloss: 0.0567097\n",
      "[64]\tvalid_0's binary_logloss: 0.0562238\n",
      "[65]\tvalid_0's binary_logloss: 0.0556164\n",
      "[66]\tvalid_0's binary_logloss: 0.0551097\n",
      "[67]\tvalid_0's binary_logloss: 0.0545336\n",
      "[68]\tvalid_0's binary_logloss: 0.054181\n",
      "[69]\tvalid_0's binary_logloss: 0.0537775\n",
      "[70]\tvalid_0's binary_logloss: 0.053421\n",
      "[71]\tvalid_0's binary_logloss: 0.0531004\n",
      "[72]\tvalid_0's binary_logloss: 0.0527534\n",
      "[73]\tvalid_0's binary_logloss: 0.0522716\n",
      "[74]\tvalid_0's binary_logloss: 0.0519291\n",
      "[75]\tvalid_0's binary_logloss: 0.0515133\n",
      "[76]\tvalid_0's binary_logloss: 0.0512401\n",
      "[77]\tvalid_0's binary_logloss: 0.050929\n",
      "[78]\tvalid_0's binary_logloss: 0.0506836\n",
      "[79]\tvalid_0's binary_logloss: 0.0504593\n",
      "[80]\tvalid_0's binary_logloss: 0.0502062\n",
      "[81]\tvalid_0's binary_logloss: 0.0499298\n",
      "[82]\tvalid_0's binary_logloss: 0.0496014\n",
      "[83]\tvalid_0's binary_logloss: 0.0492612\n",
      "[84]\tvalid_0's binary_logloss: 0.0490589\n",
      "[85]\tvalid_0's binary_logloss: 0.0488171\n",
      "[86]\tvalid_0's binary_logloss: 0.0485614\n",
      "[87]\tvalid_0's binary_logloss: 0.048318\n",
      "[88]\tvalid_0's binary_logloss: 0.0480542\n",
      "[89]\tvalid_0's binary_logloss: 0.0477172\n",
      "[90]\tvalid_0's binary_logloss: 0.047439\n",
      "[91]\tvalid_0's binary_logloss: 0.047198\n",
      "[92]\tvalid_0's binary_logloss: 0.0470434\n",
      "[93]\tvalid_0's binary_logloss: 0.0468127\n",
      "[94]\tvalid_0's binary_logloss: 0.0465659\n",
      "[95]\tvalid_0's binary_logloss: 0.0463337\n",
      "[96]\tvalid_0's binary_logloss: 0.0461554\n",
      "[97]\tvalid_0's binary_logloss: 0.0459472\n",
      "[98]\tvalid_0's binary_logloss: 0.0458115\n",
      "[99]\tvalid_0's binary_logloss: 0.0456842\n",
      "[100]\tvalid_0's binary_logloss: 0.0455773\n",
      "[101]\tvalid_0's binary_logloss: 0.0454029\n",
      "[102]\tvalid_0's binary_logloss: 0.0452685\n",
      "[103]\tvalid_0's binary_logloss: 0.0451357\n",
      "[104]\tvalid_0's binary_logloss: 0.0449742\n",
      "[105]\tvalid_0's binary_logloss: 0.0448053\n",
      "[106]\tvalid_0's binary_logloss: 0.044617\n",
      "[107]\tvalid_0's binary_logloss: 0.0444631\n",
      "[108]\tvalid_0's binary_logloss: 0.044333\n",
      "[109]\tvalid_0's binary_logloss: 0.0441656\n",
      "[110]\tvalid_0's binary_logloss: 0.0440688\n",
      "[111]\tvalid_0's binary_logloss: 0.043929\n",
      "[112]\tvalid_0's binary_logloss: 0.0438419\n",
      "[113]\tvalid_0's binary_logloss: 0.0437171\n",
      "[114]\tvalid_0's binary_logloss: 0.0435571\n",
      "[115]\tvalid_0's binary_logloss: 0.0434375\n",
      "[116]\tvalid_0's binary_logloss: 0.0433137\n",
      "[117]\tvalid_0's binary_logloss: 0.0432046\n",
      "[118]\tvalid_0's binary_logloss: 0.0430598\n",
      "[119]\tvalid_0's binary_logloss: 0.042875\n",
      "[120]\tvalid_0's binary_logloss: 0.0427189\n",
      "[121]\tvalid_0's binary_logloss: 0.0426556\n",
      "[122]\tvalid_0's binary_logloss: 0.0425697\n",
      "[123]\tvalid_0's binary_logloss: 0.042382\n",
      "[124]\tvalid_0's binary_logloss: 0.0423004\n",
      "[125]\tvalid_0's binary_logloss: 0.042219\n",
      "[126]\tvalid_0's binary_logloss: 0.042185\n",
      "[127]\tvalid_0's binary_logloss: 0.0421368\n",
      "[128]\tvalid_0's binary_logloss: 0.0419768\n",
      "[129]\tvalid_0's binary_logloss: 0.0419076\n",
      "[130]\tvalid_0's binary_logloss: 0.0417935\n",
      "[131]\tvalid_0's binary_logloss: 0.0417142\n",
      "[132]\tvalid_0's binary_logloss: 0.0416761\n",
      "[133]\tvalid_0's binary_logloss: 0.0415443\n",
      "[134]\tvalid_0's binary_logloss: 0.0414818\n",
      "[135]\tvalid_0's binary_logloss: 0.0413996\n",
      "[136]\tvalid_0's binary_logloss: 0.0412829\n",
      "[137]\tvalid_0's binary_logloss: 0.0412526\n",
      "[138]\tvalid_0's binary_logloss: 0.0411506\n",
      "[139]\tvalid_0's binary_logloss: 0.0410867\n",
      "[140]\tvalid_0's binary_logloss: 0.0410578\n",
      "[141]\tvalid_0's binary_logloss: 0.0409648\n",
      "[142]\tvalid_0's binary_logloss: 0.0408703\n",
      "[143]\tvalid_0's binary_logloss: 0.0408107\n",
      "[144]\tvalid_0's binary_logloss: 0.0407407\n",
      "[145]\tvalid_0's binary_logloss: 0.0407202\n",
      "[146]\tvalid_0's binary_logloss: 0.0406628\n",
      "[147]\tvalid_0's binary_logloss: 0.0405789\n",
      "[148]\tvalid_0's binary_logloss: 0.0405474\n",
      "[149]\tvalid_0's binary_logloss: 0.0405057\n",
      "[150]\tvalid_0's binary_logloss: 0.0404142\n",
      "[151]\tvalid_0's binary_logloss: 0.0403433\n",
      "[152]\tvalid_0's binary_logloss: 0.0402884\n",
      "[153]\tvalid_0's binary_logloss: 0.0401996\n",
      "[154]\tvalid_0's binary_logloss: 0.0401264\n",
      "[155]\tvalid_0's binary_logloss: 0.0400457\n",
      "[156]\tvalid_0's binary_logloss: 0.0399902\n",
      "[157]\tvalid_0's binary_logloss: 0.0399127\n",
      "[158]\tvalid_0's binary_logloss: 0.0398595\n",
      "[159]\tvalid_0's binary_logloss: 0.0397684\n",
      "[160]\tvalid_0's binary_logloss: 0.0397459\n",
      "[161]\tvalid_0's binary_logloss: 0.0396871\n",
      "[162]\tvalid_0's binary_logloss: 0.0396216\n",
      "[163]\tvalid_0's binary_logloss: 0.0395746\n",
      "[164]\tvalid_0's binary_logloss: 0.0395568\n",
      "[165]\tvalid_0's binary_logloss: 0.0394775\n",
      "[166]\tvalid_0's binary_logloss: 0.0394045\n",
      "[167]\tvalid_0's binary_logloss: 0.0393746\n",
      "[168]\tvalid_0's binary_logloss: 0.0393287\n",
      "[169]\tvalid_0's binary_logloss: 0.0392473\n",
      "[170]\tvalid_0's binary_logloss: 0.0391955\n",
      "[171]\tvalid_0's binary_logloss: 0.039119\n",
      "[172]\tvalid_0's binary_logloss: 0.0390746\n",
      "[173]\tvalid_0's binary_logloss: 0.0390463\n",
      "[174]\tvalid_0's binary_logloss: 0.0389663\n",
      "[175]\tvalid_0's binary_logloss: 0.0388945\n",
      "[176]\tvalid_0's binary_logloss: 0.0389142\n",
      "[177]\tvalid_0's binary_logloss: 0.0388994\n",
      "[178]\tvalid_0's binary_logloss: 0.0388284\n",
      "[179]\tvalid_0's binary_logloss: 0.0387268\n",
      "[180]\tvalid_0's binary_logloss: 0.0386552\n",
      "[181]\tvalid_0's binary_logloss: 0.0385561\n",
      "[182]\tvalid_0's binary_logloss: 0.038504\n",
      "[183]\tvalid_0's binary_logloss: 0.0384823\n",
      "[184]\tvalid_0's binary_logloss: 0.0383606\n",
      "[185]\tvalid_0's binary_logloss: 0.0382881\n",
      "[186]\tvalid_0's binary_logloss: 0.0382009\n",
      "[187]\tvalid_0's binary_logloss: 0.038187\n",
      "[188]\tvalid_0's binary_logloss: 0.0381381\n",
      "[189]\tvalid_0's binary_logloss: 0.0380852\n",
      "[190]\tvalid_0's binary_logloss: 0.0380374\n",
      "[191]\tvalid_0's binary_logloss: 0.038003\n",
      "[192]\tvalid_0's binary_logloss: 0.0379898\n",
      "[193]\tvalid_0's binary_logloss: 0.037957\n",
      "[194]\tvalid_0's binary_logloss: 0.0378558\n",
      "[195]\tvalid_0's binary_logloss: 0.0378397\n",
      "[196]\tvalid_0's binary_logloss: 0.0378234\n",
      "[197]\tvalid_0's binary_logloss: 0.0377583\n",
      "[198]\tvalid_0's binary_logloss: 0.0377115\n",
      "[199]\tvalid_0's binary_logloss: 0.0376825\n"
     ]
    },
    {
     "name": "stdout",
     "output_type": "stream",
     "text": [
      "[200]\tvalid_0's binary_logloss: 0.0376357\n",
      "[201]\tvalid_0's binary_logloss: 0.0376006\n",
      "[202]\tvalid_0's binary_logloss: 0.0375417\n",
      "[203]\tvalid_0's binary_logloss: 0.0375119\n",
      "[204]\tvalid_0's binary_logloss: 0.037477\n",
      "[205]\tvalid_0's binary_logloss: 0.037536\n",
      "[206]\tvalid_0's binary_logloss: 0.03754\n",
      "[207]\tvalid_0's binary_logloss: 0.0374733\n",
      "[208]\tvalid_0's binary_logloss: 0.0374413\n",
      "[209]\tvalid_0's binary_logloss: 0.0373689\n",
      "[210]\tvalid_0's binary_logloss: 0.0373494\n",
      "[211]\tvalid_0's binary_logloss: 0.0372682\n",
      "[212]\tvalid_0's binary_logloss: 0.0372647\n",
      "[213]\tvalid_0's binary_logloss: 0.0372082\n",
      "[214]\tvalid_0's binary_logloss: 0.0371941\n",
      "[215]\tvalid_0's binary_logloss: 0.0372099\n",
      "[216]\tvalid_0's binary_logloss: 0.0371795\n",
      "[217]\tvalid_0's binary_logloss: 0.0371744\n",
      "[218]\tvalid_0's binary_logloss: 0.0371375\n",
      "[219]\tvalid_0's binary_logloss: 0.0370788\n",
      "[220]\tvalid_0's binary_logloss: 0.0370617\n",
      "[221]\tvalid_0's binary_logloss: 0.0370499\n",
      "[222]\tvalid_0's binary_logloss: 0.0370233\n",
      "[223]\tvalid_0's binary_logloss: 0.0370145\n",
      "[224]\tvalid_0's binary_logloss: 0.0369669\n",
      "[225]\tvalid_0's binary_logloss: 0.0369493\n",
      "[226]\tvalid_0's binary_logloss: 0.036951\n",
      "[227]\tvalid_0's binary_logloss: 0.036923\n",
      "[228]\tvalid_0's binary_logloss: 0.0369249\n",
      "[229]\tvalid_0's binary_logloss: 0.0368533\n",
      "[230]\tvalid_0's binary_logloss: 0.0368058\n",
      "[231]\tvalid_0's binary_logloss: 0.0367963\n",
      "[232]\tvalid_0's binary_logloss: 0.0368248\n",
      "[233]\tvalid_0's binary_logloss: 0.0368013\n",
      "[234]\tvalid_0's binary_logloss: 0.0367878\n",
      "[235]\tvalid_0's binary_logloss: 0.0367768\n",
      "[236]\tvalid_0's binary_logloss: 0.0367291\n",
      "[237]\tvalid_0's binary_logloss: 0.0366972\n",
      "[238]\tvalid_0's binary_logloss: 0.0366192\n",
      "[239]\tvalid_0's binary_logloss: 0.0365872\n",
      "[240]\tvalid_0's binary_logloss: 0.0365596\n",
      "[241]\tvalid_0's binary_logloss: 0.0365516\n",
      "[242]\tvalid_0's binary_logloss: 0.0365413\n",
      "[243]\tvalid_0's binary_logloss: 0.0365541\n",
      "[244]\tvalid_0's binary_logloss: 0.0365508\n",
      "[245]\tvalid_0's binary_logloss: 0.0365276\n",
      "[246]\tvalid_0's binary_logloss: 0.0364918\n",
      "[247]\tvalid_0's binary_logloss: 0.0364802\n",
      "[248]\tvalid_0's binary_logloss: 0.036473\n",
      "[249]\tvalid_0's binary_logloss: 0.0364671\n",
      "[250]\tvalid_0's binary_logloss: 0.0364361\n",
      "[251]\tvalid_0's binary_logloss: 0.0363783\n",
      "[252]\tvalid_0's binary_logloss: 0.0363463\n",
      "[253]\tvalid_0's binary_logloss: 0.0363072\n",
      "[254]\tvalid_0's binary_logloss: 0.0362735\n",
      "[255]\tvalid_0's binary_logloss: 0.0362452\n",
      "[256]\tvalid_0's binary_logloss: 0.0362267\n",
      "[257]\tvalid_0's binary_logloss: 0.036234\n",
      "[258]\tvalid_0's binary_logloss: 0.0362251\n",
      "[259]\tvalid_0's binary_logloss: 0.036211\n",
      "[260]\tvalid_0's binary_logloss: 0.0361762\n",
      "[261]\tvalid_0's binary_logloss: 0.0361569\n",
      "[262]\tvalid_0's binary_logloss: 0.0361261\n",
      "[263]\tvalid_0's binary_logloss: 0.0360951\n",
      "[264]\tvalid_0's binary_logloss: 0.0360651\n",
      "[265]\tvalid_0's binary_logloss: 0.0360361\n",
      "[266]\tvalid_0's binary_logloss: 0.036013\n",
      "[267]\tvalid_0's binary_logloss: 0.0359884\n",
      "[268]\tvalid_0's binary_logloss: 0.0360027\n",
      "[269]\tvalid_0's binary_logloss: 0.0359957\n",
      "[270]\tvalid_0's binary_logloss: 0.0359693\n",
      "[271]\tvalid_0's binary_logloss: 0.0359359\n",
      "[272]\tvalid_0's binary_logloss: 0.0359169\n",
      "[273]\tvalid_0's binary_logloss: 0.035838\n",
      "[274]\tvalid_0's binary_logloss: 0.0358428\n",
      "[275]\tvalid_0's binary_logloss: 0.0358299\n",
      "[276]\tvalid_0's binary_logloss: 0.0357902\n",
      "[277]\tvalid_0's binary_logloss: 0.0357538\n",
      "[278]\tvalid_0's binary_logloss: 0.0357159\n",
      "[279]\tvalid_0's binary_logloss: 0.035722\n",
      "[280]\tvalid_0's binary_logloss: 0.0357005\n",
      "[281]\tvalid_0's binary_logloss: 0.0357119\n",
      "[282]\tvalid_0's binary_logloss: 0.0356661\n",
      "[283]\tvalid_0's binary_logloss: 0.0356567\n",
      "[284]\tvalid_0's binary_logloss: 0.0356846\n",
      "[285]\tvalid_0's binary_logloss: 0.0356592\n",
      "[286]\tvalid_0's binary_logloss: 0.0356204\n",
      "[287]\tvalid_0's binary_logloss: 0.0356294\n",
      "[288]\tvalid_0's binary_logloss: 0.0356024\n",
      "[289]\tvalid_0's binary_logloss: 0.0355889\n",
      "[290]\tvalid_0's binary_logloss: 0.0355839\n",
      "[291]\tvalid_0's binary_logloss: 0.0355563\n",
      "[292]\tvalid_0's binary_logloss: 0.0355553\n",
      "[293]\tvalid_0's binary_logloss: 0.035571\n",
      "[294]\tvalid_0's binary_logloss: 0.0355727\n",
      "[295]\tvalid_0's binary_logloss: 0.0355561\n",
      "[296]\tvalid_0's binary_logloss: 0.0355251\n",
      "[297]\tvalid_0's binary_logloss: 0.0355322\n",
      "[298]\tvalid_0's binary_logloss: 0.0355068\n",
      "[299]\tvalid_0's binary_logloss: 0.0354828\n",
      "[300]\tvalid_0's binary_logloss: 0.0354576\n",
      "[301]\tvalid_0's binary_logloss: 0.0354464\n",
      "[302]\tvalid_0's binary_logloss: 0.0353825\n",
      "[303]\tvalid_0's binary_logloss: 0.0353741\n",
      "[304]\tvalid_0's binary_logloss: 0.0353764\n",
      "[305]\tvalid_0's binary_logloss: 0.0353587\n",
      "[306]\tvalid_0's binary_logloss: 0.0353324\n",
      "[307]\tvalid_0's binary_logloss: 0.0353371\n",
      "[308]\tvalid_0's binary_logloss: 0.0353195\n",
      "[309]\tvalid_0's binary_logloss: 0.0353098\n",
      "[310]\tvalid_0's binary_logloss: 0.0352627\n",
      "[311]\tvalid_0's binary_logloss: 0.0352239\n",
      "[312]\tvalid_0's binary_logloss: 0.0351915\n",
      "[313]\tvalid_0's binary_logloss: 0.0351742\n",
      "[314]\tvalid_0's binary_logloss: 0.035147\n",
      "[315]\tvalid_0's binary_logloss: 0.0351609\n",
      "[316]\tvalid_0's binary_logloss: 0.0351827\n",
      "[317]\tvalid_0's binary_logloss: 0.0351346\n",
      "[318]\tvalid_0's binary_logloss: 0.0351296\n",
      "[319]\tvalid_0's binary_logloss: 0.0351369\n",
      "[320]\tvalid_0's binary_logloss: 0.0351602\n",
      "[321]\tvalid_0's binary_logloss: 0.0352135\n",
      "[322]\tvalid_0's binary_logloss: 0.0352455\n",
      "[323]\tvalid_0's binary_logloss: 0.0352635\n",
      "[324]\tvalid_0's binary_logloss: 0.0352078\n",
      "[325]\tvalid_0's binary_logloss: 0.0352218\n",
      "[326]\tvalid_0's binary_logloss: 0.035235\n",
      "[327]\tvalid_0's binary_logloss: 0.0351972\n",
      "[328]\tvalid_0's binary_logloss: 0.035189\n",
      "Early stopping, best iteration is:\n",
      "[318]\tvalid_0's binary_logloss: 0.0351296\n",
      "val loss : 0.03513\n",
      "auc score : 0.99913\n",
      "accuracy score : 0.98760\n"
     ]
    }
   ],
   "source": [
    "import matplotlib.pyplot as plt\n",
    "model = get_model(x_etrain, y_train, x_eval, y_val)"
   ]
  },
  {
   "cell_type": "code",
   "execution_count": 17,
   "metadata": {},
   "outputs": [],
   "source": [
    "def estimate_model(y_pred, test_y):\n",
    "    \n",
    "    loss = log_loss(test_y, y_pred)\n",
    "    auc = roc_auc_score(test_y, y_pred)\n",
    "    acc = accuracy_score(test_y, (y_pred > 0.5).astype(int))\n",
    "    print(\"loss : %.5f\" % loss)\n",
    "    print(\"auc score : %.5f\" % auc)\n",
    "    print(\"accuracy score : %.5f\" % acc)\n",
    "\n",
    "    fp_np_index = np.where(test_y == 0)\n",
    "    fp_np = y_pred[fp_np_index].shape[0]\n",
    "    thre_index = int(np.ceil(fp_np - fp_np * 0.001))\n",
    "\n",
    "    sorted_pred_prob = np.sort(y_pred[fp_np_index], axis=0)\n",
    "    thre = sorted_pred_prob[thre_index]\n",
    "    if thre == 1:\n",
    "        thre = max(sorted_pred_prob[np.where(sorted_pred_prob != 1)])\n",
    "\n",
    "    y_pred_prob = np.vstack((y_pred.transpose(), (1 - y_pred).transpose())).transpose()\n",
    "    y_pred_prob[:, 1] = thre\n",
    "    y_pred_label = np.argmin(y_pred_prob, axis=-1)\n",
    "\n",
    "    tn, fp, fn, tp = confusion_matrix(test_y, y_pred_label).ravel()\n",
    "    fp_rate = fp / (fp + tn)\n",
    "    recall_rate = tp / (tp + fn)\n",
    "\n",
    "    print(\"thre: %.10f\"%  thre)\n",
    "    print(\"fp:  %.10f\"%  fp_rate)\n",
    "    print(\"recall:  %.5f\"%  recall_rate)\n",
    "    \n",
    "    return auc, loss, recall_rate"
   ]
  },
  {
   "cell_type": "code",
   "execution_count": 18,
   "metadata": {},
   "outputs": [
    {
     "name": "stdout",
     "output_type": "stream",
     "text": [
      "loss : 0.03353\n",
      "auc score : 0.99921\n",
      "accuracy score : 0.98843\n",
      "thre: 0.9819368905\n",
      "fp:  0.0008126778\n",
      "recall:  0.9167010735\n"
     ]
    },
    {
     "data": {
      "text/plain": [
       "(0.9992092686369798, 0.0335258567883324, 0.916701073492981)"
      ]
     },
     "execution_count": 18,
     "metadata": {},
     "output_type": "execute_result"
    }
   ],
   "source": [
    "y_p = model.predict(x_etest)\n",
    "y_pred_e = np.zeros((len(y_p), 1))\n",
    "for i in range(len(y_p)):\n",
    "    y_pred_e[i, 0] = y_p[i]\n",
    "\n",
    "estimate_model(y_pred_e, y_test)"
   ]
  },
  {
   "cell_type": "markdown",
   "metadata": {},
   "source": [
    "## Malcon"
   ]
  },
  {
   "cell_type": "code",
   "execution_count": 19,
   "metadata": {},
   "outputs": [
    {
     "name": "stderr",
     "output_type": "stream",
     "text": [
      "Using TensorFlow backend.\n"
     ]
    }
   ],
   "source": [
    "import keras\n",
    "import numpy as np\n",
    "\n",
    "class DataGenerator(keras.utils.Sequence):\n",
    "    'Generates data for Keras'\n",
    "\n",
    "    def __init__(self, list_IDs, datasets, labels, batch_size=32, dim=8192, shuffle=True):\n",
    "        'Initialization'\n",
    "        self.dim = dim\n",
    "        self.batch_size = batch_size\n",
    "        self.labels = labels\n",
    "        self.list_IDs = list_IDs\n",
    "        self.datasets = datasets\n",
    "        self.shuffle = shuffle\n",
    "        self.on_epoch_end()\n",
    "\n",
    "    def __len__(self):\n",
    "        'Denotes the number of batches per epoch'\n",
    "        return int(np.ceil(len(self.list_IDs) / self.batch_size))\n",
    "\n",
    "    def __getitem__(self, index):\n",
    "        'Generate one batch of data'\n",
    "        # Generate indexes of the batch\n",
    "        indexes = self.indexes[index * self.batch_size:(index + 1) * self.batch_size]\n",
    "\n",
    "        # Find list of IDs\n",
    "        list_IDs_temp = [self.list_IDs[k] for k in indexes]\n",
    "        # Generate data\n",
    "        X, y = self.__data_generation(list_IDs_temp)\n",
    "\n",
    "        return X, y\n",
    "\n",
    "    def on_epoch_end(self):\n",
    "        'Updates indexes after each epoch'\n",
    "        self.indexes = np.arange(len(self.list_IDs))\n",
    "        if self.shuffle == True:\n",
    "            np.random.shuffle(self.indexes)\n",
    "\n",
    "    def __data_generation(self, list_IDs_temp):\n",
    "        'Generates data containing batch_size samples'  # X : (n_samples, *dim, n_channels)\n",
    "        # Initialization\n",
    "        X = np.zeros((self.batch_size, self.dim), dtype=float)\n",
    "        y = np.zeros(self.batch_size, dtype=float)\n",
    "\n",
    "        # Generate data\n",
    "        for i, ID in enumerate(list_IDs_temp):\n",
    "            base_path = \"/ssd/2017/{0}/{1}{2}\"\n",
    "            item = self.datasets.loc[ID]\n",
    "            file_path = base_path.format(item[\"mw_file_directory\"], item[\"mw_file_hash\"], item[\"mw_file_size\"])\n",
    "            in_file = open(file_path, 'rb')\n",
    "            in_file.seek(item['pointerto_raw_data'])\n",
    "            bytes_data = [int(single_byte) for single_byte in in_file.read(item['virtual_size'])]\n",
    "            X[i, 0:len(bytes_data)] = bytes_data\n",
    "            y[i] = self.labels[ID]\n",
    "\n",
    "        return X, y"
   ]
  },
  {
   "cell_type": "code",
   "execution_count": 20,
   "metadata": {},
   "outputs": [],
   "source": [
    "import hashlib\n",
    "import json\n",
    "import time\n",
    "\n",
    "import keras\n",
    "from keras import Input\n",
    "from keras.callbacks import EarlyStopping, TensorBoard, ModelCheckpoint\n",
    "from keras.layers import Dense, Embedding, Conv1D, Multiply, GlobalMaxPooling1D, Dropout\n",
    "from keras.models import load_model\n",
    "from sklearn.model_selection import train_test_split\n",
    "\n",
    "class TMalConv(object):\n",
    "    \"\"\"\n",
    "    train of mal conv\n",
    "    \"\"\"\n",
    "\n",
    "    def __init__(self):\n",
    "        self.max_len = max_length\n",
    "        self.history = None\n",
    "        self.model = None\n",
    "        self.p_md5 = None\n",
    "        self.time = time.time()\n",
    "        self.summary = {\n",
    "            'time':time.time(),\n",
    "            'batch_size': 32,\n",
    "            'epochs': 64,\n",
    "            'g_c_filter': 128,\n",
    "            'g_c_kernel_size': 500,\n",
    "            'g_c_stride': 500,\n",
    "        }\n",
    "\n",
    "    def run(self):\n",
    "        \"\"\"\n",
    "        :return:\n",
    "        \"\"\"\n",
    "        self.train()\n",
    "        \n",
    "    def get_p(self, key):\n",
    "        \"\"\"\n",
    "        get the parameter from the summary\n",
    "        :param key:\n",
    "        :return:\n",
    "        \"\"\"\n",
    "        return self.summary[key]\n",
    "\n",
    "    def gate_cnn(self, gate_cnn_input):\n",
    "        \"\"\"\n",
    "        construct a gated cnn by the specific kernel size\n",
    "        :param gate_cnn_input:\n",
    "        :param kernel_size:\n",
    "        :return:\n",
    "        \"\"\"\n",
    "        conv1_out = Conv1D(self.get_p(\"g_c_filter\"), self.get_p(\"g_c_kernel_size\"), strides=self.get_p(\"g_c_stride\"))(\n",
    "            gate_cnn_input)\n",
    "        conv2_out = Conv1D(self.get_p(\"g_c_filter\"), self.get_p(\"g_c_kernel_size\"), strides=self.get_p(\"g_c_stride\"),\n",
    "                           activation=\"sigmoid\")(gate_cnn_input)\n",
    "        merged = Multiply()([conv1_out, conv2_out])\n",
    "        gate_cnn_output = GlobalMaxPooling1D()(merged)\n",
    "        return gate_cnn_output\n",
    "\n",
    "    def get_model(self):\n",
    "        \"\"\"\n",
    "        get a model\n",
    "        :param max_len:\n",
    "        :param kernel_sizes:\n",
    "        :return:\n",
    "        \"\"\"\n",
    "        net_input = Input(shape=(self.max_len,))\n",
    "\n",
    "        embedding_out = Embedding(256, 8, input_length=self.max_len)(net_input)\n",
    "        merged = self.gate_cnn(embedding_out)\n",
    "\n",
    "        dense_out = Dense(128)(merged)\n",
    "        \n",
    "        net_output = Dense(1, activation='sigmoid')(dense_out)\n",
    "\n",
    "        model = keras.models.Model(inputs=net_input, outputs=net_output)\n",
    "\n",
    "        return model\n",
    "\n",
    "    def train(self):\n",
    "        batch_size = self.get_p(\"batch_size\")\n",
    "        epochs = self.get_p(\"epochs\")\n",
    "\n",
    "        self.model = self.get_model()\n",
    "\n",
    "        print('Length of the train: ', len(x_train))\n",
    "        print('Length of the validation: ', len(x_val))\n",
    "        \n",
    "#         tensor_board = TensorBoard(log_dir='./logs/', batch_size=batch_size)\n",
    "        file_path = \"/home/zhaoqi/BaseTrain/models/\"+ str(self.time) +\"-{epoch:04d}-{val_loss:.5f}-{val_acc:.5f}.h5\"\n",
    "        early_stopping = EarlyStopping(\"val_loss\", patience=3, verbose=0, mode='auto')\n",
    "        check_point = ModelCheckpoint(file_path, monitor='val_loss', verbose=1, save_best_only=True, mode='auto')\n",
    "        callbacks_list = [check_point, early_stopping]\n",
    "\n",
    "        # Generators\n",
    "        training_generator = DataGenerator(range(len(x_train)), x_train, y_train, batch_size, self.max_len)\n",
    "        validation_generator = DataGenerator(range(len(x_val)), x_val, y_val, batch_size, self.max_len)\n",
    "\n",
    "        self.model.compile(loss='binary_crossentropy',\n",
    "                           optimizer='adam',\n",
    "                           metrics=['accuracy'])\n",
    "\n",
    "        self.model.fit_generator(generator=training_generator,\n",
    "                                 validation_data=validation_generator,\n",
    "                                 use_multiprocessing=True,\n",
    "                                 epochs=epochs,\n",
    "                                 workers=6,\n",
    "                                 callbacks=callbacks_list)"
   ]
  },
  {
   "cell_type": "code",
   "execution_count": 21,
   "metadata": {},
   "outputs": [],
   "source": [
    "from keras.backend.tensorflow_backend import set_session\n",
    "import tensorflow as tf\n",
    "\n",
    "config = tf.ConfigProto()\n",
    "config.gpu_options.allow_growth = True\n",
    "set_session(tf.Session(config=config))"
   ]
  },
  {
   "cell_type": "code",
   "execution_count": 22,
   "metadata": {},
   "outputs": [
    {
     "name": "stdout",
     "output_type": "stream",
     "text": [
      "Length of the train:  158209\n",
      "Length of the validation:  17579\n",
      "Epoch 1/64\n",
      "4945/4945 [==============================] - 2370s 479ms/step - loss: 0.1533 - acc: 0.9421 - val_loss: 0.1301 - val_acc: 0.9520\n",
      "\n",
      "Epoch 00001: val_loss improved from inf to 0.13008, saving model to /home/zhaoqi/BaseTrain/models/1531979342.479591-0001-0.13008-0.95205.h5\n",
      "Epoch 2/64\n",
      "4945/4945 [==============================] - 2592s 524ms/step - loss: 0.1042 - acc: 0.9644 - val_loss: 0.1290 - val_acc: 0.9541\n",
      "\n",
      "Epoch 00002: val_loss improved from 0.13008 to 0.12904, saving model to /home/zhaoqi/BaseTrain/models/1531979342.479591-0002-0.12904-0.95409.h5\n",
      "Epoch 3/64\n",
      "4945/4945 [==============================] - 2934s 593ms/step - loss: 0.0819 - acc: 0.9761 - val_loss: 0.1289 - val_acc: 0.9541\n",
      "\n",
      "Epoch 00003: val_loss improved from 0.12904 to 0.12892, saving model to /home/zhaoqi/BaseTrain/models/1531979342.479591-0003-0.12892-0.95415.h5\n",
      "Epoch 4/64\n",
      "3883/4945 [======================>.......] - ETA: 9:31 - loss: 0.0682 - acc: 0.9823"
     ]
    },
    {
     "name": "stderr",
     "output_type": "stream",
     "text": [
      "/home/zhaoqi/anaconda3/envs/tf/lib/python3.5/site-packages/keras/callbacks.py:120: UserWarning: Method on_batch_end() is slow compared to the batch update (0.159305). Check your callbacks.\n",
      "  % delta_t_median)\n"
     ]
    },
    {
     "name": "stdout",
     "output_type": "stream",
     "text": [
      "3888/4945 [======================>.......] - ETA: 9:28 - loss: 0.0682 - acc: 0.9823"
     ]
    },
    {
     "name": "stderr",
     "output_type": "stream",
     "text": [
      "/home/zhaoqi/anaconda3/envs/tf/lib/python3.5/site-packages/keras/callbacks.py:120: UserWarning: Method on_batch_end() is slow compared to the batch update (0.165326). Check your callbacks.\n",
      "  % delta_t_median)\n"
     ]
    },
    {
     "name": "stdout",
     "output_type": "stream",
     "text": [
      "\b\b\b\b\b\b\b\b\b\b\b\b\b\b\b\b\b\b\b\b\b\b\b\b\b\b\b\b\b\b\b\b\b\b\b\b\b\b\b\b\b\b\b\b\b\b\b\b\b\b\b\b\b\b\b\b\b\b\b\b\b\b\b\b\b\b\b\b\b\b\b\b\b\b\b\b\b\b\b\b\b\b\b\r",
      "3889/4945 [======================>.......] - ETA: 9:27 - loss: 0.0682 - acc: 0.9823"
     ]
    },
    {
     "name": "stderr",
     "output_type": "stream",
     "text": [
      "/home/zhaoqi/anaconda3/envs/tf/lib/python3.5/site-packages/keras/callbacks.py:120: UserWarning: Method on_batch_end() is slow compared to the batch update (0.156658). Check your callbacks.\n",
      "  % delta_t_median)\n"
     ]
    },
    {
     "name": "stdout",
     "output_type": "stream",
     "text": [
      "4945/4945 [==============================] - 2963s 599ms/step - loss: 0.0694 - acc: 0.9816 - val_loss: 0.1307 - val_acc: 0.9535\n",
      "\n",
      "Epoch 00004: val_loss did not improve from 0.12892\n",
      "Epoch 5/64\n",
      " 362/4945 [=>............................] - ETA: 34:46 - loss: 0.0607 - acc: 0.9848"
     ]
    },
    {
     "name": "stderr",
     "output_type": "stream",
     "text": [
      "/home/zhaoqi/anaconda3/envs/tf/lib/python3.5/site-packages/keras/callbacks.py:120: UserWarning: Method on_batch_end() is slow compared to the batch update (0.153039). Check your callbacks.\n",
      "  % delta_t_median)\n"
     ]
    },
    {
     "name": "stdout",
     "output_type": "stream",
     "text": [
      " 946/4945 [====>.........................] - ETA: 31:04 - loss: 0.0630 - acc: 0.9840"
     ]
    },
    {
     "name": "stderr",
     "output_type": "stream",
     "text": [
      "/home/zhaoqi/anaconda3/envs/tf/lib/python3.5/site-packages/keras/callbacks.py:120: UserWarning: Method on_batch_end() is slow compared to the batch update (0.148645). Check your callbacks.\n",
      "  % delta_t_median)\n"
     ]
    },
    {
     "name": "stdout",
     "output_type": "stream",
     "text": [
      "1037/4945 [=====>........................] - ETA: 30:37 - loss: 0.0624 - acc: 0.9840"
     ]
    },
    {
     "name": "stderr",
     "output_type": "stream",
     "text": [
      "/home/zhaoqi/anaconda3/envs/tf/lib/python3.5/site-packages/keras/callbacks.py:120: UserWarning: Method on_batch_end() is slow compared to the batch update (0.146977). Check your callbacks.\n",
      "  % delta_t_median)\n"
     ]
    },
    {
     "name": "stdout",
     "output_type": "stream",
     "text": [
      "1066/4945 [=====>........................] - ETA: 30:28 - loss: 0.0618 - acc: 0.9842"
     ]
    },
    {
     "name": "stderr",
     "output_type": "stream",
     "text": [
      "/home/zhaoqi/anaconda3/envs/tf/lib/python3.5/site-packages/keras/callbacks.py:120: UserWarning: Method on_batch_end() is slow compared to the batch update (0.154537). Check your callbacks.\n",
      "  % delta_t_median)\n"
     ]
    },
    {
     "name": "stdout",
     "output_type": "stream",
     "text": [
      "\b\b\b\b\b\b\b\b\b\b\b\b\b\b\b\b\b\b\b\b\b\b\b\b\b\b\b\b\b\b\b\b\b\b\b\b\b\b\b\b\b\b\b\b\b\b\b\b\b\b\b\b\b\b\b\b\b\b\b\b\b\b\b\b\b\b\b\b\b\b\b\b\b\b\b\b\b\b\b\b\b\b\b\b\r",
      "1067/4945 [=====>........................] - ETA: 30:28 - loss: 0.0617 - acc: 0.9842"
     ]
    },
    {
     "name": "stderr",
     "output_type": "stream",
     "text": [
      "/home/zhaoqi/anaconda3/envs/tf/lib/python3.5/site-packages/keras/callbacks.py:120: UserWarning: Method on_batch_end() is slow compared to the batch update (0.148487). Check your callbacks.\n",
      "  % delta_t_median)\n"
     ]
    },
    {
     "name": "stdout",
     "output_type": "stream",
     "text": [
      "1289/4945 [======>.......................] - ETA: 29:12 - loss: 0.0619 - acc: 0.9845"
     ]
    },
    {
     "name": "stderr",
     "output_type": "stream",
     "text": [
      "/home/zhaoqi/anaconda3/envs/tf/lib/python3.5/site-packages/keras/callbacks.py:120: UserWarning: Method on_batch_end() is slow compared to the batch update (0.151865). Check your callbacks.\n",
      "  % delta_t_median)\n"
     ]
    },
    {
     "name": "stdout",
     "output_type": "stream",
     "text": [
      "1373/4945 [=======>......................] - ETA: 28:39 - loss: 0.0629 - acc: 0.9842"
     ]
    },
    {
     "name": "stderr",
     "output_type": "stream",
     "text": [
      "/home/zhaoqi/anaconda3/envs/tf/lib/python3.5/site-packages/keras/callbacks.py:120: UserWarning: Method on_batch_end() is slow compared to the batch update (0.153307). Check your callbacks.\n",
      "  % delta_t_median)\n"
     ]
    },
    {
     "name": "stdout",
     "output_type": "stream",
     "text": [
      "1461/4945 [=======>......................] - ETA: 28:06 - loss: 0.0629 - acc: 0.9841"
     ]
    },
    {
     "name": "stderr",
     "output_type": "stream",
     "text": [
      "/home/zhaoqi/anaconda3/envs/tf/lib/python3.5/site-packages/keras/callbacks.py:120: UserWarning: Method on_batch_end() is slow compared to the batch update (0.152628). Check your callbacks.\n",
      "  % delta_t_median)\n"
     ]
    },
    {
     "name": "stdout",
     "output_type": "stream",
     "text": [
      "1467/4945 [=======>......................] - ETA: 28:04 - loss: 0.0629 - acc: 0.9840"
     ]
    },
    {
     "name": "stderr",
     "output_type": "stream",
     "text": [
      "/home/zhaoqi/anaconda3/envs/tf/lib/python3.5/site-packages/keras/callbacks.py:120: UserWarning: Method on_batch_end() is slow compared to the batch update (0.149280). Check your callbacks.\n",
      "  % delta_t_median)\n"
     ]
    },
    {
     "name": "stdout",
     "output_type": "stream",
     "text": [
      "2723/4945 [===============>..............] - ETA: 17:06 - loss: 0.0630 - acc: 0.98"
     ]
    },
    {
     "name": "stderr",
     "output_type": "stream",
     "text": [
      "/home/zhaoqi/anaconda3/envs/tf/lib/python3.5/site-packages/keras/callbacks.py:120: UserWarning: Method on_batch_end() is slow compared to the batch update (0.150544). Check your callbacks.\n",
      "  % delta_t_median)\n"
     ]
    },
    {
     "name": "stdout",
     "output_type": "stream",
     "text": [
      "2812/4945 [================>.............] - ETA: 16:27 - loss: 0.0629 - acc: 0.9840"
     ]
    },
    {
     "name": "stderr",
     "output_type": "stream",
     "text": [
      "/home/zhaoqi/anaconda3/envs/tf/lib/python3.5/site-packages/keras/callbacks.py:120: UserWarning: Method on_batch_end() is slow compared to the batch update (0.149421). Check your callbacks.\n",
      "  % delta_t_median)\n"
     ]
    },
    {
     "name": "stdout",
     "output_type": "stream",
     "text": [
      "3100/4945 [=================>............] - ETA: 14:19 - loss: 0.0623 - acc: 0.9840"
     ]
    },
    {
     "name": "stderr",
     "output_type": "stream",
     "text": [
      "/home/zhaoqi/anaconda3/envs/tf/lib/python3.5/site-packages/keras/callbacks.py:120: UserWarning: Method on_batch_end() is slow compared to the batch update (0.151095). Check your callbacks.\n",
      "  % delta_t_median)\n"
     ]
    },
    {
     "name": "stdout",
     "output_type": "stream",
     "text": [
      "3192/4945 [==================>...........] - ETA: 13:39 - loss: 0.0626 - acc: 0.9839"
     ]
    },
    {
     "name": "stderr",
     "output_type": "stream",
     "text": [
      "/home/zhaoqi/anaconda3/envs/tf/lib/python3.5/site-packages/keras/callbacks.py:120: UserWarning: Method on_batch_end() is slow compared to the batch update (0.151382). Check your callbacks.\n",
      "  % delta_t_median)\n"
     ]
    },
    {
     "name": "stdout",
     "output_type": "stream",
     "text": [
      "3286/4945 [==================>...........] - ETA: 12:56 - loss: 0.0626 - acc: 0.9840"
     ]
    },
    {
     "name": "stderr",
     "output_type": "stream",
     "text": [
      "/home/zhaoqi/anaconda3/envs/tf/lib/python3.5/site-packages/keras/callbacks.py:120: UserWarning: Method on_batch_end() is slow compared to the batch update (0.149830). Check your callbacks.\n",
      "  % delta_t_median)\n"
     ]
    },
    {
     "name": "stdout",
     "output_type": "stream",
     "text": [
      "3292/4945 [==================>...........] - ETA: 12:54 - loss: 0.0627 - acc: 0.9839"
     ]
    },
    {
     "name": "stderr",
     "output_type": "stream",
     "text": [
      "/home/zhaoqi/anaconda3/envs/tf/lib/python3.5/site-packages/keras/callbacks.py:120: UserWarning: Method on_batch_end() is slow compared to the batch update (0.146782). Check your callbacks.\n",
      "  % delta_t_median)\n"
     ]
    },
    {
     "name": "stdout",
     "output_type": "stream",
     "text": [
      "3381/4945 [===================>..........] - ETA: 12:13 - loss: 0.0627 - acc: 0.9840"
     ]
    },
    {
     "name": "stderr",
     "output_type": "stream",
     "text": [
      "/home/zhaoqi/anaconda3/envs/tf/lib/python3.5/site-packages/keras/callbacks.py:120: UserWarning: Method on_batch_end() is slow compared to the batch update (0.148405). Check your callbacks.\n",
      "  % delta_t_median)\n"
     ]
    },
    {
     "name": "stdout",
     "output_type": "stream",
     "text": [
      "3387/4945 [===================>..........] - ETA: 12:10 - loss: 0.0628 - acc: 0.9840"
     ]
    },
    {
     "name": "stderr",
     "output_type": "stream",
     "text": [
      "/home/zhaoqi/anaconda3/envs/tf/lib/python3.5/site-packages/keras/callbacks.py:120: UserWarning: Method on_batch_end() is slow compared to the batch update (0.141670). Check your callbacks.\n",
      "  % delta_t_median)\n"
     ]
    },
    {
     "name": "stdout",
     "output_type": "stream",
     "text": [
      "3475/4945 [====================>.........] - ETA: 11:30 - loss: 0.0632 - acc: 0.9837"
     ]
    },
    {
     "name": "stderr",
     "output_type": "stream",
     "text": [
      "/home/zhaoqi/anaconda3/envs/tf/lib/python3.5/site-packages/keras/callbacks.py:120: UserWarning: Method on_batch_end() is slow compared to the batch update (0.149062). Check your callbacks.\n",
      "  % delta_t_median)\n"
     ]
    },
    {
     "name": "stdout",
     "output_type": "stream",
     "text": [
      "3481/4945 [====================>.........] - ETA: 11:27 - loss: 0.0632 - acc: 0.9837"
     ]
    },
    {
     "name": "stderr",
     "output_type": "stream",
     "text": [
      "/home/zhaoqi/anaconda3/envs/tf/lib/python3.5/site-packages/keras/callbacks.py:120: UserWarning: Method on_batch_end() is slow compared to the batch update (0.150018). Check your callbacks.\n",
      "  % delta_t_median)\n"
     ]
    },
    {
     "name": "stdout",
     "output_type": "stream",
     "text": [
      "3567/4945 [====================>.........] - ETA: 10:48 - loss: 0.0633 - acc: 0.9837"
     ]
    },
    {
     "name": "stderr",
     "output_type": "stream",
     "text": [
      "/home/zhaoqi/anaconda3/envs/tf/lib/python3.5/site-packages/keras/callbacks.py:120: UserWarning: Method on_batch_end() is slow compared to the batch update (0.148446). Check your callbacks.\n",
      "  % delta_t_median)\n"
     ]
    },
    {
     "name": "stdout",
     "output_type": "stream",
     "text": [
      "3659/4945 [=====================>........] - ETA: 10:06 - loss: 0.0631 - acc: 0.9837"
     ]
    },
    {
     "name": "stderr",
     "output_type": "stream",
     "text": [
      "/home/zhaoqi/anaconda3/envs/tf/lib/python3.5/site-packages/keras/callbacks.py:120: UserWarning: Method on_batch_end() is slow compared to the batch update (0.150844). Check your callbacks.\n",
      "  % delta_t_median)\n"
     ]
    },
    {
     "name": "stdout",
     "output_type": "stream",
     "text": [
      "3664/4945 [=====================>........] - ETA: 10:04 - loss: 0.0631 - acc: 0.9837"
     ]
    },
    {
     "name": "stderr",
     "output_type": "stream",
     "text": [
      "/home/zhaoqi/anaconda3/envs/tf/lib/python3.5/site-packages/keras/callbacks.py:120: UserWarning: Method on_batch_end() is slow compared to the batch update (0.146923). Check your callbacks.\n",
      "  % delta_t_median)\n"
     ]
    },
    {
     "name": "stdout",
     "output_type": "stream",
     "text": [
      "3749/4945 [=====================>........] - ETA: 9:25 - loss: 0.0630 - acc: 0.9837"
     ]
    },
    {
     "name": "stderr",
     "output_type": "stream",
     "text": [
      "/home/zhaoqi/anaconda3/envs/tf/lib/python3.5/site-packages/keras/callbacks.py:120: UserWarning: Method on_batch_end() is slow compared to the batch update (0.160527). Check your callbacks.\n",
      "  % delta_t_median)\n"
     ]
    },
    {
     "name": "stdout",
     "output_type": "stream",
     "text": [
      "3843/4945 [======================>.......] - ETA: 8:41 - loss: 0.0628 - acc: 0.9837"
     ]
    },
    {
     "name": "stderr",
     "output_type": "stream",
     "text": [
      "/home/zhaoqi/anaconda3/envs/tf/lib/python3.5/site-packages/keras/callbacks.py:120: UserWarning: Method on_batch_end() is slow compared to the batch update (0.150041). Check your callbacks.\n",
      "  % delta_t_median)\n"
     ]
    },
    {
     "name": "stdout",
     "output_type": "stream",
     "text": [
      "3940/4945 [======================>.......] - ETA: 7:56 - loss: 0.0629 - acc: 0.9838"
     ]
    },
    {
     "name": "stderr",
     "output_type": "stream",
     "text": [
      "/home/zhaoqi/anaconda3/envs/tf/lib/python3.5/site-packages/keras/callbacks.py:120: UserWarning: Method on_batch_end() is slow compared to the batch update (0.146455). Check your callbacks.\n",
      "  % delta_t_median)\n"
     ]
    },
    {
     "name": "stdout",
     "output_type": "stream",
     "text": [
      "4025/4945 [=======================>......] - ETA: 7:17 - loss: 0.0628 - acc: 0.9838"
     ]
    },
    {
     "name": "stderr",
     "output_type": "stream",
     "text": [
      "/home/zhaoqi/anaconda3/envs/tf/lib/python3.5/site-packages/keras/callbacks.py:120: UserWarning: Method on_batch_end() is slow compared to the batch update (0.152761). Check your callbacks.\n",
      "  % delta_t_median)\n"
     ]
    },
    {
     "name": "stdout",
     "output_type": "stream",
     "text": [
      "4031/4945 [=======================>......] - ETA: 7:14 - loss: 0.0628 - acc: 0.9838"
     ]
    },
    {
     "name": "stderr",
     "output_type": "stream",
     "text": [
      "/home/zhaoqi/anaconda3/envs/tf/lib/python3.5/site-packages/keras/callbacks.py:120: UserWarning: Method on_batch_end() is slow compared to the batch update (0.150017). Check your callbacks.\n",
      "  % delta_t_median)\n"
     ]
    },
    {
     "name": "stdout",
     "output_type": "stream",
     "text": [
      "4205/4945 [========================>.....] - ETA: 5:53 - loss: 0.0630 - acc: 0.9837"
     ]
    },
    {
     "name": "stderr",
     "output_type": "stream",
     "text": [
      "/home/zhaoqi/anaconda3/envs/tf/lib/python3.5/site-packages/keras/callbacks.py:120: UserWarning: Method on_batch_end() is slow compared to the batch update (0.151279). Check your callbacks.\n",
      "  % delta_t_median)\n"
     ]
    },
    {
     "name": "stdout",
     "output_type": "stream",
     "text": [
      "4211/4945 [========================>.....] - ETA: 5:50 - loss: 0.0631 - acc: 0.9837"
     ]
    },
    {
     "name": "stderr",
     "output_type": "stream",
     "text": [
      "/home/zhaoqi/anaconda3/envs/tf/lib/python3.5/site-packages/keras/callbacks.py:120: UserWarning: Method on_batch_end() is slow compared to the batch update (0.151682). Check your callbacks.\n",
      "  % delta_t_median)\n"
     ]
    },
    {
     "name": "stdout",
     "output_type": "stream",
     "text": [
      "4295/4945 [=========================>....] - ETA: 5:10 - loss: 0.0630 - acc: 0.9837"
     ]
    },
    {
     "name": "stderr",
     "output_type": "stream",
     "text": [
      "/home/zhaoqi/anaconda3/envs/tf/lib/python3.5/site-packages/keras/callbacks.py:120: UserWarning: Method on_batch_end() is slow compared to the batch update (0.151999). Check your callbacks.\n",
      "  % delta_t_median)\n"
     ]
    },
    {
     "name": "stdout",
     "output_type": "stream",
     "text": [
      "4301/4945 [=========================>....] - ETA: 5:07 - loss: 0.0630 - acc: 0.9837"
     ]
    },
    {
     "name": "stderr",
     "output_type": "stream",
     "text": [
      "/home/zhaoqi/anaconda3/envs/tf/lib/python3.5/site-packages/keras/callbacks.py:120: UserWarning: Method on_batch_end() is slow compared to the batch update (0.151308). Check your callbacks.\n",
      "  % delta_t_median)\n"
     ]
    },
    {
     "name": "stdout",
     "output_type": "stream",
     "text": [
      "4387/4945 [=========================>....] - ETA: 4:27 - loss: 0.0629 - acc: 0.9837"
     ]
    },
    {
     "name": "stderr",
     "output_type": "stream",
     "text": [
      "/home/zhaoqi/anaconda3/envs/tf/lib/python3.5/site-packages/keras/callbacks.py:120: UserWarning: Method on_batch_end() is slow compared to the batch update (0.154471). Check your callbacks.\n",
      "  % delta_t_median)\n"
     ]
    },
    {
     "name": "stdout",
     "output_type": "stream",
     "text": [
      "4393/4945 [=========================>....] - ETA: 4:24 - loss: 0.0628 - acc: 0.9837"
     ]
    },
    {
     "name": "stderr",
     "output_type": "stream",
     "text": [
      "/home/zhaoqi/anaconda3/envs/tf/lib/python3.5/site-packages/keras/callbacks.py:120: UserWarning: Method on_batch_end() is slow compared to the batch update (0.152513). Check your callbacks.\n",
      "  % delta_t_median)\n"
     ]
    },
    {
     "name": "stdout",
     "output_type": "stream",
     "text": [
      "4478/4945 [==========================>...] - ETA: 3:43 - loss: 0.0630 - acc: 0.9837"
     ]
    },
    {
     "name": "stderr",
     "output_type": "stream",
     "text": [
      "/home/zhaoqi/anaconda3/envs/tf/lib/python3.5/site-packages/keras/callbacks.py:120: UserWarning: Method on_batch_end() is slow compared to the batch update (0.152297). Check your callbacks.\n",
      "  % delta_t_median)\n"
     ]
    },
    {
     "name": "stdout",
     "output_type": "stream",
     "text": [
      "4484/4945 [==========================>...] - ETA: 3:40 - loss: 0.0631 - acc: 0.9837"
     ]
    },
    {
     "name": "stderr",
     "output_type": "stream",
     "text": [
      "/home/zhaoqi/anaconda3/envs/tf/lib/python3.5/site-packages/keras/callbacks.py:120: UserWarning: Method on_batch_end() is slow compared to the batch update (0.147234). Check your callbacks.\n",
      "  % delta_t_median)\n"
     ]
    },
    {
     "name": "stdout",
     "output_type": "stream",
     "text": [
      "4567/4945 [==========================>...] - ETA: 3:01 - loss: 0.0630 - acc: 0.9837"
     ]
    },
    {
     "name": "stderr",
     "output_type": "stream",
     "text": [
      "/home/zhaoqi/anaconda3/envs/tf/lib/python3.5/site-packages/keras/callbacks.py:120: UserWarning: Method on_batch_end() is slow compared to the batch update (0.154260). Check your callbacks.\n",
      "  % delta_t_median)\n"
     ]
    },
    {
     "name": "stdout",
     "output_type": "stream",
     "text": [
      "4657/4945 [===========================>..] - ETA: 2:18 - loss: 0.0631 - acc: 0.9837"
     ]
    },
    {
     "name": "stderr",
     "output_type": "stream",
     "text": [
      "/home/zhaoqi/anaconda3/envs/tf/lib/python3.5/site-packages/keras/callbacks.py:120: UserWarning: Method on_batch_end() is slow compared to the batch update (0.157225). Check your callbacks.\n",
      "  % delta_t_median)\n"
     ]
    },
    {
     "name": "stdout",
     "output_type": "stream",
     "text": [
      "4663/4945 [===========================>..] - ETA: 2:15 - loss: 0.0631 - acc: 0.9837"
     ]
    },
    {
     "name": "stderr",
     "output_type": "stream",
     "text": [
      "/home/zhaoqi/anaconda3/envs/tf/lib/python3.5/site-packages/keras/callbacks.py:120: UserWarning: Method on_batch_end() is slow compared to the batch update (0.153891). Check your callbacks.\n",
      "  % delta_t_median)\n"
     ]
    },
    {
     "name": "stdout",
     "output_type": "stream",
     "text": [
      "4748/4945 [===========================>..] - ETA: 1:34 - loss: 0.0630 - acc: 0.9837"
     ]
    },
    {
     "name": "stderr",
     "output_type": "stream",
     "text": [
      "/home/zhaoqi/anaconda3/envs/tf/lib/python3.5/site-packages/keras/callbacks.py:120: UserWarning: Method on_batch_end() is slow compared to the batch update (0.149735). Check your callbacks.\n",
      "  % delta_t_median)\n"
     ]
    },
    {
     "name": "stdout",
     "output_type": "stream",
     "text": [
      "4753/4945 [===========================>..] - ETA: 1:32 - loss: 0.0630 - acc: 0.9837"
     ]
    },
    {
     "name": "stderr",
     "output_type": "stream",
     "text": [
      "/home/zhaoqi/anaconda3/envs/tf/lib/python3.5/site-packages/keras/callbacks.py:120: UserWarning: Method on_batch_end() is slow compared to the batch update (0.161474). Check your callbacks.\n",
      "  % delta_t_median)\n"
     ]
    },
    {
     "name": "stdout",
     "output_type": "stream",
     "text": [
      "4837/4945 [============================>.] - ETA: 52s - loss: 0.0631 - acc: 0.9836"
     ]
    },
    {
     "name": "stderr",
     "output_type": "stream",
     "text": [
      "/home/zhaoqi/anaconda3/envs/tf/lib/python3.5/site-packages/keras/callbacks.py:120: UserWarning: Method on_batch_end() is slow compared to the batch update (0.154943). Check your callbacks.\n",
      "  % delta_t_median)\n"
     ]
    },
    {
     "name": "stdout",
     "output_type": "stream",
     "text": [
      "4843/4945 [============================>.] - ETA: 49s - loss: 0.0631 - acc: 0.9837"
     ]
    },
    {
     "name": "stderr",
     "output_type": "stream",
     "text": [
      "/home/zhaoqi/anaconda3/envs/tf/lib/python3.5/site-packages/keras/callbacks.py:120: UserWarning: Method on_batch_end() is slow compared to the batch update (0.150276). Check your callbacks.\n",
      "  % delta_t_median)\n"
     ]
    },
    {
     "name": "stdout",
     "output_type": "stream",
     "text": [
      "4945/4945 [==============================] - 2678s 542ms/step - loss: 0.0632 - acc: 0.9836 - val_loss: 0.1389 - val_acc: 0.9552\n",
      "\n",
      "Epoch 00005: val_loss did not improve from 0.12892\n",
      "Epoch 6/64\n",
      " 177/4945 [>.............................] - ETA: 39:05 - loss: 0.0552 - acc: 0.9868"
     ]
    },
    {
     "name": "stderr",
     "output_type": "stream",
     "text": [
      "/home/zhaoqi/anaconda3/envs/tf/lib/python3.5/site-packages/keras/callbacks.py:120: UserWarning: Method on_batch_end() is slow compared to the batch update (0.150522). Check your callbacks.\n",
      "  % delta_t_median)\n"
     ]
    },
    {
     "name": "stdout",
     "output_type": "stream",
     "text": [
      " 183/4945 [>.............................] - ETA: 39:04 - loss: 0.0566 - acc: 0.9862"
     ]
    },
    {
     "name": "stderr",
     "output_type": "stream",
     "text": [
      "/home/zhaoqi/anaconda3/envs/tf/lib/python3.5/site-packages/keras/callbacks.py:120: UserWarning: Method on_batch_end() is slow compared to the batch update (0.153452). Check your callbacks.\n",
      "  % delta_t_median)\n"
     ]
    },
    {
     "name": "stdout",
     "output_type": "stream",
     "text": [
      " 273/4945 [>.............................] - ETA: 38:57 - loss: 0.0545 - acc: 0.9860"
     ]
    },
    {
     "name": "stderr",
     "output_type": "stream",
     "text": [
      "/home/zhaoqi/anaconda3/envs/tf/lib/python3.5/site-packages/keras/callbacks.py:120: UserWarning: Method on_batch_end() is slow compared to the batch update (0.151258). Check your callbacks.\n",
      "  % delta_t_median)\n"
     ]
    },
    {
     "name": "stdout",
     "output_type": "stream",
     "text": [
      " 359/4945 [=>............................] - ETA: 38:23 - loss: 0.0554 - acc: 0.9856"
     ]
    },
    {
     "name": "stderr",
     "output_type": "stream",
     "text": [
      "/home/zhaoqi/anaconda3/envs/tf/lib/python3.5/site-packages/keras/callbacks.py:120: UserWarning: Method on_batch_end() is slow compared to the batch update (0.158150). Check your callbacks.\n",
      "  % delta_t_median)\n"
     ]
    },
    {
     "name": "stdout",
     "output_type": "stream",
     "text": [
      " 365/4945 [=>............................] - ETA: 38:20 - loss: 0.0555 - acc: 0.9856"
     ]
    },
    {
     "name": "stderr",
     "output_type": "stream",
     "text": [
      "/home/zhaoqi/anaconda3/envs/tf/lib/python3.5/site-packages/keras/callbacks.py:120: UserWarning: Method on_batch_end() is slow compared to the batch update (0.148729). Check your callbacks.\n",
      "  % delta_t_median)\n"
     ]
    },
    {
     "name": "stdout",
     "output_type": "stream",
     "text": [
      " 448/4945 [=>............................] - ETA: 37:56 - loss: 0.0571 - acc: 0.9855"
     ]
    },
    {
     "name": "stderr",
     "output_type": "stream",
     "text": [
      "/home/zhaoqi/anaconda3/envs/tf/lib/python3.5/site-packages/keras/callbacks.py:120: UserWarning: Method on_batch_end() is slow compared to the batch update (0.156027). Check your callbacks.\n",
      "  % delta_t_median)\n"
     ]
    },
    {
     "name": "stdout",
     "output_type": "stream",
     "text": [
      " 538/4945 [==>...........................] - ETA: 37:18 - loss: 0.0540 - acc: 0.9861"
     ]
    },
    {
     "name": "stderr",
     "output_type": "stream",
     "text": [
      "/home/zhaoqi/anaconda3/envs/tf/lib/python3.5/site-packages/keras/callbacks.py:120: UserWarning: Method on_batch_end() is slow compared to the batch update (0.153337). Check your callbacks.\n",
      "  % delta_t_median)\n"
     ]
    },
    {
     "name": "stdout",
     "output_type": "stream",
     "text": [
      " 634/4945 [==>...........................] - ETA: 36:34 - loss: 0.0551 - acc: 0.9857"
     ]
    },
    {
     "name": "stderr",
     "output_type": "stream",
     "text": [
      "/home/zhaoqi/anaconda3/envs/tf/lib/python3.5/site-packages/keras/callbacks.py:120: UserWarning: Method on_batch_end() is slow compared to the batch update (0.146402). Check your callbacks.\n",
      "  % delta_t_median)\n"
     ]
    },
    {
     "name": "stdout",
     "output_type": "stream",
     "text": [
      " 718/4945 [===>..........................] - ETA: 35:57 - loss: 0.0549 - acc: 0.9859"
     ]
    },
    {
     "name": "stderr",
     "output_type": "stream",
     "text": [
      "/home/zhaoqi/anaconda3/envs/tf/lib/python3.5/site-packages/keras/callbacks.py:120: UserWarning: Method on_batch_end() is slow compared to the batch update (0.153839). Check your callbacks.\n",
      "  % delta_t_median)\n"
     ]
    },
    {
     "name": "stdout",
     "output_type": "stream",
     "text": [
      " 724/4945 [===>..........................] - ETA: 35:53 - loss: 0.0553 - acc: 0.9858"
     ]
    },
    {
     "name": "stderr",
     "output_type": "stream",
     "text": [
      "/home/zhaoqi/anaconda3/envs/tf/lib/python3.5/site-packages/keras/callbacks.py:120: UserWarning: Method on_batch_end() is slow compared to the batch update (0.152016). Check your callbacks.\n",
      "  % delta_t_median)\n"
     ]
    },
    {
     "name": "stdout",
     "output_type": "stream",
     "text": [
      " 814/4945 [===>..........................] - ETA: 35:11 - loss: 0.0548 - acc: 0.9859"
     ]
    },
    {
     "name": "stderr",
     "output_type": "stream",
     "text": [
      "/home/zhaoqi/anaconda3/envs/tf/lib/python3.5/site-packages/keras/callbacks.py:120: UserWarning: Method on_batch_end() is slow compared to the batch update (0.153547). Check your callbacks.\n",
      "  % delta_t_median)\n"
     ]
    },
    {
     "name": "stdout",
     "output_type": "stream",
     "text": [
      " 896/4945 [====>.........................] - ETA: 34:35 - loss: 0.0554 - acc: 0.9857"
     ]
    },
    {
     "name": "stderr",
     "output_type": "stream",
     "text": [
      "/home/zhaoqi/anaconda3/envs/tf/lib/python3.5/site-packages/keras/callbacks.py:120: UserWarning: Method on_batch_end() is slow compared to the batch update (0.159065). Check your callbacks.\n",
      "  % delta_t_median)\n"
     ]
    },
    {
     "name": "stdout",
     "output_type": "stream",
     "text": [
      " 985/4945 [====>.........................] - ETA: 33:52 - loss: 0.0553 - acc: 0.9859"
     ]
    },
    {
     "name": "stderr",
     "output_type": "stream",
     "text": [
      "/home/zhaoqi/anaconda3/envs/tf/lib/python3.5/site-packages/keras/callbacks.py:120: UserWarning: Method on_batch_end() is slow compared to the batch update (0.154541). Check your callbacks.\n",
      "  % delta_t_median)\n"
     ]
    },
    {
     "name": "stdout",
     "output_type": "stream",
     "text": [
      " 991/4945 [=====>........................] - ETA: 33:50 - loss: 0.0553 - acc: 0.9858"
     ]
    },
    {
     "name": "stderr",
     "output_type": "stream",
     "text": [
      "/home/zhaoqi/anaconda3/envs/tf/lib/python3.5/site-packages/keras/callbacks.py:120: UserWarning: Method on_batch_end() is slow compared to the batch update (0.152473). Check your callbacks.\n",
      "  % delta_t_median)\n"
     ]
    },
    {
     "name": "stdout",
     "output_type": "stream",
     "text": [
      "1074/4945 [=====>........................] - ETA: 33:10 - loss: 0.0564 - acc: 0.9856"
     ]
    },
    {
     "name": "stderr",
     "output_type": "stream",
     "text": [
      "/home/zhaoqi/anaconda3/envs/tf/lib/python3.5/site-packages/keras/callbacks.py:120: UserWarning: Method on_batch_end() is slow compared to the batch update (0.148003). Check your callbacks.\n",
      "  % delta_t_median)\n"
     ]
    },
    {
     "name": "stdout",
     "output_type": "stream",
     "text": [
      "1080/4945 [=====>........................] - ETA: 33:06 - loss: 0.0564 - acc: 0.9856"
     ]
    },
    {
     "name": "stderr",
     "output_type": "stream",
     "text": [
      "/home/zhaoqi/anaconda3/envs/tf/lib/python3.5/site-packages/keras/callbacks.py:120: UserWarning: Method on_batch_end() is slow compared to the batch update (0.146286). Check your callbacks.\n",
      "  % delta_t_median)\n"
     ]
    },
    {
     "name": "stdout",
     "output_type": "stream",
     "text": [
      "1165/4945 [======>.......................] - ETA: 32:22 - loss: 0.0572 - acc: 0.9853"
     ]
    },
    {
     "name": "stderr",
     "output_type": "stream",
     "text": [
      "/home/zhaoqi/anaconda3/envs/tf/lib/python3.5/site-packages/keras/callbacks.py:120: UserWarning: Method on_batch_end() is slow compared to the batch update (0.150444). Check your callbacks.\n",
      "  % delta_t_median)\n"
     ]
    },
    {
     "name": "stdout",
     "output_type": "stream",
     "text": [
      "1171/4945 [======>.......................] - ETA: 32:18 - loss: 0.0572 - acc: 0.9853"
     ]
    },
    {
     "name": "stderr",
     "output_type": "stream",
     "text": [
      "/home/zhaoqi/anaconda3/envs/tf/lib/python3.5/site-packages/keras/callbacks.py:120: UserWarning: Method on_batch_end() is slow compared to the batch update (0.147920). Check your callbacks.\n",
      "  % delta_t_median)\n"
     ]
    },
    {
     "name": "stdout",
     "output_type": "stream",
     "text": [
      "1261/4945 [======>.......................] - ETA: 31:33 - loss: 0.0570 - acc: 0.9853"
     ]
    },
    {
     "name": "stderr",
     "output_type": "stream",
     "text": [
      "/home/zhaoqi/anaconda3/envs/tf/lib/python3.5/site-packages/keras/callbacks.py:120: UserWarning: Method on_batch_end() is slow compared to the batch update (0.149174). Check your callbacks.\n",
      "  % delta_t_median)\n"
     ]
    },
    {
     "name": "stdout",
     "output_type": "stream",
     "text": [
      "1344/4945 [=======>......................] - ETA: 30:52 - loss: 0.0581 - acc: 0.9851"
     ]
    },
    {
     "name": "stderr",
     "output_type": "stream",
     "text": [
      "/home/zhaoqi/anaconda3/envs/tf/lib/python3.5/site-packages/keras/callbacks.py:120: UserWarning: Method on_batch_end() is slow compared to the batch update (0.158065). Check your callbacks.\n",
      "  % delta_t_median)\n"
     ]
    },
    {
     "name": "stdout",
     "output_type": "stream",
     "text": [
      "1350/4945 [=======>......................] - ETA: 30:49 - loss: 0.0580 - acc: 0.9851"
     ]
    },
    {
     "name": "stderr",
     "output_type": "stream",
     "text": [
      "/home/zhaoqi/anaconda3/envs/tf/lib/python3.5/site-packages/keras/callbacks.py:120: UserWarning: Method on_batch_end() is slow compared to the batch update (0.148239). Check your callbacks.\n",
      "  % delta_t_median)\n"
     ]
    },
    {
     "name": "stdout",
     "output_type": "stream",
     "text": [
      "1434/4945 [=======>......................] - ETA: 30:07 - loss: 0.0581 - acc: 0.9851"
     ]
    },
    {
     "name": "stderr",
     "output_type": "stream",
     "text": [
      "/home/zhaoqi/anaconda3/envs/tf/lib/python3.5/site-packages/keras/callbacks.py:120: UserWarning: Method on_batch_end() is slow compared to the batch update (0.150751). Check your callbacks.\n",
      "  % delta_t_median)\n"
     ]
    },
    {
     "name": "stdout",
     "output_type": "stream",
     "text": [
      "1440/4945 [=======>......................] - ETA: 30:03 - loss: 0.0581 - acc: 0.9851"
     ]
    },
    {
     "name": "stderr",
     "output_type": "stream",
     "text": [
      "/home/zhaoqi/anaconda3/envs/tf/lib/python3.5/site-packages/keras/callbacks.py:120: UserWarning: Method on_batch_end() is slow compared to the batch update (0.151992). Check your callbacks.\n",
      "  % delta_t_median)\n"
     ]
    },
    {
     "name": "stdout",
     "output_type": "stream",
     "text": [
      "1531/4945 [========>.....................] - ETA: 29:16 - loss: 0.0586 - acc: 0.9849"
     ]
    },
    {
     "name": "stderr",
     "output_type": "stream",
     "text": [
      "/home/zhaoqi/anaconda3/envs/tf/lib/python3.5/site-packages/keras/callbacks.py:120: UserWarning: Method on_batch_end() is slow compared to the batch update (0.143680). Check your callbacks.\n",
      "  % delta_t_median)\n"
     ]
    },
    {
     "name": "stdout",
     "output_type": "stream",
     "text": [
      "1620/4945 [========>.....................] - ETA: 28:32 - loss: 0.0578 - acc: 0.9851"
     ]
    },
    {
     "name": "stderr",
     "output_type": "stream",
     "text": [
      "/home/zhaoqi/anaconda3/envs/tf/lib/python3.5/site-packages/keras/callbacks.py:120: UserWarning: Method on_batch_end() is slow compared to the batch update (0.152629). Check your callbacks.\n",
      "  % delta_t_median)\n"
     ]
    },
    {
     "name": "stdout",
     "output_type": "stream",
     "text": [
      "1704/4945 [=========>....................] - ETA: 27:49 - loss: 0.0571 - acc: 0.9852"
     ]
    },
    {
     "name": "stderr",
     "output_type": "stream",
     "text": [
      "/home/zhaoqi/anaconda3/envs/tf/lib/python3.5/site-packages/keras/callbacks.py:120: UserWarning: Method on_batch_end() is slow compared to the batch update (0.160018). Check your callbacks.\n",
      "  % delta_t_median)\n"
     ]
    },
    {
     "name": "stdout",
     "output_type": "stream",
     "text": [
      "1797/4945 [=========>....................] - ETA: 27:03 - loss: 0.0576 - acc: 0.9850"
     ]
    },
    {
     "name": "stderr",
     "output_type": "stream",
     "text": [
      "/home/zhaoqi/anaconda3/envs/tf/lib/python3.5/site-packages/keras/callbacks.py:120: UserWarning: Method on_batch_end() is slow compared to the batch update (0.151898). Check your callbacks.\n",
      "  % delta_t_median)\n"
     ]
    },
    {
     "name": "stdout",
     "output_type": "stream",
     "text": [
      "1888/4945 [==========>...................] - ETA: 26:16 - loss: 0.0568 - acc: 0.9852"
     ]
    },
    {
     "name": "stderr",
     "output_type": "stream",
     "text": [
      "/home/zhaoqi/anaconda3/envs/tf/lib/python3.5/site-packages/keras/callbacks.py:120: UserWarning: Method on_batch_end() is slow compared to the batch update (0.140624). Check your callbacks.\n",
      "  % delta_t_median)\n"
     ]
    },
    {
     "name": "stdout",
     "output_type": "stream",
     "text": [
      "1972/4945 [==========>...................] - ETA: 25:33 - loss: 0.0567 - acc: 0.9853"
     ]
    },
    {
     "name": "stderr",
     "output_type": "stream",
     "text": [
      "/home/zhaoqi/anaconda3/envs/tf/lib/python3.5/site-packages/keras/callbacks.py:120: UserWarning: Method on_batch_end() is slow compared to the batch update (0.153486). Check your callbacks.\n",
      "  % delta_t_median)\n"
     ]
    },
    {
     "name": "stdout",
     "output_type": "stream",
     "text": [
      "1978/4945 [===========>..................] - ETA: 25:30 - loss: 0.0567 - acc: 0.9853"
     ]
    },
    {
     "name": "stderr",
     "output_type": "stream",
     "text": [
      "/home/zhaoqi/anaconda3/envs/tf/lib/python3.5/site-packages/keras/callbacks.py:120: UserWarning: Method on_batch_end() is slow compared to the batch update (0.145964). Check your callbacks.\n",
      "  % delta_t_median)\n"
     ]
    },
    {
     "name": "stdout",
     "output_type": "stream",
     "text": [
      "2062/4945 [===========>..................] - ETA: 24:47 - loss: 0.0564 - acc: 0.9854"
     ]
    },
    {
     "name": "stderr",
     "output_type": "stream",
     "text": [
      "/home/zhaoqi/anaconda3/envs/tf/lib/python3.5/site-packages/keras/callbacks.py:120: UserWarning: Method on_batch_end() is slow compared to the batch update (0.152238). Check your callbacks.\n",
      "  % delta_t_median)\n"
     ]
    },
    {
     "name": "stdout",
     "output_type": "stream",
     "text": [
      "2157/4945 [============>.................] - ETA: 23:59 - loss: 0.0565 - acc: 0.9854"
     ]
    },
    {
     "name": "stderr",
     "output_type": "stream",
     "text": [
      "/home/zhaoqi/anaconda3/envs/tf/lib/python3.5/site-packages/keras/callbacks.py:120: UserWarning: Method on_batch_end() is slow compared to the batch update (0.151914). Check your callbacks.\n",
      "  % delta_t_median)\n"
     ]
    },
    {
     "name": "stdout",
     "output_type": "stream",
     "text": [
      "2239/4945 [============>.................] - ETA: 23:17 - loss: 0.0566 - acc: 0.9855"
     ]
    },
    {
     "name": "stderr",
     "output_type": "stream",
     "text": [
      "/home/zhaoqi/anaconda3/envs/tf/lib/python3.5/site-packages/keras/callbacks.py:120: UserWarning: Method on_batch_end() is slow compared to the batch update (0.154593). Check your callbacks.\n",
      "  % delta_t_median)\n"
     ]
    },
    {
     "name": "stdout",
     "output_type": "stream",
     "text": [
      "2245/4945 [============>.................] - ETA: 23:14 - loss: 0.0569 - acc: 0.9854"
     ]
    },
    {
     "name": "stderr",
     "output_type": "stream",
     "text": [
      "/home/zhaoqi/anaconda3/envs/tf/lib/python3.5/site-packages/keras/callbacks.py:120: UserWarning: Method on_batch_end() is slow compared to the batch update (0.149380). Check your callbacks.\n",
      "  % delta_t_median)\n"
     ]
    },
    {
     "name": "stdout",
     "output_type": "stream",
     "text": [
      "2328/4945 [=============>................] - ETA: 22:32 - loss: 0.0568 - acc: 0.9854"
     ]
    },
    {
     "name": "stderr",
     "output_type": "stream",
     "text": [
      "/home/zhaoqi/anaconda3/envs/tf/lib/python3.5/site-packages/keras/callbacks.py:120: UserWarning: Method on_batch_end() is slow compared to the batch update (0.154868). Check your callbacks.\n",
      "  % delta_t_median)\n"
     ]
    },
    {
     "name": "stdout",
     "output_type": "stream",
     "text": [
      "2418/4945 [=============>................] - ETA: 21:45 - loss: 0.0568 - acc: 0.9853"
     ]
    },
    {
     "name": "stderr",
     "output_type": "stream",
     "text": [
      "/home/zhaoqi/anaconda3/envs/tf/lib/python3.5/site-packages/keras/callbacks.py:120: UserWarning: Method on_batch_end() is slow compared to the batch update (0.155167). Check your callbacks.\n",
      "  % delta_t_median)\n"
     ]
    },
    {
     "name": "stdout",
     "output_type": "stream",
     "text": [
      "2424/4945 [=============>................] - ETA: 21:42 - loss: 0.0569 - acc: 0.9852"
     ]
    },
    {
     "name": "stderr",
     "output_type": "stream",
     "text": [
      "/home/zhaoqi/anaconda3/envs/tf/lib/python3.5/site-packages/keras/callbacks.py:120: UserWarning: Method on_batch_end() is slow compared to the batch update (0.150518). Check your callbacks.\n",
      "  % delta_t_median)\n"
     ]
    },
    {
     "name": "stdout",
     "output_type": "stream",
     "text": [
      "2508/4945 [==============>...............] - ETA: 20:59 - loss: 0.0568 - acc: 0.9853"
     ]
    },
    {
     "name": "stderr",
     "output_type": "stream",
     "text": [
      "/home/zhaoqi/anaconda3/envs/tf/lib/python3.5/site-packages/keras/callbacks.py:120: UserWarning: Method on_batch_end() is slow compared to the batch update (0.153702). Check your callbacks.\n",
      "  % delta_t_median)\n"
     ]
    },
    {
     "name": "stdout",
     "output_type": "stream",
     "text": [
      "2598/4945 [==============>...............] - ETA: 20:12 - loss: 0.0569 - acc: 0.9852"
     ]
    },
    {
     "name": "stderr",
     "output_type": "stream",
     "text": [
      "/home/zhaoqi/anaconda3/envs/tf/lib/python3.5/site-packages/keras/callbacks.py:120: UserWarning: Method on_batch_end() is slow compared to the batch update (0.151715). Check your callbacks.\n",
      "  % delta_t_median)\n"
     ]
    },
    {
     "name": "stdout",
     "output_type": "stream",
     "text": [
      "2687/4945 [===============>..............] - ETA: 19:27 - loss: 0.0569 - acc: 0.9852"
     ]
    },
    {
     "name": "stderr",
     "output_type": "stream",
     "text": [
      "/home/zhaoqi/anaconda3/envs/tf/lib/python3.5/site-packages/keras/callbacks.py:120: UserWarning: Method on_batch_end() is slow compared to the batch update (0.154221). Check your callbacks.\n",
      "  % delta_t_median)\n"
     ]
    },
    {
     "name": "stdout",
     "output_type": "stream",
     "text": [
      "2693/4945 [===============>..............] - ETA: 19:24 - loss: 0.0568 - acc: 0.9852"
     ]
    },
    {
     "name": "stderr",
     "output_type": "stream",
     "text": [
      "/home/zhaoqi/anaconda3/envs/tf/lib/python3.5/site-packages/keras/callbacks.py:120: UserWarning: Method on_batch_end() is slow compared to the batch update (0.149948). Check your callbacks.\n",
      "  % delta_t_median)\n"
     ]
    },
    {
     "name": "stdout",
     "output_type": "stream",
     "text": [
      "2777/4945 [===============>..............] - ETA: 18:40 - loss: 0.0568 - acc: 0.9851"
     ]
    },
    {
     "name": "stderr",
     "output_type": "stream",
     "text": [
      "/home/zhaoqi/anaconda3/envs/tf/lib/python3.5/site-packages/keras/callbacks.py:120: UserWarning: Method on_batch_end() is slow compared to the batch update (0.155153). Check your callbacks.\n",
      "  % delta_t_median)\n"
     ]
    },
    {
     "name": "stdout",
     "output_type": "stream",
     "text": [
      "2874/4945 [================>.............] - ETA: 17:50 - loss: 0.0566 - acc: 0.9851"
     ]
    },
    {
     "name": "stderr",
     "output_type": "stream",
     "text": [
      "/home/zhaoqi/anaconda3/envs/tf/lib/python3.5/site-packages/keras/callbacks.py:120: UserWarning: Method on_batch_end() is slow compared to the batch update (0.147236). Check your callbacks.\n",
      "  % delta_t_median)\n"
     ]
    },
    {
     "name": "stdout",
     "output_type": "stream",
     "text": [
      "2958/4945 [================>.............] - ETA: 17:06 - loss: 0.0567 - acc: 0.9851"
     ]
    },
    {
     "name": "stderr",
     "output_type": "stream",
     "text": [
      "/home/zhaoqi/anaconda3/envs/tf/lib/python3.5/site-packages/keras/callbacks.py:120: UserWarning: Method on_batch_end() is slow compared to the batch update (0.154250). Check your callbacks.\n",
      "  % delta_t_median)\n"
     ]
    },
    {
     "name": "stdout",
     "output_type": "stream",
     "text": [
      "2964/4945 [================>.............] - ETA: 17:03 - loss: 0.0567 - acc: 0.9851"
     ]
    },
    {
     "name": "stderr",
     "output_type": "stream",
     "text": [
      "/home/zhaoqi/anaconda3/envs/tf/lib/python3.5/site-packages/keras/callbacks.py:120: UserWarning: Method on_batch_end() is slow compared to the batch update (0.151834). Check your callbacks.\n",
      "  % delta_t_median)\n"
     ]
    },
    {
     "name": "stdout",
     "output_type": "stream",
     "text": [
      "3048/4945 [=================>............] - ETA: 16:20 - loss: 0.0567 - acc: 0.9851"
     ]
    },
    {
     "name": "stderr",
     "output_type": "stream",
     "text": [
      "/home/zhaoqi/anaconda3/envs/tf/lib/python3.5/site-packages/keras/callbacks.py:120: UserWarning: Method on_batch_end() is slow compared to the batch update (0.155061). Check your callbacks.\n",
      "  % delta_t_median)\n"
     ]
    },
    {
     "name": "stdout",
     "output_type": "stream",
     "text": [
      "3054/4945 [=================>............] - ETA: 16:17 - loss: 0.0567 - acc: 0.9851"
     ]
    },
    {
     "name": "stderr",
     "output_type": "stream",
     "text": [
      "/home/zhaoqi/anaconda3/envs/tf/lib/python3.5/site-packages/keras/callbacks.py:120: UserWarning: Method on_batch_end() is slow compared to the batch update (0.150377). Check your callbacks.\n",
      "  % delta_t_median)\n"
     ]
    },
    {
     "name": "stdout",
     "output_type": "stream",
     "text": [
      "3167/4945 [==================>...........] - ETA: 15:53 - loss: 0.0566 - acc: 0.9852"
     ]
    },
    {
     "name": "stderr",
     "output_type": "stream",
     "text": [
      "/home/zhaoqi/anaconda3/envs/tf/lib/python3.5/site-packages/keras/callbacks.py:120: UserWarning: Method on_batch_end() is slow compared to the batch update (0.149568). Check your callbacks.\n",
      "  % delta_t_median)\n"
     ]
    },
    {
     "name": "stdout",
     "output_type": "stream",
     "text": [
      "3356/4945 [===================>..........] - ETA: 14:07 - loss: 0.0560 - acc: 0.9853"
     ]
    },
    {
     "name": "stderr",
     "output_type": "stream",
     "text": [
      "/home/zhaoqi/anaconda3/envs/tf/lib/python3.5/site-packages/keras/callbacks.py:120: UserWarning: Method on_batch_end() is slow compared to the batch update (0.146209). Check your callbacks.\n",
      "  % delta_t_median)\n"
     ]
    },
    {
     "name": "stdout",
     "output_type": "stream",
     "text": [
      "3551/4945 [====================>.........] - ETA: 12:20 - loss: 0.0565 - acc: 0.9853"
     ]
    },
    {
     "name": "stderr",
     "output_type": "stream",
     "text": [
      "/home/zhaoqi/anaconda3/envs/tf/lib/python3.5/site-packages/keras/callbacks.py:120: UserWarning: Method on_batch_end() is slow compared to the batch update (0.147844). Check your callbacks.\n",
      "  % delta_t_median)\n"
     ]
    },
    {
     "name": "stdout",
     "output_type": "stream",
     "text": [
      "3638/4945 [=====================>........] - ETA: 11:33 - loss: 0.0566 - acc: 0.9852"
     ]
    },
    {
     "name": "stderr",
     "output_type": "stream",
     "text": [
      "/home/zhaoqi/anaconda3/envs/tf/lib/python3.5/site-packages/keras/callbacks.py:120: UserWarning: Method on_batch_end() is slow compared to the batch update (0.149329). Check your callbacks.\n",
      "  % delta_t_median)\n"
     ]
    },
    {
     "name": "stdout",
     "output_type": "stream",
     "text": [
      "3644/4945 [=====================>........] - ETA: 11:30 - loss: 0.0566 - acc: 0.9852"
     ]
    },
    {
     "name": "stderr",
     "output_type": "stream",
     "text": [
      "/home/zhaoqi/anaconda3/envs/tf/lib/python3.5/site-packages/keras/callbacks.py:120: UserWarning: Method on_batch_end() is slow compared to the batch update (0.143420). Check your callbacks.\n",
      "  % delta_t_median)\n"
     ]
    },
    {
     "name": "stdout",
     "output_type": "stream",
     "text": [
      "3731/4945 [=====================>........] - ETA: 10:43 - loss: 0.0566 - acc: 0.9852"
     ]
    },
    {
     "name": "stderr",
     "output_type": "stream",
     "text": [
      "/home/zhaoqi/anaconda3/envs/tf/lib/python3.5/site-packages/keras/callbacks.py:120: UserWarning: Method on_batch_end() is slow compared to the batch update (0.153562). Check your callbacks.\n",
      "  % delta_t_median)\n"
     ]
    },
    {
     "name": "stdout",
     "output_type": "stream",
     "text": [
      "3737/4945 [=====================>........] - ETA: 10:40 - loss: 0.0566 - acc: 0.9852"
     ]
    },
    {
     "name": "stderr",
     "output_type": "stream",
     "text": [
      "/home/zhaoqi/anaconda3/envs/tf/lib/python3.5/site-packages/keras/callbacks.py:120: UserWarning: Method on_batch_end() is slow compared to the batch update (0.146425). Check your callbacks.\n",
      "  % delta_t_median)\n"
     ]
    },
    {
     "name": "stdout",
     "output_type": "stream",
     "text": [
      "3823/4945 [======================>.......] - ETA: 9:54 - loss: 0.0569 - acc: 0.9852"
     ]
    },
    {
     "name": "stderr",
     "output_type": "stream",
     "text": [
      "/home/zhaoqi/anaconda3/envs/tf/lib/python3.5/site-packages/keras/callbacks.py:120: UserWarning: Method on_batch_end() is slow compared to the batch update (0.144613). Check your callbacks.\n",
      "  % delta_t_median)\n"
     ]
    },
    {
     "name": "stdout",
     "output_type": "stream",
     "text": [
      "3829/4945 [======================>.......] - ETA: 9:51 - loss: 0.0570 - acc: 0.9852"
     ]
    },
    {
     "name": "stderr",
     "output_type": "stream",
     "text": [
      "/home/zhaoqi/anaconda3/envs/tf/lib/python3.5/site-packages/keras/callbacks.py:120: UserWarning: Method on_batch_end() is slow compared to the batch update (0.146415). Check your callbacks.\n",
      "  % delta_t_median)\n"
     ]
    },
    {
     "name": "stdout",
     "output_type": "stream",
     "text": [
      "3915/4945 [======================>.......] - ETA: 9:05 - loss: 0.0573 - acc: 0.9851"
     ]
    },
    {
     "name": "stderr",
     "output_type": "stream",
     "text": [
      "/home/zhaoqi/anaconda3/envs/tf/lib/python3.5/site-packages/keras/callbacks.py:120: UserWarning: Method on_batch_end() is slow compared to the batch update (0.147919). Check your callbacks.\n",
      "  % delta_t_median)\n"
     ]
    },
    {
     "name": "stdout",
     "output_type": "stream",
     "text": [
      "4097/4945 [=======================>......] - ETA: 7:28 - loss: 0.0580 - acc: 0.9849"
     ]
    },
    {
     "name": "stderr",
     "output_type": "stream",
     "text": [
      "/home/zhaoqi/anaconda3/envs/tf/lib/python3.5/site-packages/keras/callbacks.py:120: UserWarning: Method on_batch_end() is slow compared to the batch update (0.152465). Check your callbacks.\n",
      "  % delta_t_median)\n"
     ]
    },
    {
     "name": "stdout",
     "output_type": "stream",
     "text": [
      "4188/4945 [========================>.....] - ETA: 6:39 - loss: 0.0580 - acc: 0.9849"
     ]
    },
    {
     "name": "stderr",
     "output_type": "stream",
     "text": [
      "/home/zhaoqi/anaconda3/envs/tf/lib/python3.5/site-packages/keras/callbacks.py:120: UserWarning: Method on_batch_end() is slow compared to the batch update (0.153501). Check your callbacks.\n",
      "  % delta_t_median)\n"
     ]
    },
    {
     "name": "stdout",
     "output_type": "stream",
     "text": [
      "4194/4945 [========================>.....] - ETA: 6:36 - loss: 0.0580 - acc: 0.9849"
     ]
    },
    {
     "name": "stderr",
     "output_type": "stream",
     "text": [
      "/home/zhaoqi/anaconda3/envs/tf/lib/python3.5/site-packages/keras/callbacks.py:120: UserWarning: Method on_batch_end() is slow compared to the batch update (0.148988). Check your callbacks.\n",
      "  % delta_t_median)\n"
     ]
    },
    {
     "name": "stdout",
     "output_type": "stream",
     "text": [
      "4456/4945 [==========================>...] - ETA: 4:18 - loss: 0.0583 - acc: 0.9847"
     ]
    },
    {
     "name": "stderr",
     "output_type": "stream",
     "text": [
      "/home/zhaoqi/anaconda3/envs/tf/lib/python3.5/site-packages/keras/callbacks.py:120: UserWarning: Method on_batch_end() is slow compared to the batch update (0.155607). Check your callbacks.\n",
      "  % delta_t_median)\n"
     ]
    },
    {
     "name": "stdout",
     "output_type": "stream",
     "text": [
      "4462/4945 [==========================>...] - ETA: 4:14 - loss: 0.0583 - acc: 0.9847"
     ]
    },
    {
     "name": "stderr",
     "output_type": "stream",
     "text": [
      "/home/zhaoqi/anaconda3/envs/tf/lib/python3.5/site-packages/keras/callbacks.py:120: UserWarning: Method on_batch_end() is slow compared to the batch update (0.151494). Check your callbacks.\n",
      "  % delta_t_median)\n"
     ]
    },
    {
     "name": "stdout",
     "output_type": "stream",
     "text": [
      "4548/4945 [==========================>...] - ETA: 3:29 - loss: 0.0584 - acc: 0.9847"
     ]
    },
    {
     "name": "stderr",
     "output_type": "stream",
     "text": [
      "/home/zhaoqi/anaconda3/envs/tf/lib/python3.5/site-packages/keras/callbacks.py:120: UserWarning: Method on_batch_end() is slow compared to the batch update (0.151464). Check your callbacks.\n",
      "  % delta_t_median)\n"
     ]
    },
    {
     "name": "stdout",
     "output_type": "stream",
     "text": [
      "4642/4945 [===========================>..] - ETA: 2:39 - loss: 0.0583 - acc: 0.9847"
     ]
    },
    {
     "name": "stderr",
     "output_type": "stream",
     "text": [
      "/home/zhaoqi/anaconda3/envs/tf/lib/python3.5/site-packages/keras/callbacks.py:120: UserWarning: Method on_batch_end() is slow compared to the batch update (0.148742). Check your callbacks.\n",
      "  % delta_t_median)\n"
     ]
    },
    {
     "name": "stdout",
     "output_type": "stream",
     "text": [
      "4648/4945 [===========================>..] - ETA: 2:36 - loss: 0.0582 - acc: 0.9847"
     ]
    },
    {
     "name": "stderr",
     "output_type": "stream",
     "text": [
      "/home/zhaoqi/anaconda3/envs/tf/lib/python3.5/site-packages/keras/callbacks.py:120: UserWarning: Method on_batch_end() is slow compared to the batch update (0.147032). Check your callbacks.\n",
      "  % delta_t_median)\n"
     ]
    },
    {
     "name": "stdout",
     "output_type": "stream",
     "text": [
      "4741/4945 [===========================>..] - ETA: 1:47 - loss: 0.0585 - acc: 0.9846"
     ]
    },
    {
     "name": "stderr",
     "output_type": "stream",
     "text": [
      "/home/zhaoqi/anaconda3/envs/tf/lib/python3.5/site-packages/keras/callbacks.py:120: UserWarning: Method on_batch_end() is slow compared to the batch update (0.146540). Check your callbacks.\n",
      "  % delta_t_median)\n"
     ]
    },
    {
     "name": "stdout",
     "output_type": "stream",
     "text": [
      "4747/4945 [===========================>..] - ETA: 1:44 - loss: 0.0584 - acc: 0.9846"
     ]
    },
    {
     "name": "stderr",
     "output_type": "stream",
     "text": [
      "/home/zhaoqi/anaconda3/envs/tf/lib/python3.5/site-packages/keras/callbacks.py:120: UserWarning: Method on_batch_end() is slow compared to the batch update (0.146908). Check your callbacks.\n",
      "  % delta_t_median)\n"
     ]
    },
    {
     "name": "stdout",
     "output_type": "stream",
     "text": [
      "4835/4945 [============================>.] - ETA: 57s - loss: 0.0586 - acc: 0.9846"
     ]
    },
    {
     "name": "stderr",
     "output_type": "stream",
     "text": [
      "/home/zhaoqi/anaconda3/envs/tf/lib/python3.5/site-packages/keras/callbacks.py:120: UserWarning: Method on_batch_end() is slow compared to the batch update (0.142739). Check your callbacks.\n",
      "  % delta_t_median)\n"
     ]
    },
    {
     "name": "stdout",
     "output_type": "stream",
     "text": [
      "4937/4945 [============================>.] - ETA: 4s - loss: 0.0588 - acc: 0.9845"
     ]
    },
    {
     "name": "stderr",
     "output_type": "stream",
     "text": [
      "/home/zhaoqi/anaconda3/envs/tf/lib/python3.5/site-packages/keras/callbacks.py:120: UserWarning: Method on_batch_end() is slow compared to the batch update (0.143844). Check your callbacks.\n",
      "  % delta_t_median)\n"
     ]
    },
    {
     "name": "stdout",
     "output_type": "stream",
     "text": [
      "4945/4945 [==============================] - 2943s 595ms/step - loss: 0.0587 - acc: 0.9845 - val_loss: 0.1365 - val_acc: 0.9568\n",
      "\n",
      "Epoch 00006: val_loss did not improve from 0.12892\n"
     ]
    }
   ],
   "source": [
    "t_instance = TMalConv()\n",
    "t_instance.run()"
   ]
  },
  {
   "cell_type": "code",
   "execution_count": 23,
   "metadata": {},
   "outputs": [
    {
     "name": "stdout",
     "output_type": "stream",
     "text": [
      "611/611 [==============================] - 797s 1s/step\n"
     ]
    }
   ],
   "source": [
    "model_dir = '/home/zhaoqi/BaseTrain/models/'\n",
    "f_name = '1531919274.01446370006-0.13225-0.95475.h5'\n",
    "c_model = load_model(model_dir + f_name)\n",
    "test_generator = DataGenerator(range(len(x_test)), x_test, y_test, 32, max_length, False)\n",
    "y_pred = c_model.predict_generator(generator=test_generator, max_queue_size=10, workers=6, use_multiprocessing=True, verbose=1)"
   ]
  },
  {
   "cell_type": "code",
   "execution_count": 24,
   "metadata": {},
   "outputs": [
    {
     "ename": "ValueError",
     "evalue": "Found input variables with inconsistent numbers of samples: [19552, 19532]",
     "output_type": "error",
     "traceback": [
      "\u001b[0;31m---------------------------------------------------------------------------\u001b[0m",
      "\u001b[0;31mValueError\u001b[0m                                Traceback (most recent call last)",
      "\u001b[0;32m<ipython-input-24-c0b575a9b516>\u001b[0m in \u001b[0;36m<module>\u001b[0;34m()\u001b[0m\n\u001b[0;32m----> 1\u001b[0;31m \u001b[0mestimate_model\u001b[0m\u001b[0;34m(\u001b[0m\u001b[0my_pred\u001b[0m\u001b[0;34m,\u001b[0m \u001b[0my_test\u001b[0m\u001b[0;34m[\u001b[0m\u001b[0;36m0\u001b[0m\u001b[0;34m:\u001b[0m\u001b[0mlen\u001b[0m\u001b[0;34m(\u001b[0m\u001b[0my_pred\u001b[0m\u001b[0;34m)\u001b[0m\u001b[0;34m]\u001b[0m\u001b[0;34m)\u001b[0m\u001b[0;34m\u001b[0m\u001b[0m\n\u001b[0m",
      "\u001b[0;32m<ipython-input-17-092a114bdbf4>\u001b[0m in \u001b[0;36mestimate_model\u001b[0;34m(y_pred, test_y)\u001b[0m\n\u001b[1;32m      1\u001b[0m \u001b[0;32mdef\u001b[0m \u001b[0mestimate_model\u001b[0m\u001b[0;34m(\u001b[0m\u001b[0my_pred\u001b[0m\u001b[0;34m,\u001b[0m \u001b[0mtest_y\u001b[0m\u001b[0;34m)\u001b[0m\u001b[0;34m:\u001b[0m\u001b[0;34m\u001b[0m\u001b[0m\n\u001b[1;32m      2\u001b[0m \u001b[0;34m\u001b[0m\u001b[0m\n\u001b[0;32m----> 3\u001b[0;31m     \u001b[0mloss\u001b[0m \u001b[0;34m=\u001b[0m \u001b[0mlog_loss\u001b[0m\u001b[0;34m(\u001b[0m\u001b[0mtest_y\u001b[0m\u001b[0;34m,\u001b[0m \u001b[0my_pred\u001b[0m\u001b[0;34m)\u001b[0m\u001b[0;34m\u001b[0m\u001b[0m\n\u001b[0m\u001b[1;32m      4\u001b[0m     \u001b[0mauc\u001b[0m \u001b[0;34m=\u001b[0m \u001b[0mroc_auc_score\u001b[0m\u001b[0;34m(\u001b[0m\u001b[0mtest_y\u001b[0m\u001b[0;34m,\u001b[0m \u001b[0my_pred\u001b[0m\u001b[0;34m)\u001b[0m\u001b[0;34m\u001b[0m\u001b[0m\n\u001b[1;32m      5\u001b[0m     \u001b[0macc\u001b[0m \u001b[0;34m=\u001b[0m \u001b[0maccuracy_score\u001b[0m\u001b[0;34m(\u001b[0m\u001b[0mtest_y\u001b[0m\u001b[0;34m,\u001b[0m \u001b[0;34m(\u001b[0m\u001b[0my_pred\u001b[0m \u001b[0;34m>\u001b[0m \u001b[0;36m0.5\u001b[0m\u001b[0;34m)\u001b[0m\u001b[0;34m.\u001b[0m\u001b[0mastype\u001b[0m\u001b[0;34m(\u001b[0m\u001b[0mint\u001b[0m\u001b[0;34m)\u001b[0m\u001b[0;34m)\u001b[0m\u001b[0;34m\u001b[0m\u001b[0m\n",
      "\u001b[0;32m~/anaconda3/envs/tf/lib/python3.5/site-packages/sklearn/metrics/classification.py\u001b[0m in \u001b[0;36mlog_loss\u001b[0;34m(y_true, y_pred, eps, normalize, sample_weight, labels)\u001b[0m\n\u001b[1;32m   1639\u001b[0m     \"\"\"\n\u001b[1;32m   1640\u001b[0m     \u001b[0my_pred\u001b[0m \u001b[0;34m=\u001b[0m \u001b[0mcheck_array\u001b[0m\u001b[0;34m(\u001b[0m\u001b[0my_pred\u001b[0m\u001b[0;34m,\u001b[0m \u001b[0mensure_2d\u001b[0m\u001b[0;34m=\u001b[0m\u001b[0;32mFalse\u001b[0m\u001b[0;34m)\u001b[0m\u001b[0;34m\u001b[0m\u001b[0m\n\u001b[0;32m-> 1641\u001b[0;31m     \u001b[0mcheck_consistent_length\u001b[0m\u001b[0;34m(\u001b[0m\u001b[0my_pred\u001b[0m\u001b[0;34m,\u001b[0m \u001b[0my_true\u001b[0m\u001b[0;34m)\u001b[0m\u001b[0;34m\u001b[0m\u001b[0m\n\u001b[0m\u001b[1;32m   1642\u001b[0m \u001b[0;34m\u001b[0m\u001b[0m\n\u001b[1;32m   1643\u001b[0m     \u001b[0mlb\u001b[0m \u001b[0;34m=\u001b[0m \u001b[0mLabelBinarizer\u001b[0m\u001b[0;34m(\u001b[0m\u001b[0;34m)\u001b[0m\u001b[0;34m\u001b[0m\u001b[0m\n",
      "\u001b[0;32m~/anaconda3/envs/tf/lib/python3.5/site-packages/sklearn/utils/validation.py\u001b[0m in \u001b[0;36mcheck_consistent_length\u001b[0;34m(*arrays)\u001b[0m\n\u001b[1;32m    202\u001b[0m     \u001b[0;32mif\u001b[0m \u001b[0mlen\u001b[0m\u001b[0;34m(\u001b[0m\u001b[0muniques\u001b[0m\u001b[0;34m)\u001b[0m \u001b[0;34m>\u001b[0m \u001b[0;36m1\u001b[0m\u001b[0;34m:\u001b[0m\u001b[0;34m\u001b[0m\u001b[0m\n\u001b[1;32m    203\u001b[0m         raise ValueError(\"Found input variables with inconsistent numbers of\"\n\u001b[0;32m--> 204\u001b[0;31m                          \" samples: %r\" % [int(l) for l in lengths])\n\u001b[0m\u001b[1;32m    205\u001b[0m \u001b[0;34m\u001b[0m\u001b[0m\n\u001b[1;32m    206\u001b[0m \u001b[0;34m\u001b[0m\u001b[0m\n",
      "\u001b[0;31mValueError\u001b[0m: Found input variables with inconsistent numbers of samples: [19552, 19532]"
     ]
    }
   ],
   "source": [
    "estimate_model(y_pred, y_test[0:len(y_pred)])"
   ]
  },
  {
   "cell_type": "markdown",
   "metadata": {},
   "source": [
    "## Merge features"
   ]
  },
  {
   "cell_type": "code",
   "execution_count": null,
   "metadata": {},
   "outputs": [],
   "source": [
    "from keras.models import Model\n",
    "\n",
    "model_f = Model(c_model.input, c_model.layers[-2].output)\n",
    "\n",
    "train_generator = DataGenerator(range(len(x_train)), x_train, y_train, 32, max_length, False)\n",
    "malcon_train_x = model_f.predict_generator(generator=train_generator, max_queue_size=10, workers=6, use_multiprocessing=True, verbose=1)\n",
    "\n",
    "val_generator = DataGenerator(range(ßßlen(x_val)), x_val, y_val, 32, max_length, False)\n",
    "malcon_val_x = model_f.predict_generator(generator=val_generator, max_queue_size=10, workers=6, use_multiprocessing=True, verbose=1)\n",
    "\n",
    "test_generator = DataGenerator(range(len(x_test)), x_test, y_test, 32, max_length, False)\n",
    "malcon_test_x = model_f.predict_generator(generator=test_generator, max_queue_size=10, workers=6, use_multiprocessing=True, verbose=1)"
   ]
  },
  {
   "cell_type": "code",
   "execution_count": null,
   "metadata": {},
   "outputs": [],
   "source": [
    "model_m = get_model(malcon_train_x, y_train[0:len(malcon_train_x)], malcon_val_x, y_val[0:len(malcon_val_x)] )"
   ]
  },
  {
   "cell_type": "code",
   "execution_count": null,
   "metadata": {},
   "outputs": [],
   "source": [
    "y_p = model_m.predict(malcon_test_x)\n",
    "y_pred = np.zeros((len(y_p), 1))\n",
    "for i in range(len(y_p)):\n",
    "    y_pred[i, 0] = y_p[i]\n",
    "\n",
    "estimate_model(y_pred, y_test[0:len(malcon_test_x)])"
   ]
  },
  {
   "cell_type": "code",
   "execution_count": null,
   "metadata": {},
   "outputs": [],
   "source": [
    "def merge_feature(m_data, e_data):\n",
    "    num = len(m_data)\n",
    "    m_x = np.zeros((num, 128+2351), dtype=float)\n",
    "    \n",
    "    for index in range(num):\n",
    "        m_x[index, 0:128] = m_data[index]\n",
    "        m_x[index, 128:128+2351] = e_data[index]    \n",
    "    return m_x"
   ]
  },
  {
   "cell_type": "code",
   "execution_count": null,
   "metadata": {},
   "outputs": [],
   "source": [
    "merge_train_x = merge_feature(malcon_train_x, x_etrain)\n",
    "merge_val_x = merge_feature(malcon_val_x, x_eval)\n",
    "merge_test_x = merge_feature(malcon_test_x, x_etest)\n",
    "\n",
    "model_m = get_model(merge_train_x, y_train[0:len(merge_train_x)], merge_val_x, y_val[0:len(merge_val_x)] )"
   ]
  },
  {
   "cell_type": "code",
   "execution_count": null,
   "metadata": {},
   "outputs": [],
   "source": [
    "y_p = model_m.predict(merge_test_x)\n",
    "y_pred = np.zeros((len(y_p), 1))\n",
    "for i in range(len(y_p)):\n",
    "    y_pred[i, 0] = y_p[i]\n",
    "\n",
    "estimate_model(y_pred, y_test[0:len(merge_test_x)])"
   ]
  }
 ],
 "metadata": {
  "kernelspec": {
   "display_name": "Python 3",
   "language": "python",
   "name": "python3"
  },
  "language_info": {
   "codemirror_mode": {
    "name": "ipython",
    "version": 3
   },
   "file_extension": ".py",
   "mimetype": "text/x-python",
   "name": "python",
   "nbconvert_exporter": "python",
   "pygments_lexer": "ipython3",
   "version": "3.5.5"
  }
 },
 "nbformat": 4,
 "nbformat_minor": 2
}
